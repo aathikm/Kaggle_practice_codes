{
 "cells": [
  {
   "cell_type": "code",
   "execution_count": 1,
   "id": "08cada7c",
   "metadata": {
    "_cell_guid": "b1076dfc-b9ad-4769-8c92-a6c4dae69d19",
    "_uuid": "8f2839f25d086af736a60e9eeb907d3b93b6e0e5",
    "execution": {
     "iopub.execute_input": "2022-01-07T03:36:05.773704Z",
     "iopub.status.busy": "2022-01-07T03:36:05.772500Z",
     "iopub.status.idle": "2022-01-07T03:36:08.025172Z",
     "shell.execute_reply": "2022-01-07T03:36:08.024040Z",
     "shell.execute_reply.started": "2022-01-03T09:24:12.049569Z"
    },
    "papermill": {
     "duration": 2.280266,
     "end_time": "2022-01-07T03:36:08.025405",
     "exception": false,
     "start_time": "2022-01-07T03:36:05.745139",
     "status": "completed"
    },
    "tags": []
   },
   "outputs": [],
   "source": [
    "import pandas as pd\n",
    "import numpy as np\n",
    "import seaborn as sns\n",
    "import matplotlib.pyplot as plt\n",
    "import plotly.express as px\n",
    "import plotly.graph_objects as go\n",
    "\n",
    "%matplotlib inline\n",
    "sns.set_style('whitegrid')"
   ]
  },
  {
   "cell_type": "markdown",
   "id": "cc52d308",
   "metadata": {
    "papermill": {
     "duration": 0.023173,
     "end_time": "2022-01-07T03:36:08.073462",
     "exception": false,
     "start_time": "2022-01-07T03:36:08.050289",
     "status": "completed"
    },
    "tags": []
   },
   "source": [
    "# Data Analysis"
   ]
  },
  {
   "cell_type": "code",
   "execution_count": 2,
   "id": "e5da0648",
   "metadata": {
    "execution": {
     "iopub.execute_input": "2022-01-07T03:36:08.122009Z",
     "iopub.status.busy": "2022-01-07T03:36:08.120896Z",
     "iopub.status.idle": "2022-01-07T03:36:08.143867Z",
     "shell.execute_reply": "2022-01-07T03:36:08.144495Z",
     "shell.execute_reply.started": "2022-01-03T09:24:14.209807Z"
    },
    "papermill": {
     "duration": 0.0494,
     "end_time": "2022-01-07T03:36:08.144719",
     "exception": false,
     "start_time": "2022-01-07T03:36:08.095319",
     "status": "completed"
    },
    "tags": []
   },
   "outputs": [],
   "source": [
    "df = pd.read_csv('../input/heart-failure-prediction/heart.csv')"
   ]
  },
  {
   "cell_type": "code",
   "execution_count": 3,
   "id": "ebf60de5",
   "metadata": {
    "execution": {
     "iopub.execute_input": "2022-01-07T03:36:08.195548Z",
     "iopub.status.busy": "2022-01-07T03:36:08.194460Z",
     "iopub.status.idle": "2022-01-07T03:36:08.220789Z",
     "shell.execute_reply": "2022-01-07T03:36:08.221278Z",
     "shell.execute_reply.started": "2022-01-03T09:24:14.232801Z"
    },
    "papermill": {
     "duration": 0.05288,
     "end_time": "2022-01-07T03:36:08.221484",
     "exception": false,
     "start_time": "2022-01-07T03:36:08.168604",
     "status": "completed"
    },
    "tags": []
   },
   "outputs": [
    {
     "data": {
      "text/html": [
       "<div>\n",
       "<style scoped>\n",
       "    .dataframe tbody tr th:only-of-type {\n",
       "        vertical-align: middle;\n",
       "    }\n",
       "\n",
       "    .dataframe tbody tr th {\n",
       "        vertical-align: top;\n",
       "    }\n",
       "\n",
       "    .dataframe thead th {\n",
       "        text-align: right;\n",
       "    }\n",
       "</style>\n",
       "<table border=\"1\" class=\"dataframe\">\n",
       "  <thead>\n",
       "    <tr style=\"text-align: right;\">\n",
       "      <th></th>\n",
       "      <th>Age</th>\n",
       "      <th>Sex</th>\n",
       "      <th>ChestPainType</th>\n",
       "      <th>RestingBP</th>\n",
       "      <th>Cholesterol</th>\n",
       "      <th>FastingBS</th>\n",
       "      <th>RestingECG</th>\n",
       "      <th>MaxHR</th>\n",
       "      <th>ExerciseAngina</th>\n",
       "      <th>Oldpeak</th>\n",
       "      <th>ST_Slope</th>\n",
       "      <th>HeartDisease</th>\n",
       "    </tr>\n",
       "  </thead>\n",
       "  <tbody>\n",
       "    <tr>\n",
       "      <th>0</th>\n",
       "      <td>40</td>\n",
       "      <td>M</td>\n",
       "      <td>ATA</td>\n",
       "      <td>140</td>\n",
       "      <td>289</td>\n",
       "      <td>0</td>\n",
       "      <td>Normal</td>\n",
       "      <td>172</td>\n",
       "      <td>N</td>\n",
       "      <td>0.0</td>\n",
       "      <td>Up</td>\n",
       "      <td>0</td>\n",
       "    </tr>\n",
       "    <tr>\n",
       "      <th>1</th>\n",
       "      <td>49</td>\n",
       "      <td>F</td>\n",
       "      <td>NAP</td>\n",
       "      <td>160</td>\n",
       "      <td>180</td>\n",
       "      <td>0</td>\n",
       "      <td>Normal</td>\n",
       "      <td>156</td>\n",
       "      <td>N</td>\n",
       "      <td>1.0</td>\n",
       "      <td>Flat</td>\n",
       "      <td>1</td>\n",
       "    </tr>\n",
       "    <tr>\n",
       "      <th>2</th>\n",
       "      <td>37</td>\n",
       "      <td>M</td>\n",
       "      <td>ATA</td>\n",
       "      <td>130</td>\n",
       "      <td>283</td>\n",
       "      <td>0</td>\n",
       "      <td>ST</td>\n",
       "      <td>98</td>\n",
       "      <td>N</td>\n",
       "      <td>0.0</td>\n",
       "      <td>Up</td>\n",
       "      <td>0</td>\n",
       "    </tr>\n",
       "    <tr>\n",
       "      <th>3</th>\n",
       "      <td>48</td>\n",
       "      <td>F</td>\n",
       "      <td>ASY</td>\n",
       "      <td>138</td>\n",
       "      <td>214</td>\n",
       "      <td>0</td>\n",
       "      <td>Normal</td>\n",
       "      <td>108</td>\n",
       "      <td>Y</td>\n",
       "      <td>1.5</td>\n",
       "      <td>Flat</td>\n",
       "      <td>1</td>\n",
       "    </tr>\n",
       "    <tr>\n",
       "      <th>4</th>\n",
       "      <td>54</td>\n",
       "      <td>M</td>\n",
       "      <td>NAP</td>\n",
       "      <td>150</td>\n",
       "      <td>195</td>\n",
       "      <td>0</td>\n",
       "      <td>Normal</td>\n",
       "      <td>122</td>\n",
       "      <td>N</td>\n",
       "      <td>0.0</td>\n",
       "      <td>Up</td>\n",
       "      <td>0</td>\n",
       "    </tr>\n",
       "  </tbody>\n",
       "</table>\n",
       "</div>"
      ],
      "text/plain": [
       "   Age Sex ChestPainType  RestingBP  Cholesterol  FastingBS RestingECG  MaxHR  \\\n",
       "0   40   M           ATA        140          289          0     Normal    172   \n",
       "1   49   F           NAP        160          180          0     Normal    156   \n",
       "2   37   M           ATA        130          283          0         ST     98   \n",
       "3   48   F           ASY        138          214          0     Normal    108   \n",
       "4   54   M           NAP        150          195          0     Normal    122   \n",
       "\n",
       "  ExerciseAngina  Oldpeak ST_Slope  HeartDisease  \n",
       "0              N      0.0       Up             0  \n",
       "1              N      1.0     Flat             1  \n",
       "2              N      0.0       Up             0  \n",
       "3              Y      1.5     Flat             1  \n",
       "4              N      0.0       Up             0  "
      ]
     },
     "execution_count": 3,
     "metadata": {},
     "output_type": "execute_result"
    }
   ],
   "source": [
    "df.head()"
   ]
  },
  {
   "cell_type": "markdown",
   "id": "01f8934b",
   "metadata": {
    "papermill": {
     "duration": 0.022691,
     "end_time": "2022-01-07T03:36:08.267023",
     "exception": false,
     "start_time": "2022-01-07T03:36:08.244332",
     "status": "completed"
    },
    "tags": []
   },
   "source": [
    "# Exploratory Data Analysis"
   ]
  },
  {
   "cell_type": "code",
   "execution_count": 4,
   "id": "ec7244bf",
   "metadata": {
    "execution": {
     "iopub.execute_input": "2022-01-07T03:36:08.321993Z",
     "iopub.status.busy": "2022-01-07T03:36:08.321263Z",
     "iopub.status.idle": "2022-01-07T03:36:08.341384Z",
     "shell.execute_reply": "2022-01-07T03:36:08.342177Z",
     "shell.execute_reply.started": "2022-01-03T09:24:14.258698Z"
    },
    "papermill": {
     "duration": 0.051184,
     "end_time": "2022-01-07T03:36:08.342487",
     "exception": false,
     "start_time": "2022-01-07T03:36:08.291303",
     "status": "completed"
    },
    "tags": []
   },
   "outputs": [
    {
     "name": "stdout",
     "output_type": "stream",
     "text": [
      "<class 'pandas.core.frame.DataFrame'>\n",
      "RangeIndex: 918 entries, 0 to 917\n",
      "Data columns (total 12 columns):\n",
      " #   Column          Non-Null Count  Dtype  \n",
      "---  ------          --------------  -----  \n",
      " 0   Age             918 non-null    int64  \n",
      " 1   Sex             918 non-null    object \n",
      " 2   ChestPainType   918 non-null    object \n",
      " 3   RestingBP       918 non-null    int64  \n",
      " 4   Cholesterol     918 non-null    int64  \n",
      " 5   FastingBS       918 non-null    int64  \n",
      " 6   RestingECG      918 non-null    object \n",
      " 7   MaxHR           918 non-null    int64  \n",
      " 8   ExerciseAngina  918 non-null    object \n",
      " 9   Oldpeak         918 non-null    float64\n",
      " 10  ST_Slope        918 non-null    object \n",
      " 11  HeartDisease    918 non-null    int64  \n",
      "dtypes: float64(1), int64(6), object(5)\n",
      "memory usage: 86.2+ KB\n"
     ]
    }
   ],
   "source": [
    "df.info() #checking information about given dataset"
   ]
  },
  {
   "cell_type": "code",
   "execution_count": 5,
   "id": "74522321",
   "metadata": {
    "execution": {
     "iopub.execute_input": "2022-01-07T03:36:08.400567Z",
     "iopub.status.busy": "2022-01-07T03:36:08.399762Z",
     "iopub.status.idle": "2022-01-07T03:36:08.410754Z",
     "shell.execute_reply": "2022-01-07T03:36:08.409899Z",
     "shell.execute_reply.started": "2022-01-03T09:24:14.284746Z"
    },
    "papermill": {
     "duration": 0.042605,
     "end_time": "2022-01-07T03:36:08.410957",
     "exception": false,
     "start_time": "2022-01-07T03:36:08.368352",
     "status": "completed"
    },
    "tags": []
   },
   "outputs": [
    {
     "data": {
      "text/plain": [
       "Age               0\n",
       "Sex               0\n",
       "ChestPainType     0\n",
       "RestingBP         0\n",
       "Cholesterol       0\n",
       "FastingBS         0\n",
       "RestingECG        0\n",
       "MaxHR             0\n",
       "ExerciseAngina    0\n",
       "Oldpeak           0\n",
       "ST_Slope          0\n",
       "HeartDisease      0\n",
       "dtype: int64"
      ]
     },
     "execution_count": 5,
     "metadata": {},
     "output_type": "execute_result"
    }
   ],
   "source": [
    "df.isnull().sum() #checking missing values"
   ]
  },
  {
   "cell_type": "code",
   "execution_count": 6,
   "id": "6c3e8857",
   "metadata": {
    "execution": {
     "iopub.execute_input": "2022-01-07T03:36:08.465390Z",
     "iopub.status.busy": "2022-01-07T03:36:08.464609Z",
     "iopub.status.idle": "2022-01-07T03:36:08.467374Z",
     "shell.execute_reply": "2022-01-07T03:36:08.467875Z",
     "shell.execute_reply.started": "2022-01-03T09:24:14.294351Z"
    },
    "papermill": {
     "duration": 0.033909,
     "end_time": "2022-01-07T03:36:08.468082",
     "exception": false,
     "start_time": "2022-01-07T03:36:08.434173",
     "status": "completed"
    },
    "tags": []
   },
   "outputs": [
    {
     "data": {
      "text/plain": [
       "Age                 int64\n",
       "Sex                object\n",
       "ChestPainType      object\n",
       "RestingBP           int64\n",
       "Cholesterol         int64\n",
       "FastingBS           int64\n",
       "RestingECG         object\n",
       "MaxHR               int64\n",
       "ExerciseAngina     object\n",
       "Oldpeak           float64\n",
       "ST_Slope           object\n",
       "HeartDisease        int64\n",
       "dtype: object"
      ]
     },
     "execution_count": 6,
     "metadata": {},
     "output_type": "execute_result"
    }
   ],
   "source": [
    "#showing data types\n",
    "df.dtypes"
   ]
  },
  {
   "cell_type": "code",
   "execution_count": 7,
   "id": "48a79144",
   "metadata": {
    "execution": {
     "iopub.execute_input": "2022-01-07T03:36:08.520905Z",
     "iopub.status.busy": "2022-01-07T03:36:08.520083Z",
     "iopub.status.idle": "2022-01-07T03:36:08.555987Z",
     "shell.execute_reply": "2022-01-07T03:36:08.556565Z",
     "shell.execute_reply.started": "2022-01-03T09:24:14.309448Z"
    },
    "papermill": {
     "duration": 0.063348,
     "end_time": "2022-01-07T03:36:08.556768",
     "exception": false,
     "start_time": "2022-01-07T03:36:08.493420",
     "status": "completed"
    },
    "tags": []
   },
   "outputs": [
    {
     "data": {
      "text/html": [
       "<div>\n",
       "<style scoped>\n",
       "    .dataframe tbody tr th:only-of-type {\n",
       "        vertical-align: middle;\n",
       "    }\n",
       "\n",
       "    .dataframe tbody tr th {\n",
       "        vertical-align: top;\n",
       "    }\n",
       "\n",
       "    .dataframe thead th {\n",
       "        text-align: right;\n",
       "    }\n",
       "</style>\n",
       "<table border=\"1\" class=\"dataframe\">\n",
       "  <thead>\n",
       "    <tr style=\"text-align: right;\">\n",
       "      <th></th>\n",
       "      <th>count</th>\n",
       "      <th>mean</th>\n",
       "      <th>std</th>\n",
       "      <th>min</th>\n",
       "      <th>25%</th>\n",
       "      <th>50%</th>\n",
       "      <th>75%</th>\n",
       "      <th>max</th>\n",
       "    </tr>\n",
       "  </thead>\n",
       "  <tbody>\n",
       "    <tr>\n",
       "      <th>Age</th>\n",
       "      <td>918.0</td>\n",
       "      <td>53.510893</td>\n",
       "      <td>9.432617</td>\n",
       "      <td>28.0</td>\n",
       "      <td>47.00</td>\n",
       "      <td>54.0</td>\n",
       "      <td>60.0</td>\n",
       "      <td>77.0</td>\n",
       "    </tr>\n",
       "    <tr>\n",
       "      <th>RestingBP</th>\n",
       "      <td>918.0</td>\n",
       "      <td>132.396514</td>\n",
       "      <td>18.514154</td>\n",
       "      <td>0.0</td>\n",
       "      <td>120.00</td>\n",
       "      <td>130.0</td>\n",
       "      <td>140.0</td>\n",
       "      <td>200.0</td>\n",
       "    </tr>\n",
       "    <tr>\n",
       "      <th>Cholesterol</th>\n",
       "      <td>918.0</td>\n",
       "      <td>198.799564</td>\n",
       "      <td>109.384145</td>\n",
       "      <td>0.0</td>\n",
       "      <td>173.25</td>\n",
       "      <td>223.0</td>\n",
       "      <td>267.0</td>\n",
       "      <td>603.0</td>\n",
       "    </tr>\n",
       "    <tr>\n",
       "      <th>FastingBS</th>\n",
       "      <td>918.0</td>\n",
       "      <td>0.233115</td>\n",
       "      <td>0.423046</td>\n",
       "      <td>0.0</td>\n",
       "      <td>0.00</td>\n",
       "      <td>0.0</td>\n",
       "      <td>0.0</td>\n",
       "      <td>1.0</td>\n",
       "    </tr>\n",
       "    <tr>\n",
       "      <th>MaxHR</th>\n",
       "      <td>918.0</td>\n",
       "      <td>136.809368</td>\n",
       "      <td>25.460334</td>\n",
       "      <td>60.0</td>\n",
       "      <td>120.00</td>\n",
       "      <td>138.0</td>\n",
       "      <td>156.0</td>\n",
       "      <td>202.0</td>\n",
       "    </tr>\n",
       "    <tr>\n",
       "      <th>Oldpeak</th>\n",
       "      <td>918.0</td>\n",
       "      <td>0.887364</td>\n",
       "      <td>1.066570</td>\n",
       "      <td>-2.6</td>\n",
       "      <td>0.00</td>\n",
       "      <td>0.6</td>\n",
       "      <td>1.5</td>\n",
       "      <td>6.2</td>\n",
       "    </tr>\n",
       "    <tr>\n",
       "      <th>HeartDisease</th>\n",
       "      <td>918.0</td>\n",
       "      <td>0.553377</td>\n",
       "      <td>0.497414</td>\n",
       "      <td>0.0</td>\n",
       "      <td>0.00</td>\n",
       "      <td>1.0</td>\n",
       "      <td>1.0</td>\n",
       "      <td>1.0</td>\n",
       "    </tr>\n",
       "  </tbody>\n",
       "</table>\n",
       "</div>"
      ],
      "text/plain": [
       "              count        mean         std   min     25%    50%    75%    max\n",
       "Age           918.0   53.510893    9.432617  28.0   47.00   54.0   60.0   77.0\n",
       "RestingBP     918.0  132.396514   18.514154   0.0  120.00  130.0  140.0  200.0\n",
       "Cholesterol   918.0  198.799564  109.384145   0.0  173.25  223.0  267.0  603.0\n",
       "FastingBS     918.0    0.233115    0.423046   0.0    0.00    0.0    0.0    1.0\n",
       "MaxHR         918.0  136.809368   25.460334  60.0  120.00  138.0  156.0  202.0\n",
       "Oldpeak       918.0    0.887364    1.066570  -2.6    0.00    0.6    1.5    6.2\n",
       "HeartDisease  918.0    0.553377    0.497414   0.0    0.00    1.0    1.0    1.0"
      ]
     },
     "execution_count": 7,
     "metadata": {},
     "output_type": "execute_result"
    }
   ],
   "source": [
    "df.describe().T"
   ]
  },
  {
   "cell_type": "markdown",
   "id": "1382db5f",
   "metadata": {
    "papermill": {
     "duration": 0.025337,
     "end_time": "2022-01-07T03:36:08.606233",
     "exception": false,
     "start_time": "2022-01-07T03:36:08.580896",
     "status": "completed"
    },
    "tags": []
   },
   "source": [
    "Univariate Analysis"
   ]
  },
  {
   "cell_type": "code",
   "execution_count": 8,
   "id": "84c72469",
   "metadata": {
    "execution": {
     "iopub.execute_input": "2022-01-07T03:36:08.661058Z",
     "iopub.status.busy": "2022-01-07T03:36:08.660015Z",
     "iopub.status.idle": "2022-01-07T03:36:08.663745Z",
     "shell.execute_reply": "2022-01-07T03:36:08.663236Z",
     "shell.execute_reply.started": "2022-01-03T09:24:14.354432Z"
    },
    "papermill": {
     "duration": 0.033891,
     "end_time": "2022-01-07T03:36:08.663896",
     "exception": false,
     "start_time": "2022-01-07T03:36:08.630005",
     "status": "completed"
    },
    "tags": []
   },
   "outputs": [
    {
     "data": {
      "text/plain": [
       "Index(['Age', 'Sex', 'ChestPainType', 'RestingBP', 'Cholesterol', 'FastingBS',\n",
       "       'RestingECG', 'MaxHR', 'ExerciseAngina', 'Oldpeak', 'ST_Slope',\n",
       "       'HeartDisease'],\n",
       "      dtype='object')"
      ]
     },
     "execution_count": 8,
     "metadata": {},
     "output_type": "execute_result"
    }
   ],
   "source": [
    "df.columns"
   ]
  },
  {
   "cell_type": "code",
   "execution_count": 9,
   "id": "b3e6506d",
   "metadata": {
    "execution": {
     "iopub.execute_input": "2022-01-07T03:36:08.721224Z",
     "iopub.status.busy": "2022-01-07T03:36:08.720362Z",
     "iopub.status.idle": "2022-01-07T03:36:09.044017Z",
     "shell.execute_reply": "2022-01-07T03:36:09.043487Z",
     "shell.execute_reply.started": "2022-01-03T09:24:14.362578Z"
    },
    "papermill": {
     "duration": 0.355033,
     "end_time": "2022-01-07T03:36:09.044184",
     "exception": false,
     "start_time": "2022-01-07T03:36:08.689151",
     "status": "completed"
    },
    "tags": []
   },
   "outputs": [
    {
     "data": {
      "text/plain": [
       "<AxesSubplot:ylabel='Frequency'>"
      ]
     },
     "execution_count": 9,
     "metadata": {},
     "output_type": "execute_result"
    },
    {
     "data": {
      "image/png": "[encoded data removed]",
      "text/plain": [
       "<Figure size 432x288 with 1 Axes>"
      ]
     },
     "metadata": {},
     "output_type": "display_data"
    }
   ],
   "source": [
    "df['Age'].plot(kind = 'hist')"
   ]
  },
  {
   "cell_type": "code",
   "execution_count": 10,
   "id": "87482b6c",
   "metadata": {
    "execution": {
     "iopub.execute_input": "2022-01-07T03:36:09.107659Z",
     "iopub.status.busy": "2022-01-07T03:36:09.106579Z",
     "iopub.status.idle": "2022-01-07T03:36:09.496085Z",
     "shell.execute_reply": "2022-01-07T03:36:09.495401Z",
     "shell.execute_reply.started": "2022-01-03T09:24:14.690426Z"
    },
    "papermill": {
     "duration": 0.425757,
     "end_time": "2022-01-07T03:36:09.496265",
     "exception": false,
     "start_time": "2022-01-07T03:36:09.070508",
     "status": "completed"
    },
    "tags": []
   },
   "outputs": [
    {
     "name": "stdout",
     "output_type": "stream",
     "text": [
      "Mean Age of patients: 53.510893246187365\n"
     ]
    },
    {
     "name": "stderr",
     "output_type": "stream",
     "text": [
      "/opt/conda/lib/python3.7/site-packages/seaborn/distributions.py:2619: FutureWarning: `distplot` is a deprecated function and will be removed in a future version. Please adapt your code to use either `displot` (a figure-level function with similar flexibility) or `histplot` (an axes-level function for histograms).\n",
      "  warnings.warn(msg, FutureWarning)\n"
     ]
    },
    {
     "data": {
      "text/plain": [
       "<matplotlib.lines.Line2D at 0x7f7448ff6ed0>"
      ]
     },
     "execution_count": 10,
     "metadata": {},
     "output_type": "execute_result"
    },
    {
     "data": {
      "image/png": "[encoded data removed]",
      "text/plain": [
       "<Figure size 720x432 with 1 Axes>"
      ]
     },
     "metadata": {},
     "output_type": "display_data"
    }
   ],
   "source": [
    "#Distribution plot \n",
    "Age_m = df['Age'].describe()\n",
    "print('Mean Age of patients: {}'.format(Age_m['mean']))\n",
    "\n",
    "plt.figure(figsize = (10, 6))\n",
    "sns.distplot(df['Age'])\n",
    "plt.title('Age Distribution plot')\n",
    "plt.axvline(Age_m['mean'], linestyle = '--', color = \"red\")"
   ]
  },
  {
   "cell_type": "code",
   "execution_count": 11,
   "id": "8f8084e1",
   "metadata": {
    "execution": {
     "iopub.execute_input": "2022-01-07T03:36:09.553805Z",
     "iopub.status.busy": "2022-01-07T03:36:09.553060Z",
     "iopub.status.idle": "2022-01-07T03:36:09.561141Z",
     "shell.execute_reply": "2022-01-07T03:36:09.560584Z",
     "shell.execute_reply.started": "2022-01-03T09:24:15.203012Z"
    },
    "papermill": {
     "duration": 0.038221,
     "end_time": "2022-01-07T03:36:09.561332",
     "exception": false,
     "start_time": "2022-01-07T03:36:09.523111",
     "status": "completed"
    },
    "tags": []
   },
   "outputs": [
    {
     "data": {
      "text/plain": [
       "M    725\n",
       "F    193\n",
       "Name: Sex, dtype: int64"
      ]
     },
     "execution_count": 11,
     "metadata": {},
     "output_type": "execute_result"
    }
   ],
   "source": [
    "#Analysis of sex\n",
    "df['Sex'].value_counts()"
   ]
  },
  {
   "cell_type": "code",
   "execution_count": 12,
   "id": "d4919398",
   "metadata": {
    "execution": {
     "iopub.execute_input": "2022-01-07T03:36:09.620763Z",
     "iopub.status.busy": "2022-01-07T03:36:09.619821Z",
     "iopub.status.idle": "2022-01-07T03:36:10.001305Z",
     "shell.execute_reply": "2022-01-07T03:36:10.000703Z",
     "shell.execute_reply.started": "2022-01-03T09:24:15.215394Z"
    },
    "papermill": {
     "duration": 0.412713,
     "end_time": "2022-01-07T03:36:10.001529",
     "exception": false,
     "start_time": "2022-01-07T03:36:09.588816",
     "status": "completed"
    },
    "tags": []
   },
   "outputs": [
    {
     "name": "stderr",
     "output_type": "stream",
     "text": [
      "/opt/conda/lib/python3.7/site-packages/seaborn/_decorators.py:43: FutureWarning: Pass the following variable as a keyword arg: x. From version 0.12, the only valid positional argument will be `data`, and passing other arguments without an explicit keyword will result in an error or misinterpretation.\n",
      "  FutureWarning\n"
     ]
    },
    {
     "data": {
      "text/plain": [
       "Text(0.5, 1.0, 'Patients gender')"
      ]
     },
     "execution_count": 12,
     "metadata": {},
     "output_type": "execute_result"
    },
    {
     "data": {
      "image/png": "[encoded data removed]",
      "text/plain": [
       "<Figure size 432x288 with 1 Axes>"
      ]
     },
     "metadata": {},
     "output_type": "display_data"
    }
   ],
   "source": [
    "sns.countplot(df['Sex'])\n",
    "plt.title(\"Patients gender\")"
   ]
  },
  {
   "cell_type": "code",
   "execution_count": 13,
   "id": "79dd8e96",
   "metadata": {
    "execution": {
     "iopub.execute_input": "2022-01-07T03:36:10.066078Z",
     "iopub.status.busy": "2022-01-07T03:36:10.065400Z",
     "iopub.status.idle": "2022-01-07T03:36:10.068563Z",
     "shell.execute_reply": "2022-01-07T03:36:10.068996Z",
     "shell.execute_reply.started": "2022-01-03T09:24:15.43578Z"
    },
    "papermill": {
     "duration": 0.038833,
     "end_time": "2022-01-07T03:36:10.069194",
     "exception": false,
     "start_time": "2022-01-07T03:36:10.030361",
     "status": "completed"
    },
    "tags": []
   },
   "outputs": [
    {
     "data": {
      "text/plain": [
       "ASY    496\n",
       "NAP    203\n",
       "ATA    173\n",
       "TA      46\n",
       "Name: ChestPainType, dtype: int64"
      ]
     },
     "execution_count": 13,
     "metadata": {},
     "output_type": "execute_result"
    }
   ],
   "source": [
    "#Analysis of Chestpain\n",
    "df['ChestPainType'].value_counts()"
   ]
  },
  {
   "cell_type": "code",
   "execution_count": 14,
   "id": "57a31d67",
   "metadata": {
    "execution": {
     "iopub.execute_input": "2022-01-07T03:36:10.135575Z",
     "iopub.status.busy": "2022-01-07T03:36:10.130613Z",
     "iopub.status.idle": "2022-01-07T03:36:10.353683Z",
     "shell.execute_reply": "2022-01-07T03:36:10.353079Z",
     "shell.execute_reply.started": "2022-01-03T09:24:15.449081Z"
    },
    "papermill": {
     "duration": 0.255573,
     "end_time": "2022-01-07T03:36:10.353836",
     "exception": false,
     "start_time": "2022-01-07T03:36:10.098263",
     "status": "completed"
    },
    "tags": []
   },
   "outputs": [
    {
     "name": "stderr",
     "output_type": "stream",
     "text": [
      "/opt/conda/lib/python3.7/site-packages/seaborn/_decorators.py:43: FutureWarning: Pass the following variable as a keyword arg: x. From version 0.12, the only valid positional argument will be `data`, and passing other arguments without an explicit keyword will result in an error or misinterpretation.\n",
      "  FutureWarning\n"
     ]
    },
    {
     "data": {
      "text/plain": [
       "Text(0.5, 1.0, 'Chest Pain Type')"
      ]
     },
     "execution_count": 14,
     "metadata": {},
     "output_type": "execute_result"
    },
    {
     "data": {
      "image/png": "[encoded data removed]",
      "text/plain": [
       "<Figure size 432x288 with 1 Axes>"
      ]
     },
     "metadata": {},
     "output_type": "display_data"
    }
   ],
   "source": [
    "sns.countplot(df['ChestPainType'])\n",
    "plt.title('Chest Pain Type')"
   ]
  },
  {
   "cell_type": "code",
   "execution_count": 15,
   "id": "581867a3",
   "metadata": {
    "execution": {
     "iopub.execute_input": "2022-01-07T03:36:10.421012Z",
     "iopub.status.busy": "2022-01-07T03:36:10.420132Z",
     "iopub.status.idle": "2022-01-07T03:36:10.722566Z",
     "shell.execute_reply": "2022-01-07T03:36:10.721963Z",
     "shell.execute_reply.started": "2022-01-03T09:24:15.668447Z"
    },
    "papermill": {
     "duration": 0.339688,
     "end_time": "2022-01-07T03:36:10.722745",
     "exception": false,
     "start_time": "2022-01-07T03:36:10.383057",
     "status": "completed"
    },
    "tags": []
   },
   "outputs": [
    {
     "data": {
      "text/plain": [
       "<AxesSubplot:ylabel='Frequency'>"
      ]
     },
     "execution_count": 15,
     "metadata": {},
     "output_type": "execute_result"
    },
    {
     "data": {
      "image/png": "[encoded data removed]",
      "text/plain": [
       "<Figure size 432x288 with 1 Axes>"
      ]
     },
     "metadata": {},
     "output_type": "display_data"
    }
   ],
   "source": [
    "df['RestingBP'].plot(kind = 'hist')"
   ]
  },
  {
   "cell_type": "code",
   "execution_count": 16,
   "id": "ac195d64",
   "metadata": {
    "execution": {
     "iopub.execute_input": "2022-01-07T03:36:10.795454Z",
     "iopub.status.busy": "2022-01-07T03:36:10.794467Z",
     "iopub.status.idle": "2022-01-07T03:36:11.236866Z",
     "shell.execute_reply": "2022-01-07T03:36:11.236227Z",
     "shell.execute_reply.started": "2022-01-03T09:24:15.973464Z"
    },
    "papermill": {
     "duration": 0.483077,
     "end_time": "2022-01-07T03:36:11.237055",
     "exception": false,
     "start_time": "2022-01-07T03:36:10.753978",
     "status": "completed"
    },
    "tags": []
   },
   "outputs": [
    {
     "name": "stdout",
     "output_type": "stream",
     "text": [
      "Resting BP mean: 132.39651416122004\n"
     ]
    },
    {
     "name": "stderr",
     "output_type": "stream",
     "text": [
      "/opt/conda/lib/python3.7/site-packages/seaborn/distributions.py:2619: FutureWarning: `distplot` is a deprecated function and will be removed in a future version. Please adapt your code to use either `displot` (a figure-level function with similar flexibility) or `histplot` (an axes-level function for histograms).\n",
      "  warnings.warn(msg, FutureWarning)\n"
     ]
    },
    {
     "data": {
      "text/plain": [
       "<matplotlib.lines.Line2D at 0x7f7448d31dd0>"
      ]
     },
     "execution_count": 16,
     "metadata": {},
     "output_type": "execute_result"
    },
    {
     "data": {
      "image/png": "[encoded data removed]",
      "text/plain": [
       "<Figure size 720x432 with 1 Axes>"
      ]
     },
     "metadata": {},
     "output_type": "display_data"
    }
   ],
   "source": [
    "resting_m = df['RestingBP'].describe()\n",
    "print(\"Resting BP mean: {}\".format(resting_m['mean']))\n",
    "\n",
    "plt.figure(figsize=(10, 6))\n",
    "sns.distplot(df['RestingBP'])\n",
    "plt.title(\"Resting BP Distribution\")\n",
    "plt.axvline(resting_m['mean'], linestyle = '--', color = 'red')"
   ]
  },
  {
   "cell_type": "code",
   "execution_count": 17,
   "id": "7408dfdc",
   "metadata": {
    "execution": {
     "iopub.execute_input": "2022-01-07T03:36:11.304515Z",
     "iopub.status.busy": "2022-01-07T03:36:11.303800Z",
     "iopub.status.idle": "2022-01-07T03:36:11.591857Z",
     "shell.execute_reply": "2022-01-07T03:36:11.591188Z",
     "shell.execute_reply.started": "2022-01-03T09:24:16.423456Z"
    },
    "papermill": {
     "duration": 0.323072,
     "end_time": "2022-01-07T03:36:11.592037",
     "exception": false,
     "start_time": "2022-01-07T03:36:11.268965",
     "status": "completed"
    },
    "tags": []
   },
   "outputs": [
    {
     "data": {
      "text/plain": [
       "<AxesSubplot:ylabel='Frequency'>"
      ]
     },
     "execution_count": 17,
     "metadata": {},
     "output_type": "execute_result"
    },
    {
     "data": {
      "image/png": "[encoded data removed]",
      "text/plain": [
       "<Figure size 432x288 with 1 Axes>"
      ]
     },
     "metadata": {},
     "output_type": "display_data"
    }
   ],
   "source": [
    "df['Cholesterol'].plot(kind = 'hist')"
   ]
  },
  {
   "cell_type": "code",
   "execution_count": 18,
   "id": "d38d83d6",
   "metadata": {
    "execution": {
     "iopub.execute_input": "2022-01-07T03:36:11.687916Z",
     "iopub.status.busy": "2022-01-07T03:36:11.668382Z",
     "iopub.status.idle": "2022-01-07T03:36:12.055282Z",
     "shell.execute_reply": "2022-01-07T03:36:12.055737Z",
     "shell.execute_reply.started": "2022-01-03T09:24:16.718724Z"
    },
    "papermill": {
     "duration": 0.431078,
     "end_time": "2022-01-07T03:36:12.055941",
     "exception": false,
     "start_time": "2022-01-07T03:36:11.624863",
     "status": "completed"
    },
    "tags": []
   },
   "outputs": [
    {
     "name": "stdout",
     "output_type": "stream",
     "text": [
      "Mean value of Cholestrol: 198.7995642701525\n"
     ]
    },
    {
     "name": "stderr",
     "output_type": "stream",
     "text": [
      "/opt/conda/lib/python3.7/site-packages/seaborn/distributions.py:2619: FutureWarning: `distplot` is a deprecated function and will be removed in a future version. Please adapt your code to use either `displot` (a figure-level function with similar flexibility) or `histplot` (an axes-level function for histograms).\n",
      "  warnings.warn(msg, FutureWarning)\n"
     ]
    },
    {
     "data": {
      "text/plain": [
       "<matplotlib.lines.Line2D at 0x7f7448b53890>"
      ]
     },
     "execution_count": 18,
     "metadata": {},
     "output_type": "execute_result"
    },
    {
     "data": {
      "image/png": "[encoded data removed]",
      "text/plain": [
       "<Figure size 720x432 with 1 Axes>"
      ]
     },
     "metadata": {},
     "output_type": "display_data"
    }
   ],
   "source": [
    "chlo_m = df['Cholesterol'].describe()\n",
    "print(\"Mean value of Cholestrol: {}\".format(chlo_m['mean']))\n",
    "\n",
    "plt.figure(figsize=(10, 6))\n",
    "sns.distplot(df['Cholesterol'])\n",
    "plt.title('Cholestrol value distribution')\n",
    "plt.axvline(chlo_m['mean'], linestyle = '--', color = 'red')"
   ]
  },
  {
   "cell_type": "code",
   "execution_count": 19,
   "id": "ce1e53ef",
   "metadata": {
    "execution": {
     "iopub.execute_input": "2022-01-07T03:36:12.131294Z",
     "iopub.status.busy": "2022-01-07T03:36:12.130264Z",
     "iopub.status.idle": "2022-01-07T03:36:12.331819Z",
     "shell.execute_reply": "2022-01-07T03:36:12.332351Z",
     "shell.execute_reply.started": "2022-01-03T09:24:17.130953Z"
    },
    "papermill": {
     "duration": 0.241792,
     "end_time": "2022-01-07T03:36:12.332562",
     "exception": false,
     "start_time": "2022-01-07T03:36:12.090770",
     "status": "completed"
    },
    "tags": []
   },
   "outputs": [
    {
     "name": "stdout",
     "output_type": "stream",
     "text": [
      "0    704\n",
      "1    214\n",
      "Name: FastingBS, dtype: int64\n"
     ]
    },
    {
     "name": "stderr",
     "output_type": "stream",
     "text": [
      "/opt/conda/lib/python3.7/site-packages/seaborn/_decorators.py:43: FutureWarning: Pass the following variable as a keyword arg: x. From version 0.12, the only valid positional argument will be `data`, and passing other arguments without an explicit keyword will result in an error or misinterpretation.\n",
      "  FutureWarning\n"
     ]
    },
    {
     "data": {
      "text/plain": [
       "<AxesSubplot:xlabel='FastingBS', ylabel='count'>"
      ]
     },
     "execution_count": 19,
     "metadata": {},
     "output_type": "execute_result"
    },
    {
     "data": {
      "image/png": "[encoded data removed]",
      "text/plain": [
       "<Figure size 432x288 with 1 Axes>"
      ]
     },
     "metadata": {},
     "output_type": "display_data"
    }
   ],
   "source": [
    "print(df['FastingBS'].value_counts())\n",
    "\n",
    "sns.countplot(df['FastingBS'])"
   ]
  },
  {
   "cell_type": "code",
   "execution_count": 20,
   "id": "a8ddba0c",
   "metadata": {
    "execution": {
     "iopub.execute_input": "2022-01-07T03:36:12.411411Z",
     "iopub.status.busy": "2022-01-07T03:36:12.410692Z",
     "iopub.status.idle": "2022-01-07T03:36:12.612311Z",
     "shell.execute_reply": "2022-01-07T03:36:12.611708Z",
     "shell.execute_reply.started": "2022-01-03T09:24:17.331723Z"
    },
    "papermill": {
     "duration": 0.241982,
     "end_time": "2022-01-07T03:36:12.612485",
     "exception": false,
     "start_time": "2022-01-07T03:36:12.370503",
     "status": "completed"
    },
    "tags": []
   },
   "outputs": [
    {
     "name": "stdout",
     "output_type": "stream",
     "text": [
      "Resting ECG values: \n",
      "Normal    552\n",
      "LVH       188\n",
      "ST        178\n",
      "Name: RestingECG, dtype: int64\n"
     ]
    },
    {
     "name": "stderr",
     "output_type": "stream",
     "text": [
      "/opt/conda/lib/python3.7/site-packages/seaborn/_decorators.py:43: FutureWarning: Pass the following variable as a keyword arg: x. From version 0.12, the only valid positional argument will be `data`, and passing other arguments without an explicit keyword will result in an error or misinterpretation.\n",
      "  FutureWarning\n"
     ]
    },
    {
     "data": {
      "text/plain": [
       "<AxesSubplot:xlabel='RestingECG', ylabel='count'>"
      ]
     },
     "execution_count": 20,
     "metadata": {},
     "output_type": "execute_result"
    },
    {
     "data": {
      "image/png": "[encoded data removed]",
      "text/plain": [
       "<Figure size 432x288 with 1 Axes>"
      ]
     },
     "metadata": {},
     "output_type": "display_data"
    }
   ],
   "source": [
    "#ANalysis of RestingECG\n",
    "print(\"Resting ECG values: \")\n",
    "print(df['RestingECG'].value_counts())\n",
    "\n",
    "sns.countplot(df['RestingECG'])"
   ]
  },
  {
   "cell_type": "code",
   "execution_count": 21,
   "id": "307382c0",
   "metadata": {
    "execution": {
     "iopub.execute_input": "2022-01-07T03:36:12.694894Z",
     "iopub.status.busy": "2022-01-07T03:36:12.694128Z",
     "iopub.status.idle": "2022-01-07T03:36:13.003759Z",
     "shell.execute_reply": "2022-01-07T03:36:13.003177Z",
     "shell.execute_reply.started": "2022-01-03T09:24:17.53681Z"
    },
    "papermill": {
     "duration": 0.35306,
     "end_time": "2022-01-07T03:36:13.003938",
     "exception": false,
     "start_time": "2022-01-07T03:36:12.650878",
     "status": "completed"
    },
    "tags": []
   },
   "outputs": [
    {
     "data": {
      "text/plain": [
       "Text(0.5, 1.0, 'Maximum Heart Rate')"
      ]
     },
     "execution_count": 21,
     "metadata": {},
     "output_type": "execute_result"
    },
    {
     "data": {
      "image/png": "[encoded data removed]",
      "text/plain": [
       "<Figure size 432x288 with 1 Axes>"
      ]
     },
     "metadata": {},
     "output_type": "display_data"
    }
   ],
   "source": [
    "#Analysis of MaxHR\n",
    "#MaxHR - Maximum Heart Rate\n",
    "df['MaxHR'].plot(kind = 'hist') #\n",
    "plt.title('Maximum Heart Rate')"
   ]
  },
  {
   "cell_type": "code",
   "execution_count": 22,
   "id": "7c6461f4",
   "metadata": {
    "execution": {
     "iopub.execute_input": "2022-01-07T03:36:13.086410Z",
     "iopub.status.busy": "2022-01-07T03:36:13.085662Z",
     "iopub.status.idle": "2022-01-07T03:36:13.469499Z",
     "shell.execute_reply": "2022-01-07T03:36:13.468972Z",
     "shell.execute_reply.started": "2022-01-03T09:24:17.859207Z"
    },
    "papermill": {
     "duration": 0.426534,
     "end_time": "2022-01-07T03:36:13.469666",
     "exception": false,
     "start_time": "2022-01-07T03:36:13.043132",
     "status": "completed"
    },
    "tags": []
   },
   "outputs": [
    {
     "name": "stdout",
     "output_type": "stream",
     "text": [
      "Mean Heart Rate value is: 136.80936819172112\n"
     ]
    },
    {
     "name": "stderr",
     "output_type": "stream",
     "text": [
      "/opt/conda/lib/python3.7/site-packages/seaborn/distributions.py:2619: FutureWarning: `distplot` is a deprecated function and will be removed in a future version. Please adapt your code to use either `displot` (a figure-level function with similar flexibility) or `histplot` (an axes-level function for histograms).\n",
      "  warnings.warn(msg, FutureWarning)\n"
     ]
    },
    {
     "data": {
      "text/plain": [
       "Text(0.5, 1.0, 'Maximum heart rate Distribution')"
      ]
     },
     "execution_count": 22,
     "metadata": {},
     "output_type": "execute_result"
    },
    {
     "data": {
      "image/png": "[encoded data removed]",
      "text/plain": [
       "<Figure size 720x432 with 1 Axes>"
      ]
     },
     "metadata": {},
     "output_type": "display_data"
    }
   ],
   "source": [
    "max_m = df['MaxHR'].describe()\n",
    "print(\"Mean Heart Rate value is: {}\".format(max_m['mean']))\n",
    "\n",
    "plt.figure(figsize = (10, 6))\n",
    "sns.distplot(df['MaxHR'])\n",
    "plt.axvline(max_m['mean'], linestyle = '--', color = \"red\")\n",
    "plt.title('Maximum heart rate Distribution')"
   ]
  },
  {
   "cell_type": "code",
   "execution_count": 23,
   "id": "856ee6c5",
   "metadata": {
    "execution": {
     "iopub.execute_input": "2022-01-07T03:36:13.561906Z",
     "iopub.status.busy": "2022-01-07T03:36:13.561219Z",
     "iopub.status.idle": "2022-01-07T03:36:13.748589Z",
     "shell.execute_reply": "2022-01-07T03:36:13.749024Z",
     "shell.execute_reply.started": "2022-01-03T09:24:18.265365Z"
    },
    "papermill": {
     "duration": 0.239101,
     "end_time": "2022-01-07T03:36:13.749237",
     "exception": false,
     "start_time": "2022-01-07T03:36:13.510136",
     "status": "completed"
    },
    "tags": []
   },
   "outputs": [
    {
     "name": "stdout",
     "output_type": "stream",
     "text": [
      "N    547\n",
      "Y    371\n",
      "Name: ExerciseAngina, dtype: int64\n"
     ]
    },
    {
     "name": "stderr",
     "output_type": "stream",
     "text": [
      "/opt/conda/lib/python3.7/site-packages/seaborn/_decorators.py:43: FutureWarning: Pass the following variable as a keyword arg: x. From version 0.12, the only valid positional argument will be `data`, and passing other arguments without an explicit keyword will result in an error or misinterpretation.\n",
      "  FutureWarning\n"
     ]
    },
    {
     "data": {
      "text/plain": [
       "<AxesSubplot:xlabel='ExerciseAngina', ylabel='count'>"
      ]
     },
     "execution_count": 23,
     "metadata": {},
     "output_type": "execute_result"
    },
    {
     "data": {
      "image/png": "[encoded data removed]",
      "text/plain": [
       "<Figure size 432x288 with 1 Axes>"
      ]
     },
     "metadata": {},
     "output_type": "display_data"
    }
   ],
   "source": [
    "print(df['ExerciseAngina'].value_counts())\n",
    "\n",
    "sns.countplot(df['ExerciseAngina'])"
   ]
  },
  {
   "cell_type": "code",
   "execution_count": 24,
   "id": "7ba1256a",
   "metadata": {
    "execution": {
     "iopub.execute_input": "2022-01-07T03:36:13.837474Z",
     "iopub.status.busy": "2022-01-07T03:36:13.836357Z",
     "iopub.status.idle": "2022-01-07T03:36:14.127555Z",
     "shell.execute_reply": "2022-01-07T03:36:14.127020Z",
     "shell.execute_reply.started": "2022-01-03T09:24:18.461458Z"
    },
    "papermill": {
     "duration": 0.336706,
     "end_time": "2022-01-07T03:36:14.127726",
     "exception": false,
     "start_time": "2022-01-07T03:36:13.791020",
     "status": "completed"
    },
    "tags": []
   },
   "outputs": [
    {
     "data": {
      "text/plain": [
       "<AxesSubplot:ylabel='Frequency'>"
      ]
     },
     "execution_count": 24,
     "metadata": {},
     "output_type": "execute_result"
    },
    {
     "data": {
      "image/png": "[encoded data removed]",
      "text/plain": [
       "<Figure size 432x288 with 1 Axes>"
      ]
     },
     "metadata": {},
     "output_type": "display_data"
    }
   ],
   "source": [
    "df['Oldpeak'].plot(kind = \"hist\")"
   ]
  },
  {
   "cell_type": "code",
   "execution_count": 25,
   "id": "ee8f7bb5",
   "metadata": {
    "execution": {
     "iopub.execute_input": "2022-01-07T03:36:14.221532Z",
     "iopub.status.busy": "2022-01-07T03:36:14.220787Z",
     "iopub.status.idle": "2022-01-07T03:36:14.421020Z",
     "shell.execute_reply": "2022-01-07T03:36:14.421605Z",
     "shell.execute_reply.started": "2022-01-03T09:24:18.742686Z"
    },
    "papermill": {
     "duration": 0.24723,
     "end_time": "2022-01-07T03:36:14.421818",
     "exception": false,
     "start_time": "2022-01-07T03:36:14.174588",
     "status": "completed"
    },
    "tags": []
   },
   "outputs": [
    {
     "name": "stdout",
     "output_type": "stream",
     "text": [
      "Flat    460\n",
      "Up      395\n",
      "Down     63\n",
      "Name: ST_Slope, dtype: int64\n"
     ]
    },
    {
     "name": "stderr",
     "output_type": "stream",
     "text": [
      "/opt/conda/lib/python3.7/site-packages/seaborn/_decorators.py:43: FutureWarning: Pass the following variable as a keyword arg: x. From version 0.12, the only valid positional argument will be `data`, and passing other arguments without an explicit keyword will result in an error or misinterpretation.\n",
      "  FutureWarning\n"
     ]
    },
    {
     "data": {
      "text/plain": [
       "<AxesSubplot:xlabel='ST_Slope', ylabel='count'>"
      ]
     },
     "execution_count": 25,
     "metadata": {},
     "output_type": "execute_result"
    },
    {
     "data": {
      "image/png": "[encoded data removed]",
      "text/plain": [
       "<Figure size 432x288 with 1 Axes>"
      ]
     },
     "metadata": {},
     "output_type": "display_data"
    }
   ],
   "source": [
    "print(df['ST_Slope'].value_counts())\n",
    "\n",
    "sns.countplot(df['ST_Slope'])"
   ]
  },
  {
   "cell_type": "code",
   "execution_count": 26,
   "id": "397d4cf5",
   "metadata": {
    "execution": {
     "iopub.execute_input": "2022-01-07T03:36:14.522936Z",
     "iopub.status.busy": "2022-01-07T03:36:14.522193Z",
     "iopub.status.idle": "2022-01-07T03:36:14.801805Z",
     "shell.execute_reply": "2022-01-07T03:36:14.801148Z",
     "shell.execute_reply.started": "2022-01-03T09:24:18.945179Z"
    },
    "papermill": {
     "duration": 0.332982,
     "end_time": "2022-01-07T03:36:14.801985",
     "exception": false,
     "start_time": "2022-01-07T03:36:14.469003",
     "status": "completed"
    },
    "tags": []
   },
   "outputs": [
    {
     "name": "stdout",
     "output_type": "stream",
     "text": [
      "1    508\n",
      "0    410\n",
      "Name: HeartDisease, dtype: int64\n"
     ]
    },
    {
     "data": {
      "text/plain": [
       "<AxesSubplot:ylabel='Frequency'>"
      ]
     },
     "execution_count": 26,
     "metadata": {},
     "output_type": "execute_result"
    },
    {
     "data": {
      "image/png": "[encoded data removed]",
      "text/plain": [
       "<Figure size 432x288 with 1 Axes>"
      ]
     },
     "metadata": {},
     "output_type": "display_data"
    }
   ],
   "source": [
    "print(df['HeartDisease'].value_counts())\n",
    "df['HeartDisease'].plot(kind = 'hist')"
   ]
  },
  {
   "cell_type": "markdown",
   "id": "f7abb8f5",
   "metadata": {
    "papermill": {
     "duration": 0.04712,
     "end_time": "2022-01-07T03:36:14.896456",
     "exception": false,
     "start_time": "2022-01-07T03:36:14.849336",
     "status": "completed"
    },
    "tags": []
   },
   "source": [
    "Bivariate Analysis"
   ]
  },
  {
   "cell_type": "code",
   "execution_count": 27,
   "id": "e9908183",
   "metadata": {
    "execution": {
     "iopub.execute_input": "2022-01-07T03:36:14.993526Z",
     "iopub.status.busy": "2022-01-07T03:36:14.992691Z",
     "iopub.status.idle": "2022-01-07T03:36:16.064120Z",
     "shell.execute_reply": "2022-01-07T03:36:16.064654Z",
     "shell.execute_reply.started": "2022-01-03T09:24:19.234697Z"
    },
    "papermill": {
     "duration": 1.122287,
     "end_time": "2022-01-07T03:36:16.064856",
     "exception": false,
     "start_time": "2022-01-07T03:36:14.942569",
     "status": "completed"
    },
    "tags": []
   },
   "outputs": [
    {
     "data": {
      "text/html": [
       "        <script type=\"text/javascript\">\n",
       "        window.PlotlyConfig = {MathJaxConfig: 'local'};\n",
       "        if (window.MathJax) {MathJax.Hub.Config({SVG: {font: \"STIX-Web\"}});}\n",
       "        if (typeof require !== 'undefined') {\n",
       "        require.undef(\"plotly\");\n",
       "        requirejs.config({\n",
       "            paths: {\n",
       "                'plotly': ['https://cdn.plot.ly/plotly-2.6.3.min']\n",
       "            }\n",
       "        });\n",
       "        require(['plotly'], function(Plotly) {\n",
       "            window._Plotly = Plotly;\n",
       "        });\n",
       "        }\n",
       "        </script>\n",
       "        "
      ]
     },
     "metadata": {},
     "output_type": "display_data"
    },
    {
     "data": {
      "text/html": [
       "<div>                            <div id=\"6e9d97f4-9ef2-4a03-96ac-5828505ae8c5\" class=\"plotly-graph-div\" style=\"height:525px; width:100%;\"></div>            <script type=\"text/javascript\">                require([\"plotly\"], function(Plotly) {                    window.PLOTLYENV=window.PLOTLYENV || {};                                    if (document.getElementById(\"6e9d97f4-9ef2-4a03-96ac-5828505ae8c5\")) {                    Plotly.newPlot(                        \"6e9d97f4-9ef2-4a03-96ac-5828505ae8c5\",                        [{\"alignmentgroup\":\"True\",\"hovertemplate\":\"Sex=M<br>Age=%{x}<br>Cholesterol=%{y}<extra></extra>\",\"legendgroup\":\"M\",\"marker\":{\"color\":\"#636efa\"},\"name\":\"M\",\"notched\":false,\"offsetgroup\":\"M\",\"orientation\":\"v\",\"showlegend\":true,\"x\":[40,37,54,39,54,37,58,39,49,38,60,36,44,44,40,36,53,52,51,53,56,54,41,32,65,35,52,43,59,37,50,36,41,50,45,31,58,54,52,49,45,46,32,52,44,57,44,52,55,46,32,52,49,55,54,63,52,56,66,65,43,55,39,48,58,43,39,56,41,65,51,40,46,57,34,50,39,57,47,38,38,34,46,58,54,42,38,46,56,56,49,39,54,43,52,50,47,53,39,42,50,54,39,48,40,55,41,56,38,49,44,54,59,49,47,42,46,50,48,58,58,29,40,53,49,52,43,54,59,37,52,51,52,46,58,58,41,53,46,50,48,45,49,42,53,47,46,42,56,50,35,35,28,54,48,56,47,39,54,55,29,46,33,55,50,53,38,41,37,40,41,39,41,55,48,48,55,54,55,48,54,54,48,45,49,44,48,61,62,55,36,46,46,59,47,54,52,34,54,45,55,55,59,51,52,60,49,42,59,53,36,48,53,65,32,61,50,57,51,47,60,55,53,51,55,53,58,57,65,60,41,34,53,74,57,56,61,68,59,63,62,46,42,45,59,52,60,60,56,38,40,51,62,72,63,63,43,64,61,52,51,69,59,48,69,36,53,43,56,58,55,67,46,53,38,53,62,47,56,56,56,61,68,57,63,60,66,63,59,61,47,65,70,50,60,50,43,54,61,42,53,55,61,51,70,61,38,57,38,58,52,61,51,65,52,47,35,57,62,59,53,62,54,56,56,54,63,44,60,55,66,66,65,60,60,60,56,59,62,63,57,62,63,46,63,60,58,64,63,74,52,69,51,60,56,55,54,77,63,55,52,64,60,60,58,59,61,40,61,41,57,63,59,51,59,42,55,62,56,53,68,53,60,62,59,51,61,57,56,58,69,67,58,65,63,55,57,65,54,72,75,49,51,60,58,61,67,62,65,63,69,51,62,55,75,40,67,58,60,63,35,62,43,63,68,65,48,63,64,61,50,59,55,45,65,61,49,72,50,64,55,63,59,56,62,74,54,57,62,76,70,48,48,61,66,68,55,62,71,74,53,58,75,56,58,64,54,54,59,55,57,61,41,71,38,55,56,69,64,72,69,56,62,67,57,69,51,48,69,69,64,57,53,37,67,74,63,58,61,64,58,60,57,55,55,56,57,61,61,74,68,62,53,62,46,62,55,58,62,70,57,64,65,56,59,60,59,53,44,61,46,53,64,40,67,48,43,47,58,57,66,59,50,48,61,59,42,48,40,44,46,59,58,49,44,66,42,52,61,62,57,44,63,57,51,47,61,70,45,45,56,58,35,58,41,57,42,62,59,50,59,54,54,52,47,66,58,67,57,63,48,51,59,41,42,46,56,49,54,57,54,62,52,60,66,42,64,54,56,57,64,59,50,51,54,53,52,40,58,41,55,45,56,38,55,58,43,53,65,69,69,67,34,51,46,67,50,42,41,53,43,56,52,70,54,70,54,35,48,77,68,58,60,51,55,52,58,64,37,59,51,58,29,51,54,44,54,65,57,63,41,52,39,45,52,62,43,47,52,68,39,60,65,60,60,54,44,44,51,59,61,55,64,43,60,58,49,48,52,44,57,67,52,43,52,59,64,57,57,47,35,61,58,58,56,56,67,44,63,41,59,45,68,57,38],\"x0\":\" \",\"xaxis\":\"x\",\"y\":[289,283,195,339,208,207,164,204,234,196,248,267,184,288,215,209,260,284,188,518,167,224,172,254,306,264,259,175,318,223,216,340,289,233,224,270,213,365,342,253,224,277,225,246,412,265,215,182,268,163,529,100,206,277,238,223,196,213,139,263,291,229,307,329,263,207,147,85,269,275,179,466,186,260,214,129,241,255,276,297,282,156,240,230,246,228,292,202,388,230,265,241,166,247,331,341,291,243,273,198,168,603,215,159,275,270,291,342,190,185,290,195,264,212,263,196,272,231,238,222,179,243,235,320,187,266,288,216,287,194,225,224,404,238,211,251,237,285,280,209,245,192,297,268,246,249,230,147,184,215,308,257,132,216,263,276,226,280,217,196,263,222,298,256,264,195,117,295,315,281,250,200,336,295,355,193,326,198,292,268,171,237,275,219,341,491,260,292,271,248,160,275,231,126,193,305,298,220,242,225,201,220,213,160,223,246,222,358,169,181,166,211,182,0,0,0,0,0,0,0,0,0,0,0,0,0,0,0,0,0,0,0,0,0,0,0,0,0,0,0,0,0,0,0,0,0,0,0,0,0,0,0,0,0,0,0,0,0,0,0,0,0,0,0,0,0,0,0,0,0,0,0,0,0,0,0,0,0,0,0,0,0,0,0,0,0,0,0,0,0,0,0,0,0,0,0,0,0,0,0,0,0,0,0,0,0,0,0,0,0,0,0,0,0,0,0,0,0,0,0,0,0,0,0,0,0,260,209,218,228,213,0,236,0,0,267,166,0,0,0,0,220,177,236,0,0,0,0,0,0,0,0,0,186,100,228,0,171,230,0,0,0,281,0,203,0,0,0,0,0,277,0,233,0,0,240,0,153,224,0,0,0,316,0,0,218,0,311,0,0,0,270,0,0,217,214,214,252,220,214,203,0,339,216,458,241,384,297,248,308,208,227,210,245,225,240,0,198,195,267,161,258,0,0,195,235,0,305,223,282,349,160,160,236,312,283,142,211,218,306,186,252,222,0,0,258,202,197,204,113,192,272,220,200,261,181,260,220,221,216,175,219,310,208,232,273,203,182,274,204,270,292,171,221,289,217,223,110,193,123,210,282,170,369,173,289,152,208,216,271,244,285,243,240,219,237,165,213,287,258,256,186,264,185,226,203,207,284,337,310,254,254,300,170,310,139,223,385,254,322,261,263,177,256,239,293,234,226,235,234,311,203,211,199,229,245,303,204,230,229,228,326,200,256,207,273,180,222,223,233,197,218,211,149,197,246,315,205,166,281,126,226,233,276,261,243,260,245,309,208,236,218,198,270,214,201,244,208,270,243,221,266,206,212,275,302,234,237,289,254,274,222,177,235,295,249,283,188,286,274,273,267,201,230,212,226,246,232,249,207,212,271,233,213,283,282,230,167,224,250,217,308,193,231,262,259,211,197,282,234,254,299,182,298,231,254,196,240,172,246,315,184,233,269,239,174,309,282,255,304,277,300,258,299,289,298,240,309,250,288,245,216,204,227,258,220,239,254,168,330,203,186,219,260,255,231,177,257,325,274,321,253,248,185,282,188,219,290,175,212,243,353,335,247,206,284,266,229,199,263,192,286,223,247,204,204,227,232,335,253,192,203,318,220,221,240,212,169,187,157,176,264,193,131,175],\"y0\":\" \",\"yaxis\":\"y\",\"type\":\"box\"},{\"alignmentgroup\":\"True\",\"hovertemplate\":\"Sex=F<br>Age=%{x}<br>Cholesterol=%{y}<extra></extra>\",\"legendgroup\":\"F\",\"marker\":{\"color\":\"#EF553B\"},\"name\":\"F\",\"notched\":false,\"offsetgroup\":\"F\",\"orientation\":\"v\",\"showlegend\":true,\"x\":[49,48,45,48,37,42,54,43,43,49,53,43,41,48,48,54,54,47,41,52,51,43,50,37,45,44,35,53,49,52,39,40,48,59,49,33,59,35,47,52,58,34,48,54,61,43,56,43,52,46,54,50,41,62,57,31,50,56,30,51,48,37,38,54,43,53,55,51,55,54,47,32,45,57,54,51,55,51,48,47,62,51,38,64,64,73,38,62,50,66,63,64,54,61,51,54,67,74,63,57,71,54,48,46,51,71,37,62,65,65,63,45,41,60,59,51,60,58,44,57,76,67,39,42,41,61,64,50,44,49,60,45,55,60,54,49,56,66,65,54,52,63,46,67,34,41,50,54,64,51,46,66,62,64,50,45,68,62,56,42,62,55,58,54,69,60,43,41,63,35,62,43,58,61,62,53,53,62,51,65,71,58,56,53,66,39,58,55,58,55,63,57,57],\"x0\":\" \",\"xaxis\":\"x\",\"y\":[180,214,237,284,211,211,273,201,223,201,468,186,250,177,227,230,294,205,245,180,194,254,202,260,297,218,167,216,208,210,182,392,254,188,207,246,338,160,248,272,393,161,163,230,294,215,279,249,225,238,312,328,184,193,308,219,288,219,237,303,195,173,275,309,266,274,394,200,320,221,235,198,295,347,253,220,344,190,308,257,0,0,0,0,0,0,0,0,0,0,0,276,274,298,258,333,564,269,407,303,149,288,275,243,295,265,215,209,225,417,195,234,198,178,249,305,240,319,242,354,197,223,199,209,306,330,313,244,141,269,258,160,327,305,304,271,288,226,360,201,196,269,177,277,210,268,219,267,303,256,204,228,244,325,254,236,211,294,409,265,394,250,248,214,239,318,213,204,252,183,263,341,283,307,164,234,264,268,308,269,302,340,294,216,278,220,197,205,225,342,197,241,236],\"y0\":\" \",\"yaxis\":\"y\",\"type\":\"box\"}],                        {\"template\":{\"data\":{\"bar\":[{\"error_x\":{\"color\":\"#2a3f5f\"},\"error_y\":{\"color\":\"#2a3f5f\"},\"marker\":{\"line\":{\"color\":\"#E5ECF6\",\"width\":0.5},\"pattern\":{\"fillmode\":\"overlay\",\"size\":10,\"solidity\":0.2}},\"type\":\"bar\"}],\"barpolar\":[{\"marker\":{\"line\":{\"color\":\"#E5ECF6\",\"width\":0.5},\"pattern\":{\"fillmode\":\"overlay\",\"size\":10,\"solidity\":0.2}},\"type\":\"barpolar\"}],\"carpet\":[{\"aaxis\":{\"endlinecolor\":\"#2a3f5f\",\"gridcolor\":\"white\",\"linecolor\":\"white\",\"minorgridcolor\":\"white\",\"startlinecolor\":\"#2a3f5f\"},\"baxis\":{\"endlinecolor\":\"#2a3f5f\",\"gridcolor\":\"white\",\"linecolor\":\"white\",\"minorgridcolor\":\"white\",\"startlinecolor\":\"#2a3f5f\"},\"type\":\"carpet\"}],\"choropleth\":[{\"colorbar\":{\"outlinewidth\":0,\"ticks\":\"\"},\"type\":\"choropleth\"}],\"contour\":[{\"colorbar\":{\"outlinewidth\":0,\"ticks\":\"\"},\"colorscale\":[[0.0,\"#0d0887\"],[0.1111111111111111,\"#46039f\"],[0.2222222222222222,\"#7201a8\"],[0.3333333333333333,\"#9c179e\"],[0.4444444444444444,\"#bd3786\"],[0.5555555555555556,\"#d8576b\"],[0.6666666666666666,\"#ed7953\"],[0.7777777777777778,\"#fb9f3a\"],[0.8888888888888888,\"#fdca26\"],[1.0,\"#f0f921\"]],\"type\":\"contour\"}],\"contourcarpet\":[{\"colorbar\":{\"outlinewidth\":0,\"ticks\":\"\"},\"type\":\"contourcarpet\"}],\"heatmap\":[{\"colorbar\":{\"outlinewidth\":0,\"ticks\":\"\"},\"colorscale\":[[0.0,\"#0d0887\"],[0.1111111111111111,\"#46039f\"],[0.2222222222222222,\"#7201a8\"],[0.3333333333333333,\"#9c179e\"],[0.4444444444444444,\"#bd3786\"],[0.5555555555555556,\"#d8576b\"],[0.6666666666666666,\"#ed7953\"],[0.7777777777777778,\"#fb9f3a\"],[0.8888888888888888,\"#fdca26\"],[1.0,\"#f0f921\"]],\"type\":\"heatmap\"}],\"heatmapgl\":[{\"colorbar\":{\"outlinewidth\":0,\"ticks\":\"\"},\"colorscale\":[[0.0,\"#0d0887\"],[0.1111111111111111,\"#46039f\"],[0.2222222222222222,\"#7201a8\"],[0.3333333333333333,\"#9c179e\"],[0.4444444444444444,\"#bd3786\"],[0.5555555555555556,\"#d8576b\"],[0.6666666666666666,\"#ed7953\"],[0.7777777777777778,\"#fb9f3a\"],[0.8888888888888888,\"#fdca26\"],[1.0,\"#f0f921\"]],\"type\":\"heatmapgl\"}],\"histogram\":[{\"marker\":{\"pattern\":{\"fillmode\":\"overlay\",\"size\":10,\"solidity\":0.2}},\"type\":\"histogram\"}],\"histogram2d\":[{\"colorbar\":{\"outlinewidth\":0,\"ticks\":\"\"},\"colorscale\":[[0.0,\"#0d0887\"],[0.1111111111111111,\"#46039f\"],[0.2222222222222222,\"#7201a8\"],[0.3333333333333333,\"#9c179e\"],[0.4444444444444444,\"#bd3786\"],[0.5555555555555556,\"#d8576b\"],[0.6666666666666666,\"#ed7953\"],[0.7777777777777778,\"#fb9f3a\"],[0.8888888888888888,\"#fdca26\"],[1.0,\"#f0f921\"]],\"type\":\"histogram2d\"}],\"histogram2dcontour\":[{\"colorbar\":{\"outlinewidth\":0,\"ticks\":\"\"},\"colorscale\":[[0.0,\"#0d0887\"],[0.1111111111111111,\"#46039f\"],[0.2222222222222222,\"#7201a8\"],[0.3333333333333333,\"#9c179e\"],[0.4444444444444444,\"#bd3786\"],[0.5555555555555556,\"#d8576b\"],[0.6666666666666666,\"#ed7953\"],[0.7777777777777778,\"#fb9f3a\"],[0.8888888888888888,\"#fdca26\"],[1.0,\"#f0f921\"]],\"type\":\"histogram2dcontour\"}],\"mesh3d\":[{\"colorbar\":{\"outlinewidth\":0,\"ticks\":\"\"},\"type\":\"mesh3d\"}],\"parcoords\":[{\"line\":{\"colorbar\":{\"outlinewidth\":0,\"ticks\":\"\"}},\"type\":\"parcoords\"}],\"pie\":[{\"automargin\":true,\"type\":\"pie\"}],\"scatter\":[{\"marker\":{\"colorbar\":{\"outlinewidth\":0,\"ticks\":\"\"}},\"type\":\"scatter\"}],\"scatter3d\":[{\"line\":{\"colorbar\":{\"outlinewidth\":0,\"ticks\":\"\"}},\"marker\":{\"colorbar\":{\"outlinewidth\":0,\"ticks\":\"\"}},\"type\":\"scatter3d\"}],\"scattercarpet\":[{\"marker\":{\"colorbar\":{\"outlinewidth\":0,\"ticks\":\"\"}},\"type\":\"scattercarpet\"}],\"scattergeo\":[{\"marker\":{\"colorbar\":{\"outlinewidth\":0,\"ticks\":\"\"}},\"type\":\"scattergeo\"}],\"scattergl\":[{\"marker\":{\"colorbar\":{\"outlinewidth\":0,\"ticks\":\"\"}},\"type\":\"scattergl\"}],\"scattermapbox\":[{\"marker\":{\"colorbar\":{\"outlinewidth\":0,\"ticks\":\"\"}},\"type\":\"scattermapbox\"}],\"scatterpolar\":[{\"marker\":{\"colorbar\":{\"outlinewidth\":0,\"ticks\":\"\"}},\"type\":\"scatterpolar\"}],\"scatterpolargl\":[{\"marker\":{\"colorbar\":{\"outlinewidth\":0,\"ticks\":\"\"}},\"type\":\"scatterpolargl\"}],\"scatterternary\":[{\"marker\":{\"colorbar\":{\"outlinewidth\":0,\"ticks\":\"\"}},\"type\":\"scatterternary\"}],\"surface\":[{\"colorbar\":{\"outlinewidth\":0,\"ticks\":\"\"},\"colorscale\":[[0.0,\"#0d0887\"],[0.1111111111111111,\"#46039f\"],[0.2222222222222222,\"#7201a8\"],[0.3333333333333333,\"#9c179e\"],[0.4444444444444444,\"#bd3786\"],[0.5555555555555556,\"#d8576b\"],[0.6666666666666666,\"#ed7953\"],[0.7777777777777778,\"#fb9f3a\"],[0.8888888888888888,\"#fdca26\"],[1.0,\"#f0f921\"]],\"type\":\"surface\"}],\"table\":[{\"cells\":{\"fill\":{\"color\":\"#EBF0F8\"},\"line\":{\"color\":\"white\"}},\"header\":{\"fill\":{\"color\":\"#C8D4E3\"},\"line\":{\"color\":\"white\"}},\"type\":\"table\"}]},\"layout\":{\"annotationdefaults\":{\"arrowcolor\":\"#2a3f5f\",\"arrowhead\":0,\"arrowwidth\":1},\"autotypenumbers\":\"strict\",\"coloraxis\":{\"colorbar\":{\"outlinewidth\":0,\"ticks\":\"\"}},\"colorscale\":{\"diverging\":[[0,\"#8e0152\"],[0.1,\"#c51b7d\"],[0.2,\"#de77ae\"],[0.3,\"#f1b6da\"],[0.4,\"#fde0ef\"],[0.5,\"#f7f7f7\"],[0.6,\"#e6f5d0\"],[0.7,\"#b8e186\"],[0.8,\"#7fbc41\"],[0.9,\"#4d9221\"],[1,\"#276419\"]],\"sequential\":[[0.0,\"#0d0887\"],[0.1111111111111111,\"#46039f\"],[0.2222222222222222,\"#7201a8\"],[0.3333333333333333,\"#9c179e\"],[0.4444444444444444,\"#bd3786\"],[0.5555555555555556,\"#d8576b\"],[0.6666666666666666,\"#ed7953\"],[0.7777777777777778,\"#fb9f3a\"],[0.8888888888888888,\"#fdca26\"],[1.0,\"#f0f921\"]],\"sequentialminus\":[[0.0,\"#0d0887\"],[0.1111111111111111,\"#46039f\"],[0.2222222222222222,\"#7201a8\"],[0.3333333333333333,\"#9c179e\"],[0.4444444444444444,\"#bd3786\"],[0.5555555555555556,\"#d8576b\"],[0.6666666666666666,\"#ed7953\"],[0.7777777777777778,\"#fb9f3a\"],[0.8888888888888888,\"#fdca26\"],[1.0,\"#f0f921\"]]},\"colorway\":[\"#636efa\",\"#EF553B\",\"#00cc96\",\"#ab63fa\",\"#FFA15A\",\"#19d3f3\",\"#FF6692\",\"#B6E880\",\"#FF97FF\",\"#FECB52\"],\"font\":{\"color\":\"#2a3f5f\"},\"geo\":{\"bgcolor\":\"white\",\"lakecolor\":\"white\",\"landcolor\":\"#E5ECF6\",\"showlakes\":true,\"showland\":true,\"subunitcolor\":\"white\"},\"hoverlabel\":{\"align\":\"left\"},\"hovermode\":\"closest\",\"mapbox\":{\"style\":\"light\"},\"paper_bgcolor\":\"white\",\"plot_bgcolor\":\"#E5ECF6\",\"polar\":{\"angularaxis\":{\"gridcolor\":\"white\",\"linecolor\":\"white\",\"ticks\":\"\"},\"bgcolor\":\"#E5ECF6\",\"radialaxis\":{\"gridcolor\":\"white\",\"linecolor\":\"white\",\"ticks\":\"\"}},\"scene\":{\"xaxis\":{\"backgroundcolor\":\"#E5ECF6\",\"gridcolor\":\"white\",\"gridwidth\":2,\"linecolor\":\"white\",\"showbackground\":true,\"ticks\":\"\",\"zerolinecolor\":\"white\"},\"yaxis\":{\"backgroundcolor\":\"#E5ECF6\",\"gridcolor\":\"white\",\"gridwidth\":2,\"linecolor\":\"white\",\"showbackground\":true,\"ticks\":\"\",\"zerolinecolor\":\"white\"},\"zaxis\":{\"backgroundcolor\":\"#E5ECF6\",\"gridcolor\":\"white\",\"gridwidth\":2,\"linecolor\":\"white\",\"showbackground\":true,\"ticks\":\"\",\"zerolinecolor\":\"white\"}},\"shapedefaults\":{\"line\":{\"color\":\"#2a3f5f\"}},\"ternary\":{\"aaxis\":{\"gridcolor\":\"white\",\"linecolor\":\"white\",\"ticks\":\"\"},\"baxis\":{\"gridcolor\":\"white\",\"linecolor\":\"white\",\"ticks\":\"\"},\"bgcolor\":\"#E5ECF6\",\"caxis\":{\"gridcolor\":\"white\",\"linecolor\":\"white\",\"ticks\":\"\"}},\"title\":{\"x\":0.05},\"xaxis\":{\"automargin\":true,\"gridcolor\":\"white\",\"linecolor\":\"white\",\"ticks\":\"\",\"title\":{\"standoff\":15},\"zerolinecolor\":\"white\",\"zerolinewidth\":2},\"yaxis\":{\"automargin\":true,\"gridcolor\":\"white\",\"linecolor\":\"white\",\"ticks\":\"\",\"title\":{\"standoff\":15},\"zerolinecolor\":\"white\",\"zerolinewidth\":2}}},\"xaxis\":{\"anchor\":\"y\",\"domain\":[0.0,1.0],\"title\":{\"text\":\"Age\"}},\"yaxis\":{\"anchor\":\"x\",\"domain\":[0.0,1.0],\"title\":{\"text\":\"Cholesterol\"}},\"legend\":{\"title\":{\"text\":\"Sex\"},\"tracegroupgap\":0},\"title\":{\"text\":\"Age vs Cholesterol\"},\"boxmode\":\"group\"},                        {\"responsive\": true}                    ).then(function(){\n",
       "                            \n",
       "var gd = document.getElementById('6e9d97f4-9ef2-4a03-96ac-5828505ae8c5');\n",
       "var x = new MutationObserver(function (mutations, observer) {{\n",
       "        var display = window.getComputedStyle(gd).display;\n",
       "        if (!display || display === 'none') {{\n",
       "            console.log([gd, 'removed!']);\n",
       "            Plotly.purge(gd);\n",
       "            observer.disconnect();\n",
       "        }}\n",
       "}});\n",
       "\n",
       "// Listen for the removal of the full notebook cells\n",
       "var notebookContainer = gd.closest('#notebook-container');\n",
       "if (notebookContainer) {{\n",
       "    x.observe(notebookContainer, {childList: true});\n",
       "}}\n",
       "\n",
       "// Listen for the clearing of the current output cell\n",
       "var outputEl = gd.closest('.output');\n",
       "if (outputEl) {{\n",
       "    x.observe(outputEl, {childList: true});\n",
       "}}\n",
       "\n",
       "                        })                };                });            </script>        </div>"
      ]
     },
     "metadata": {},
     "output_type": "display_data"
    }
   ],
   "source": [
    "fig = px.box(data_frame= df, x = 'Age', y = 'Cholesterol', color = 'Sex', title = \"Age vs Cholesterol\")\n",
    "fig.show()"
   ]
  },
  {
   "cell_type": "code",
   "execution_count": 28,
   "id": "2b2d740e",
   "metadata": {
    "execution": {
     "iopub.execute_input": "2022-01-07T03:36:16.167269Z",
     "iopub.status.busy": "2022-01-07T03:36:16.166003Z",
     "iopub.status.idle": "2022-01-07T03:36:16.478984Z",
     "shell.execute_reply": "2022-01-07T03:36:16.479660Z",
     "shell.execute_reply.started": "2022-01-03T09:24:20.47721Z"
    },
    "papermill": {
     "duration": 0.368511,
     "end_time": "2022-01-07T03:36:16.479907",
     "exception": false,
     "start_time": "2022-01-07T03:36:16.111396",
     "status": "completed"
    },
    "tags": []
   },
   "outputs": [
    {
     "data": {
      "text/html": [
       "<div>                            <div id=\"d0d94966-08a3-4561-a67d-0b4b3417de31\" class=\"plotly-graph-div\" style=\"height:525px; width:100%;\"></div>            <script type=\"text/javascript\">                require([\"plotly\"], function(Plotly) {                    window.PLOTLYENV=window.PLOTLYENV || {};                                    if (document.getElementById(\"d0d94966-08a3-4561-a67d-0b4b3417de31\")) {                    Plotly.newPlot(                        \"d0d94966-08a3-4561-a67d-0b4b3417de31\",                        [{\"alignmentgroup\":\"True\",\"hovertemplate\":\"Sex=M<br>Age=%{x}<br>RestingBP=%{y}<extra></extra>\",\"legendgroup\":\"M\",\"marker\":{\"color\":\"#636efa\"},\"name\":\"M\",\"notched\":false,\"offsetgroup\":\"M\",\"orientation\":\"v\",\"showlegend\":true,\"x\":[40,37,54,39,54,37,58,39,49,38,60,36,44,44,40,36,53,52,51,53,56,54,41,32,65,35,52,43,59,37,50,36,41,50,45,31,58,54,52,49,45,46,32,52,44,57,44,52,55,46,32,52,49,55,54,63,52,56,66,65,43,55,39,48,58,43,39,56,41,65,51,40,46,57,34,50,39,57,47,38,38,34,46,58,54,42,38,46,56,56,49,39,54,43,52,50,47,53,39,42,50,54,39,48,40,55,41,56,38,49,44,54,59,49,47,42,46,50,48,58,58,29,40,53,49,52,43,54,59,37,52,51,52,46,58,58,41,53,46,50,48,45,49,42,53,47,46,42,56,50,35,35,28,54,48,56,47,39,54,55,29,46,33,55,50,53,38,41,37,40,41,39,41,55,48,48,55,54,55,48,54,54,48,45,49,44,48,61,62,55,36,46,46,59,47,54,52,34,54,45,55,55,59,51,52,60,49,42,59,53,36,48,53,65,32,61,50,57,51,47,60,55,53,51,55,53,58,57,65,60,41,34,53,74,57,56,61,68,59,63,62,46,42,45,59,52,60,60,56,38,40,51,62,72,63,63,43,64,61,52,51,69,59,48,69,36,53,43,56,58,55,67,46,53,38,53,62,47,56,56,56,61,68,57,63,60,66,63,59,61,47,65,70,50,60,50,43,54,61,42,53,55,61,51,70,61,38,57,38,58,52,61,51,65,52,47,35,57,62,59,53,62,54,56,56,54,63,44,60,55,66,66,65,60,60,60,56,59,62,63,57,62,63,46,63,60,58,64,63,74,52,69,51,60,56,55,54,77,63,55,52,64,60,60,58,59,61,40,61,41,57,63,59,51,59,42,55,62,56,53,68,53,60,62,59,51,61,57,56,58,69,67,58,65,63,55,57,65,54,72,75,49,51,60,58,61,67,62,65,63,69,51,62,55,75,40,67,58,60,63,35,62,43,63,68,65,48,63,64,61,50,59,55,45,65,61,49,72,50,64,55,63,59,56,62,74,54,57,62,76,70,48,48,61,66,68,55,62,71,74,53,58,75,56,58,64,54,54,59,55,57,61,41,71,38,55,56,69,64,72,69,56,62,67,57,69,51,48,69,69,64,57,53,37,67,74,63,58,61,64,58,60,57,55,55,56,57,61,61,74,68,62,53,62,46,62,55,58,62,70,57,64,65,56,59,60,59,53,44,61,46,53,64,40,67,48,43,47,58,57,66,59,50,48,61,59,42,48,40,44,46,59,58,49,44,66,42,52,61,62,57,44,63,57,51,47,61,70,45,45,56,58,35,58,41,57,42,62,59,50,59,54,54,52,47,66,58,67,57,63,48,51,59,41,42,46,56,49,54,57,54,62,52,60,66,42,64,54,56,57,64,59,50,51,54,53,52,40,58,41,55,45,56,38,55,58,43,53,65,69,69,67,34,51,46,67,50,42,41,53,43,56,52,70,54,70,54,35,48,77,68,58,60,51,55,52,58,64,37,59,51,58,29,51,54,44,54,65,57,63,41,52,39,45,52,62,43,47,52,68,39,60,65,60,60,54,44,44,51,59,61,55,64,43,60,58,49,48,52,44,57,67,52,43,52,59,64,57,57,47,35,61,58,58,56,56,67,44,63,41,59,45,68,57,38],\"x0\":\" \",\"xaxis\":\"x\",\"y\":[140,130,150,120,110,140,136,120,140,110,100,120,120,150,130,130,124,120,125,145,130,125,130,125,140,150,140,120,130,120,140,112,110,130,140,120,130,150,112,100,140,120,110,160,150,140,130,120,140,150,118,140,130,110,120,150,160,150,140,170,120,140,130,160,130,142,160,120,125,130,130,120,118,140,150,140,190,150,140,140,120,140,110,130,120,120,145,110,170,150,115,120,140,150,160,140,160,140,110,120,120,130,130,100,130,120,120,155,110,140,130,160,140,128,160,120,140,140,140,135,140,120,140,140,140,140,140,140,140,130,130,130,140,110,160,130,120,180,180,170,130,135,120,150,120,110,120,160,130,150,120,110,130,125,106,130,150,110,120,140,140,130,120,120,145,120,92,120,130,130,112,120,120,140,160,160,145,200,160,160,120,120,122,130,130,135,120,125,140,145,150,140,120,130,140,160,130,98,130,120,140,120,180,135,170,120,150,140,140,120,120,110,130,115,95,105,145,110,110,110,160,140,125,95,115,130,115,95,155,125,125,115,80,145,105,140,130,145,125,100,115,100,105,110,125,95,130,115,115,100,95,130,120,160,150,140,100,110,110,130,120,135,120,115,137,110,120,140,120,130,120,145,115,120,115,105,160,160,155,120,120,150,135,140,150,135,150,185,135,125,155,160,140,120,160,115,115,120,150,145,130,140,160,140,115,130,150,160,135,170,165,200,130,145,135,110,120,140,115,110,160,150,180,125,125,130,140,130,132,142,110,120,150,180,120,160,126,140,110,133,128,120,170,110,126,152,116,120,130,138,128,130,128,130,120,136,130,124,160,0,122,144,140,120,136,154,120,125,134,104,139,136,122,128,131,134,120,152,124,126,138,154,141,131,178,132,110,130,170,126,140,142,120,134,139,110,140,140,136,120,170,130,137,142,132,146,160,135,136,130,140,132,158,136,136,106,120,110,136,160,123,112,122,130,150,150,102,96,130,120,144,124,150,130,144,139,131,143,133,143,116,110,125,130,133,150,130,110,138,104,170,132,132,142,112,139,172,120,144,145,155,150,160,137,137,134,133,132,140,135,144,141,150,130,110,158,128,140,150,160,142,137,139,146,156,145,131,140,122,142,141,180,124,118,140,140,136,100,190,130,160,130,122,133,120,130,130,140,120,155,134,160,144,158,134,135,122,140,120,130,124,128,120,130,110,140,135,142,140,134,140,140,110,140,120,130,115,112,112,128,160,170,144,130,140,160,130,122,152,130,101,126,140,118,110,160,136,128,138,120,150,120,145,150,140,108,120,156,142,104,120,146,120,150,130,110,148,128,178,150,140,124,110,125,110,120,100,120,165,130,124,100,140,110,120,120,130,120,122,152,125,120,134,117,112,140,120,150,125,132,145,138,140,125,192,123,112,110,132,112,140,128,120,120,130,128,110,130,138,160,140,100,118,140,150,125,129,120,110,130,130,132,108,160,140,145,108,126,124,125,118,125,125,140,160,152,105,125,130,170,125,128,130,94,120,120,110,135,150,130,135,118,118,115,128,130,120,138,120,180,140,130,110,140,145,120,130,112,110,150,150,132,140,150,130,120,130,110,172,120,140,160,138,132,128,134,170,154,110,130,122,148,114,125,130,120,152,120,140,120,164,110,144,130,138],\"y0\":\" \",\"yaxis\":\"y\",\"type\":\"box\"},{\"alignmentgroup\":\"True\",\"hovertemplate\":\"Sex=F<br>Age=%{x}<br>RestingBP=%{y}<extra></extra>\",\"legendgroup\":\"F\",\"marker\":{\"color\":\"#EF553B\"},\"name\":\"F\",\"notched\":false,\"offsetgroup\":\"F\",\"orientation\":\"v\",\"showlegend\":true,\"x\":[49,48,45,48,37,42,54,43,43,49,53,43,41,48,48,54,54,47,41,52,51,43,50,37,45,44,35,53,49,52,39,40,48,59,49,33,59,35,47,52,58,34,48,54,61,43,56,43,52,46,54,50,41,62,57,31,50,56,30,51,48,37,38,54,43,53,55,51,55,54,47,32,45,57,54,51,55,51,48,47,62,51,38,64,64,73,38,62,50,66,63,64,54,61,51,54,67,74,63,57,71,54,48,46,51,71,37,62,65,65,63,45,41,60,59,51,60,58,44,57,76,67,39,42,41,61,64,50,44,49,60,45,55,60,54,49,56,66,65,54,52,63,46,67,34,41,50,54,64,51,46,66,62,64,50,45,68,62,56,42,62,55,58,54,69,60,43,41,63,35,62,43,58,61,62,53,53,62,51,65,71,58,56,53,66,39,58,55,58,55,63,57,57],\"x0\":\" \",\"xaxis\":\"x\",\"y\":[160,138,130,120,130,115,120,120,100,124,113,150,110,120,150,150,130,120,130,130,160,150,110,120,132,120,140,140,110,120,110,150,120,130,130,100,130,120,135,125,180,130,108,120,130,120,120,120,140,130,160,120,125,160,130,100,140,130,170,160,120,130,120,140,120,120,130,150,122,120,130,105,180,180,130,130,110,110,133,140,120,120,105,95,200,160,110,140,160,155,132,142,138,140,114,127,115,120,150,128,112,132,130,138,120,110,120,124,150,140,140,130,105,120,174,130,150,136,118,120,140,106,94,120,126,130,140,120,108,130,150,112,180,158,135,134,200,150,160,160,136,108,142,152,118,112,120,108,130,130,105,178,150,180,110,138,120,138,134,102,140,135,100,110,140,102,122,130,135,138,130,132,150,145,160,138,130,140,140,155,160,120,140,128,146,138,130,128,170,132,124,140,130],\"y0\":\" \",\"yaxis\":\"y\",\"type\":\"box\"}],                        {\"template\":{\"data\":{\"bar\":[{\"error_x\":{\"color\":\"#2a3f5f\"},\"error_y\":{\"color\":\"#2a3f5f\"},\"marker\":{\"line\":{\"color\":\"#E5ECF6\",\"width\":0.5},\"pattern\":{\"fillmode\":\"overlay\",\"size\":10,\"solidity\":0.2}},\"type\":\"bar\"}],\"barpolar\":[{\"marker\":{\"line\":{\"color\":\"#E5ECF6\",\"width\":0.5},\"pattern\":{\"fillmode\":\"overlay\",\"size\":10,\"solidity\":0.2}},\"type\":\"barpolar\"}],\"carpet\":[{\"aaxis\":{\"endlinecolor\":\"#2a3f5f\",\"gridcolor\":\"white\",\"linecolor\":\"white\",\"minorgridcolor\":\"white\",\"startlinecolor\":\"#2a3f5f\"},\"baxis\":{\"endlinecolor\":\"#2a3f5f\",\"gridcolor\":\"white\",\"linecolor\":\"white\",\"minorgridcolor\":\"white\",\"startlinecolor\":\"#2a3f5f\"},\"type\":\"carpet\"}],\"choropleth\":[{\"colorbar\":{\"outlinewidth\":0,\"ticks\":\"\"},\"type\":\"choropleth\"}],\"contour\":[{\"colorbar\":{\"outlinewidth\":0,\"ticks\":\"\"},\"colorscale\":[[0.0,\"#0d0887\"],[0.1111111111111111,\"#46039f\"],[0.2222222222222222,\"#7201a8\"],[0.3333333333333333,\"#9c179e\"],[0.4444444444444444,\"#bd3786\"],[0.5555555555555556,\"#d8576b\"],[0.6666666666666666,\"#ed7953\"],[0.7777777777777778,\"#fb9f3a\"],[0.8888888888888888,\"#fdca26\"],[1.0,\"#f0f921\"]],\"type\":\"contour\"}],\"contourcarpet\":[{\"colorbar\":{\"outlinewidth\":0,\"ticks\":\"\"},\"type\":\"contourcarpet\"}],\"heatmap\":[{\"colorbar\":{\"outlinewidth\":0,\"ticks\":\"\"},\"colorscale\":[[0.0,\"#0d0887\"],[0.1111111111111111,\"#46039f\"],[0.2222222222222222,\"#7201a8\"],[0.3333333333333333,\"#9c179e\"],[0.4444444444444444,\"#bd3786\"],[0.5555555555555556,\"#d8576b\"],[0.6666666666666666,\"#ed7953\"],[0.7777777777777778,\"#fb9f3a\"],[0.8888888888888888,\"#fdca26\"],[1.0,\"#f0f921\"]],\"type\":\"heatmap\"}],\"heatmapgl\":[{\"colorbar\":{\"outlinewidth\":0,\"ticks\":\"\"},\"colorscale\":[[0.0,\"#0d0887\"],[0.1111111111111111,\"#46039f\"],[0.2222222222222222,\"#7201a8\"],[0.3333333333333333,\"#9c179e\"],[0.4444444444444444,\"#bd3786\"],[0.5555555555555556,\"#d8576b\"],[0.6666666666666666,\"#ed7953\"],[0.7777777777777778,\"#fb9f3a\"],[0.8888888888888888,\"#fdca26\"],[1.0,\"#f0f921\"]],\"type\":\"heatmapgl\"}],\"histogram\":[{\"marker\":{\"pattern\":{\"fillmode\":\"overlay\",\"size\":10,\"solidity\":0.2}},\"type\":\"histogram\"}],\"histogram2d\":[{\"colorbar\":{\"outlinewidth\":0,\"ticks\":\"\"},\"colorscale\":[[0.0,\"#0d0887\"],[0.1111111111111111,\"#46039f\"],[0.2222222222222222,\"#7201a8\"],[0.3333333333333333,\"#9c179e\"],[0.4444444444444444,\"#bd3786\"],[0.5555555555555556,\"#d8576b\"],[0.6666666666666666,\"#ed7953\"],[0.7777777777777778,\"#fb9f3a\"],[0.8888888888888888,\"#fdca26\"],[1.0,\"#f0f921\"]],\"type\":\"histogram2d\"}],\"histogram2dcontour\":[{\"colorbar\":{\"outlinewidth\":0,\"ticks\":\"\"},\"colorscale\":[[0.0,\"#0d0887\"],[0.1111111111111111,\"#46039f\"],[0.2222222222222222,\"#7201a8\"],[0.3333333333333333,\"#9c179e\"],[0.4444444444444444,\"#bd3786\"],[0.5555555555555556,\"#d8576b\"],[0.6666666666666666,\"#ed7953\"],[0.7777777777777778,\"#fb9f3a\"],[0.8888888888888888,\"#fdca26\"],[1.0,\"#f0f921\"]],\"type\":\"histogram2dcontour\"}],\"mesh3d\":[{\"colorbar\":{\"outlinewidth\":0,\"ticks\":\"\"},\"type\":\"mesh3d\"}],\"parcoords\":[{\"line\":{\"colorbar\":{\"outlinewidth\":0,\"ticks\":\"\"}},\"type\":\"parcoords\"}],\"pie\":[{\"automargin\":true,\"type\":\"pie\"}],\"scatter\":[{\"marker\":{\"colorbar\":{\"outlinewidth\":0,\"ticks\":\"\"}},\"type\":\"scatter\"}],\"scatter3d\":[{\"line\":{\"colorbar\":{\"outlinewidth\":0,\"ticks\":\"\"}},\"marker\":{\"colorbar\":{\"outlinewidth\":0,\"ticks\":\"\"}},\"type\":\"scatter3d\"}],\"scattercarpet\":[{\"marker\":{\"colorbar\":{\"outlinewidth\":0,\"ticks\":\"\"}},\"type\":\"scattercarpet\"}],\"scattergeo\":[{\"marker\":{\"colorbar\":{\"outlinewidth\":0,\"ticks\":\"\"}},\"type\":\"scattergeo\"}],\"scattergl\":[{\"marker\":{\"colorbar\":{\"outlinewidth\":0,\"ticks\":\"\"}},\"type\":\"scattergl\"}],\"scattermapbox\":[{\"marker\":{\"colorbar\":{\"outlinewidth\":0,\"ticks\":\"\"}},\"type\":\"scattermapbox\"}],\"scatterpolar\":[{\"marker\":{\"colorbar\":{\"outlinewidth\":0,\"ticks\":\"\"}},\"type\":\"scatterpolar\"}],\"scatterpolargl\":[{\"marker\":{\"colorbar\":{\"outlinewidth\":0,\"ticks\":\"\"}},\"type\":\"scatterpolargl\"}],\"scatterternary\":[{\"marker\":{\"colorbar\":{\"outlinewidth\":0,\"ticks\":\"\"}},\"type\":\"scatterternary\"}],\"surface\":[{\"colorbar\":{\"outlinewidth\":0,\"ticks\":\"\"},\"colorscale\":[[0.0,\"#0d0887\"],[0.1111111111111111,\"#46039f\"],[0.2222222222222222,\"#7201a8\"],[0.3333333333333333,\"#9c179e\"],[0.4444444444444444,\"#bd3786\"],[0.5555555555555556,\"#d8576b\"],[0.6666666666666666,\"#ed7953\"],[0.7777777777777778,\"#fb9f3a\"],[0.8888888888888888,\"#fdca26\"],[1.0,\"#f0f921\"]],\"type\":\"surface\"}],\"table\":[{\"cells\":{\"fill\":{\"color\":\"#EBF0F8\"},\"line\":{\"color\":\"white\"}},\"header\":{\"fill\":{\"color\":\"#C8D4E3\"},\"line\":{\"color\":\"white\"}},\"type\":\"table\"}]},\"layout\":{\"annotationdefaults\":{\"arrowcolor\":\"#2a3f5f\",\"arrowhead\":0,\"arrowwidth\":1},\"autotypenumbers\":\"strict\",\"coloraxis\":{\"colorbar\":{\"outlinewidth\":0,\"ticks\":\"\"}},\"colorscale\":{\"diverging\":[[0,\"#8e0152\"],[0.1,\"#c51b7d\"],[0.2,\"#de77ae\"],[0.3,\"#f1b6da\"],[0.4,\"#fde0ef\"],[0.5,\"#f7f7f7\"],[0.6,\"#e6f5d0\"],[0.7,\"#b8e186\"],[0.8,\"#7fbc41\"],[0.9,\"#4d9221\"],[1,\"#276419\"]],\"sequential\":[[0.0,\"#0d0887\"],[0.1111111111111111,\"#46039f\"],[0.2222222222222222,\"#7201a8\"],[0.3333333333333333,\"#9c179e\"],[0.4444444444444444,\"#bd3786\"],[0.5555555555555556,\"#d8576b\"],[0.6666666666666666,\"#ed7953\"],[0.7777777777777778,\"#fb9f3a\"],[0.8888888888888888,\"#fdca26\"],[1.0,\"#f0f921\"]],\"sequentialminus\":[[0.0,\"#0d0887\"],[0.1111111111111111,\"#46039f\"],[0.2222222222222222,\"#7201a8\"],[0.3333333333333333,\"#9c179e\"],[0.4444444444444444,\"#bd3786\"],[0.5555555555555556,\"#d8576b\"],[0.6666666666666666,\"#ed7953\"],[0.7777777777777778,\"#fb9f3a\"],[0.8888888888888888,\"#fdca26\"],[1.0,\"#f0f921\"]]},\"colorway\":[\"#636efa\",\"#EF553B\",\"#00cc96\",\"#ab63fa\",\"#FFA15A\",\"#19d3f3\",\"#FF6692\",\"#B6E880\",\"#FF97FF\",\"#FECB52\"],\"font\":{\"color\":\"#2a3f5f\"},\"geo\":{\"bgcolor\":\"white\",\"lakecolor\":\"white\",\"landcolor\":\"#E5ECF6\",\"showlakes\":true,\"showland\":true,\"subunitcolor\":\"white\"},\"hoverlabel\":{\"align\":\"left\"},\"hovermode\":\"closest\",\"mapbox\":{\"style\":\"light\"},\"paper_bgcolor\":\"white\",\"plot_bgcolor\":\"#E5ECF6\",\"polar\":{\"angularaxis\":{\"gridcolor\":\"white\",\"linecolor\":\"white\",\"ticks\":\"\"},\"bgcolor\":\"#E5ECF6\",\"radialaxis\":{\"gridcolor\":\"white\",\"linecolor\":\"white\",\"ticks\":\"\"}},\"scene\":{\"xaxis\":{\"backgroundcolor\":\"#E5ECF6\",\"gridcolor\":\"white\",\"gridwidth\":2,\"linecolor\":\"white\",\"showbackground\":true,\"ticks\":\"\",\"zerolinecolor\":\"white\"},\"yaxis\":{\"backgroundcolor\":\"#E5ECF6\",\"gridcolor\":\"white\",\"gridwidth\":2,\"linecolor\":\"white\",\"showbackground\":true,\"ticks\":\"\",\"zerolinecolor\":\"white\"},\"zaxis\":{\"backgroundcolor\":\"#E5ECF6\",\"gridcolor\":\"white\",\"gridwidth\":2,\"linecolor\":\"white\",\"showbackground\":true,\"ticks\":\"\",\"zerolinecolor\":\"white\"}},\"shapedefaults\":{\"line\":{\"color\":\"#2a3f5f\"}},\"ternary\":{\"aaxis\":{\"gridcolor\":\"white\",\"linecolor\":\"white\",\"ticks\":\"\"},\"baxis\":{\"gridcolor\":\"white\",\"linecolor\":\"white\",\"ticks\":\"\"},\"bgcolor\":\"#E5ECF6\",\"caxis\":{\"gridcolor\":\"white\",\"linecolor\":\"white\",\"ticks\":\"\"}},\"title\":{\"x\":0.05},\"xaxis\":{\"automargin\":true,\"gridcolor\":\"white\",\"linecolor\":\"white\",\"ticks\":\"\",\"title\":{\"standoff\":15},\"zerolinecolor\":\"white\",\"zerolinewidth\":2},\"yaxis\":{\"automargin\":true,\"gridcolor\":\"white\",\"linecolor\":\"white\",\"ticks\":\"\",\"title\":{\"standoff\":15},\"zerolinecolor\":\"white\",\"zerolinewidth\":2}}},\"xaxis\":{\"anchor\":\"y\",\"domain\":[0.0,1.0],\"title\":{\"text\":\"Age\"}},\"yaxis\":{\"anchor\":\"x\",\"domain\":[0.0,1.0],\"title\":{\"text\":\"RestingBP\"}},\"legend\":{\"title\":{\"text\":\"Sex\"},\"tracegroupgap\":0},\"title\":{\"text\":\"Age vs Resting Blood Pressure\"},\"boxmode\":\"group\"},                        {\"responsive\": true}                    ).then(function(){\n",
       "                            \n",
       "var gd = document.getElementById('d0d94966-08a3-4561-a67d-0b4b3417de31');\n",
       "var x = new MutationObserver(function (mutations, observer) {{\n",
       "        var display = window.getComputedStyle(gd).display;\n",
       "        if (!display || display === 'none') {{\n",
       "            console.log([gd, 'removed!']);\n",
       "            Plotly.purge(gd);\n",
       "            observer.disconnect();\n",
       "        }}\n",
       "}});\n",
       "\n",
       "// Listen for the removal of the full notebook cells\n",
       "var notebookContainer = gd.closest('#notebook-container');\n",
       "if (notebookContainer) {{\n",
       "    x.observe(notebookContainer, {childList: true});\n",
       "}}\n",
       "\n",
       "// Listen for the clearing of the current output cell\n",
       "var outputEl = gd.closest('.output');\n",
       "if (outputEl) {{\n",
       "    x.observe(outputEl, {childList: true});\n",
       "}}\n",
       "\n",
       "                        })                };                });            </script>        </div>"
      ]
     },
     "metadata": {},
     "output_type": "display_data"
    }
   ],
   "source": [
    "fig = px.box(data_frame= df, x = 'Age', y = 'RestingBP', color = 'Sex', title = \"Age vs Resting Blood Pressure\")\n",
    "fig.show()"
   ]
  },
  {
   "cell_type": "code",
   "execution_count": 29,
   "id": "494aa375",
   "metadata": {
    "execution": {
     "iopub.execute_input": "2022-01-07T03:36:16.610623Z",
     "iopub.status.busy": "2022-01-07T03:36:16.609393Z",
     "iopub.status.idle": "2022-01-07T03:36:16.671539Z",
     "shell.execute_reply": "2022-01-07T03:36:16.670925Z",
     "shell.execute_reply.started": "2022-01-03T09:24:20.54834Z"
    },
    "papermill": {
     "duration": 0.125948,
     "end_time": "2022-01-07T03:36:16.671836",
     "exception": false,
     "start_time": "2022-01-07T03:36:16.545888",
     "status": "completed"
    },
    "tags": []
   },
   "outputs": [
    {
     "data": {
      "text/html": [
       "<div>                            <div id=\"8008b5b0-9c80-49cf-b33b-7ea6d4e8a2a6\" class=\"plotly-graph-div\" style=\"height:525px; width:100%;\"></div>            <script type=\"text/javascript\">                require([\"plotly\"], function(Plotly) {                    window.PLOTLYENV=window.PLOTLYENV || {};                                    if (document.getElementById(\"8008b5b0-9c80-49cf-b33b-7ea6d4e8a2a6\")) {                    Plotly.newPlot(                        \"8008b5b0-9c80-49cf-b33b-7ea6d4e8a2a6\",                        [{\"alignmentgroup\":\"True\",\"hovertemplate\":\"Sex=M<br>Age=%{x}<br>MaxHR=%{y}<extra></extra>\",\"legendgroup\":\"M\",\"marker\":{\"color\":\"#636efa\"},\"name\":\"M\",\"notched\":false,\"offsetgroup\":\"M\",\"orientation\":\"v\",\"showlegend\":true,\"x\":[40,37,54,39,54,37,58,39,49,38,60,36,44,44,40,36,53,52,51,53,56,54,41,32,65,35,52,43,59,37,50,36,41,50,45,31,58,54,52,49,45,46,32,52,44,57,44,52,55,46,32,52,49,55,54,63,52,56,66,65,43,55,39,48,58,43,39,56,41,65,51,40,46,57,34,50,39,57,47,38,38,34,46,58,54,42,38,46,56,56,49,39,54,43,52,50,47,53,39,42,50,54,39,48,40,55,41,56,38,49,44,54,59,49,47,42,46,50,48,58,58,29,40,53,49,52,43,54,59,37,52,51,52,46,58,58,41,53,46,50,48,45,49,42,53,47,46,42,56,50,35,35,28,54,48,56,47,39,54,55,29,46,33,55,50,53,38,41,37,40,41,39,41,55,48,48,55,54,55,48,54,54,48,45,49,44,48,61,62,55,36,46,46,59,47,54,52,34,54,45,55,55,59,51,52,60,49,42,59,53,36,48,53,65,32,61,50,57,51,47,60,55,53,51,55,53,58,57,65,60,41,34,53,74,57,56,61,68,59,63,62,46,42,45,59,52,60,60,56,38,40,51,62,72,63,63,43,64,61,52,51,69,59,48,69,36,53,43,56,58,55,67,46,53,38,53,62,47,56,56,56,61,68,57,63,60,66,63,59,61,47,65,70,50,60,50,43,54,61,42,53,55,61,51,70,61,38,57,38,58,52,61,51,65,52,47,35,57,62,59,53,62,54,56,56,54,63,44,60,55,66,66,65,60,60,60,56,59,62,63,57,62,63,46,63,60,58,64,63,74,52,69,51,60,56,55,54,77,63,55,52,64,60,60,58,59,61,40,61,41,57,63,59,51,59,42,55,62,56,53,68,53,60,62,59,51,61,57,56,58,69,67,58,65,63,55,57,65,54,72,75,49,51,60,58,61,67,62,65,63,69,51,62,55,75,40,67,58,60,63,35,62,43,63,68,65,48,63,64,61,50,59,55,45,65,61,49,72,50,64,55,63,59,56,62,74,54,57,62,76,70,48,48,61,66,68,55,62,71,74,53,58,75,56,58,64,54,54,59,55,57,61,41,71,38,55,56,69,64,72,69,56,62,67,57,69,51,48,69,69,64,57,53,37,67,74,63,58,61,64,58,60,57,55,55,56,57,61,61,74,68,62,53,62,46,62,55,58,62,70,57,64,65,56,59,60,59,53,44,61,46,53,64,40,67,48,43,47,58,57,66,59,50,48,61,59,42,48,40,44,46,59,58,49,44,66,42,52,61,62,57,44,63,57,51,47,61,70,45,45,56,58,35,58,41,57,42,62,59,50,59,54,54,52,47,66,58,67,57,63,48,51,59,41,42,46,56,49,54,57,54,62,52,60,66,42,64,54,56,57,64,59,50,51,54,53,52,40,58,41,55,45,56,38,55,58,43,53,65,69,69,67,34,51,46,67,50,42,41,53,43,56,52,70,54,70,54,35,48,77,68,58,60,51,55,52,58,64,37,59,51,58,29,51,54,44,54,65,57,63,41,52,39,45,52,62,43,47,52,68,39,60,65,60,60,54,44,44,51,59,61,55,64,43,60,58,49,48,52,44,57,67,52,43,52,59,64,57,57,47,35,61,58,58,56,56,67,44,63,41,59,45,68,57,38],\"x0\":\" \",\"xaxis\":\"x\",\"y\":[172,98,122,170,142,130,99,145,140,166,125,160,142,150,138,178,112,118,145,130,114,122,130,155,87,168,170,120,120,168,170,184,170,121,122,153,140,134,96,174,144,125,184,82,170,145,135,150,128,116,130,138,170,160,154,115,165,125,94,112,155,110,140,92,140,138,160,140,144,115,100,152,124,140,168,135,106,92,125,150,170,180,140,150,110,152,130,150,122,124,175,146,118,130,94,125,158,155,132,155,160,125,120,100,150,140,160,150,150,130,100,130,119,96,174,150,175,140,118,100,160,160,188,162,172,134,135,105,150,150,120,150,124,140,92,110,138,120,120,116,160,110,132,136,116,150,150,146,100,140,180,140,185,140,110,128,98,150,137,150,170,112,185,137,150,140,134,170,158,167,142,160,118,136,99,102,155,142,143,103,137,150,150,130,120,135,115,115,152,96,172,165,115,125,145,175,110,150,91,140,130,134,100,150,126,135,122,170,140,132,180,138,148,93,127,110,139,131,92,149,149,150,120,126,155,120,138,182,154,110,176,154,141,123,148,121,77,136,175,109,128,133,128,138,119,82,130,143,82,179,144,170,134,114,154,149,122,114,113,120,104,130,115,128,104,125,120,140,100,100,92,125,113,95,128,115,72,124,99,148,97,117,120,120,86,63,108,98,115,105,118,122,157,156,99,120,145,155,105,99,135,83,145,60,92,115,120,98,150,105,122,70,163,67,128,120,130,100,72,94,122,78,150,103,98,110,112,127,140,149,99,120,105,140,141,157,140,117,120,120,148,86,84,125,120,118,124,106,111,116,180,129,125,140,120,124,117,110,105,155,110,122,118,133,123,131,80,165,86,111,118,84,117,107,128,160,125,97,161,106,130,140,122,130,120,139,108,148,123,110,118,125,106,112,128,180,144,135,140,102,108,145,127,110,69,148,130,130,140,138,140,138,112,131,112,80,150,110,126,88,153,150,120,160,132,120,110,121,128,135,120,117,150,144,113,135,127,109,128,115,102,140,135,122,119,130,112,100,122,120,129,139,162,100,140,135,73,86,108,116,160,118,112,122,124,102,137,141,154,126,160,115,128,115,105,110,119,109,135,130,112,126,120,110,119,110,130,159,84,126,116,120,122,165,122,94,133,110,150,130,113,140,100,136,127,98,96,123,98,112,151,108,128,138,126,137,100,135,93,109,141,105,140,142,142,170,161,111,180,145,120,155,144,178,129,180,181,143,165,150,138,140,126,150,138,125,150,186,181,179,156,134,165,126,177,120,125,184,125,103,173,169,150,112,186,152,140,143,147,148,178,105,130,111,168,126,178,140,145,128,164,109,108,168,118,151,156,71,124,147,166,143,162,153,162,144,103,139,116,88,152,99,158,160,132,178,96,165,144,168,132,182,163,125,195,95,160,114,173,179,111,170,162,182,155,130,161,152,174,131,146,125,174,122,147,163,163,194,158,173,162,105,147,112,160,125,156,156,175,162,151,171,141,173,145,178,154,131,187,159,166,131,202,154,147,170,126,127,174,132,132,190,140,185,161,146,120,156,172,150,182,144,158,155,142,113,188,153,123,157,137,132,158,171,132,160,171,168,162,173,148,108,169,143,156,162,155,164,143,179,174,161,140,144,163,169,150,144,144,182,90,132,141,115,173],\"y0\":\" \",\"yaxis\":\"y\",\"type\":\"box\"},{\"alignmentgroup\":\"True\",\"hovertemplate\":\"Sex=F<br>Age=%{x}<br>MaxHR=%{y}<extra></extra>\",\"legendgroup\":\"F\",\"marker\":{\"color\":\"#EF553B\"},\"name\":\"F\",\"notched\":false,\"offsetgroup\":\"F\",\"orientation\":\"v\",\"showlegend\":true,\"x\":[49,48,45,48,37,42,54,43,43,49,53,43,41,48,48,54,54,47,41,52,51,43,50,37,45,44,35,53,49,52,39,40,48,59,49,33,59,35,47,52,58,34,48,54,61,43,56,43,52,46,54,50,41,62,57,31,50,56,30,51,48,37,38,54,43,53,55,51,55,54,47,32,45,57,54,51,55,51,48,47,62,51,38,64,64,73,38,62,50,66,63,64,54,61,51,54,67,74,63,57,71,54,48,46,51,71,37,62,65,65,63,45,41,60,59,51,60,58,44,57,76,67,39,42,41,61,64,50,44,49,60,45,55,60,54,49,56,66,65,54,52,63,46,67,34,41,50,54,64,51,46,66,62,64,50,45,68,62,56,42,62,55,58,54,69,60,43,41,63,35,62,43,58,61,62,53,53,62,51,65,71,58,56,53,66,39,58,55,58,55,63,57,57],\"x0\":\" \",\"xaxis\":\"x\",\"y\":[156,108,170,120,142,137,150,165,142,164,127,154,142,148,130,130,100,98,150,140,170,175,145,130,144,115,150,142,160,148,180,130,110,124,135,150,130,185,170,139,110,190,175,140,120,175,150,176,140,90,130,110,180,116,98,150,140,164,170,150,125,184,129,140,118,130,150,120,155,138,145,165,180,126,155,160,160,120,156,135,123,127,166,145,140,121,156,143,110,90,130,140,105,120,96,154,160,121,154,159,125,159,139,152,157,130,170,163,114,157,179,175,168,96,143,142,171,152,149,163,116,142,179,173,163,169,133,162,175,163,157,138,117,161,170,162,133,114,151,163,169,169,160,172,192,172,158,167,122,149,172,165,154,154,159,152,115,106,150,122,157,161,122,158,151,160,165,172,172,182,97,136,162,146,145,160,143,160,142,148,162,172,153,115,152,152,131,130,146,166,136,123,174],\"y0\":\" \",\"yaxis\":\"y\",\"type\":\"box\"}],                        {\"template\":{\"data\":{\"bar\":[{\"error_x\":{\"color\":\"#2a3f5f\"},\"error_y\":{\"color\":\"#2a3f5f\"},\"marker\":{\"line\":{\"color\":\"#E5ECF6\",\"width\":0.5},\"pattern\":{\"fillmode\":\"overlay\",\"size\":10,\"solidity\":0.2}},\"type\":\"bar\"}],\"barpolar\":[{\"marker\":{\"line\":{\"color\":\"#E5ECF6\",\"width\":0.5},\"pattern\":{\"fillmode\":\"overlay\",\"size\":10,\"solidity\":0.2}},\"type\":\"barpolar\"}],\"carpet\":[{\"aaxis\":{\"endlinecolor\":\"#2a3f5f\",\"gridcolor\":\"white\",\"linecolor\":\"white\",\"minorgridcolor\":\"white\",\"startlinecolor\":\"#2a3f5f\"},\"baxis\":{\"endlinecolor\":\"#2a3f5f\",\"gridcolor\":\"white\",\"linecolor\":\"white\",\"minorgridcolor\":\"white\",\"startlinecolor\":\"#2a3f5f\"},\"type\":\"carpet\"}],\"choropleth\":[{\"colorbar\":{\"outlinewidth\":0,\"ticks\":\"\"},\"type\":\"choropleth\"}],\"contour\":[{\"colorbar\":{\"outlinewidth\":0,\"ticks\":\"\"},\"colorscale\":[[0.0,\"#0d0887\"],[0.1111111111111111,\"#46039f\"],[0.2222222222222222,\"#7201a8\"],[0.3333333333333333,\"#9c179e\"],[0.4444444444444444,\"#bd3786\"],[0.5555555555555556,\"#d8576b\"],[0.6666666666666666,\"#ed7953\"],[0.7777777777777778,\"#fb9f3a\"],[0.8888888888888888,\"#fdca26\"],[1.0,\"#f0f921\"]],\"type\":\"contour\"}],\"contourcarpet\":[{\"colorbar\":{\"outlinewidth\":0,\"ticks\":\"\"},\"type\":\"contourcarpet\"}],\"heatmap\":[{\"colorbar\":{\"outlinewidth\":0,\"ticks\":\"\"},\"colorscale\":[[0.0,\"#0d0887\"],[0.1111111111111111,\"#46039f\"],[0.2222222222222222,\"#7201a8\"],[0.3333333333333333,\"#9c179e\"],[0.4444444444444444,\"#bd3786\"],[0.5555555555555556,\"#d8576b\"],[0.6666666666666666,\"#ed7953\"],[0.7777777777777778,\"#fb9f3a\"],[0.8888888888888888,\"#fdca26\"],[1.0,\"#f0f921\"]],\"type\":\"heatmap\"}],\"heatmapgl\":[{\"colorbar\":{\"outlinewidth\":0,\"ticks\":\"\"},\"colorscale\":[[0.0,\"#0d0887\"],[0.1111111111111111,\"#46039f\"],[0.2222222222222222,\"#7201a8\"],[0.3333333333333333,\"#9c179e\"],[0.4444444444444444,\"#bd3786\"],[0.5555555555555556,\"#d8576b\"],[0.6666666666666666,\"#ed7953\"],[0.7777777777777778,\"#fb9f3a\"],[0.8888888888888888,\"#fdca26\"],[1.0,\"#f0f921\"]],\"type\":\"heatmapgl\"}],\"histogram\":[{\"marker\":{\"pattern\":{\"fillmode\":\"overlay\",\"size\":10,\"solidity\":0.2}},\"type\":\"histogram\"}],\"histogram2d\":[{\"colorbar\":{\"outlinewidth\":0,\"ticks\":\"\"},\"colorscale\":[[0.0,\"#0d0887\"],[0.1111111111111111,\"#46039f\"],[0.2222222222222222,\"#7201a8\"],[0.3333333333333333,\"#9c179e\"],[0.4444444444444444,\"#bd3786\"],[0.5555555555555556,\"#d8576b\"],[0.6666666666666666,\"#ed7953\"],[0.7777777777777778,\"#fb9f3a\"],[0.8888888888888888,\"#fdca26\"],[1.0,\"#f0f921\"]],\"type\":\"histogram2d\"}],\"histogram2dcontour\":[{\"colorbar\":{\"outlinewidth\":0,\"ticks\":\"\"},\"colorscale\":[[0.0,\"#0d0887\"],[0.1111111111111111,\"#46039f\"],[0.2222222222222222,\"#7201a8\"],[0.3333333333333333,\"#9c179e\"],[0.4444444444444444,\"#bd3786\"],[0.5555555555555556,\"#d8576b\"],[0.6666666666666666,\"#ed7953\"],[0.7777777777777778,\"#fb9f3a\"],[0.8888888888888888,\"#fdca26\"],[1.0,\"#f0f921\"]],\"type\":\"histogram2dcontour\"}],\"mesh3d\":[{\"colorbar\":{\"outlinewidth\":0,\"ticks\":\"\"},\"type\":\"mesh3d\"}],\"parcoords\":[{\"line\":{\"colorbar\":{\"outlinewidth\":0,\"ticks\":\"\"}},\"type\":\"parcoords\"}],\"pie\":[{\"automargin\":true,\"type\":\"pie\"}],\"scatter\":[{\"marker\":{\"colorbar\":{\"outlinewidth\":0,\"ticks\":\"\"}},\"type\":\"scatter\"}],\"scatter3d\":[{\"line\":{\"colorbar\":{\"outlinewidth\":0,\"ticks\":\"\"}},\"marker\":{\"colorbar\":{\"outlinewidth\":0,\"ticks\":\"\"}},\"type\":\"scatter3d\"}],\"scattercarpet\":[{\"marker\":{\"colorbar\":{\"outlinewidth\":0,\"ticks\":\"\"}},\"type\":\"scattercarpet\"}],\"scattergeo\":[{\"marker\":{\"colorbar\":{\"outlinewidth\":0,\"ticks\":\"\"}},\"type\":\"scattergeo\"}],\"scattergl\":[{\"marker\":{\"colorbar\":{\"outlinewidth\":0,\"ticks\":\"\"}},\"type\":\"scattergl\"}],\"scattermapbox\":[{\"marker\":{\"colorbar\":{\"outlinewidth\":0,\"ticks\":\"\"}},\"type\":\"scattermapbox\"}],\"scatterpolar\":[{\"marker\":{\"colorbar\":{\"outlinewidth\":0,\"ticks\":\"\"}},\"type\":\"scatterpolar\"}],\"scatterpolargl\":[{\"marker\":{\"colorbar\":{\"outlinewidth\":0,\"ticks\":\"\"}},\"type\":\"scatterpolargl\"}],\"scatterternary\":[{\"marker\":{\"colorbar\":{\"outlinewidth\":0,\"ticks\":\"\"}},\"type\":\"scatterternary\"}],\"surface\":[{\"colorbar\":{\"outlinewidth\":0,\"ticks\":\"\"},\"colorscale\":[[0.0,\"#0d0887\"],[0.1111111111111111,\"#46039f\"],[0.2222222222222222,\"#7201a8\"],[0.3333333333333333,\"#9c179e\"],[0.4444444444444444,\"#bd3786\"],[0.5555555555555556,\"#d8576b\"],[0.6666666666666666,\"#ed7953\"],[0.7777777777777778,\"#fb9f3a\"],[0.8888888888888888,\"#fdca26\"],[1.0,\"#f0f921\"]],\"type\":\"surface\"}],\"table\":[{\"cells\":{\"fill\":{\"color\":\"#EBF0F8\"},\"line\":{\"color\":\"white\"}},\"header\":{\"fill\":{\"color\":\"#C8D4E3\"},\"line\":{\"color\":\"white\"}},\"type\":\"table\"}]},\"layout\":{\"annotationdefaults\":{\"arrowcolor\":\"#2a3f5f\",\"arrowhead\":0,\"arrowwidth\":1},\"autotypenumbers\":\"strict\",\"coloraxis\":{\"colorbar\":{\"outlinewidth\":0,\"ticks\":\"\"}},\"colorscale\":{\"diverging\":[[0,\"#8e0152\"],[0.1,\"#c51b7d\"],[0.2,\"#de77ae\"],[0.3,\"#f1b6da\"],[0.4,\"#fde0ef\"],[0.5,\"#f7f7f7\"],[0.6,\"#e6f5d0\"],[0.7,\"#b8e186\"],[0.8,\"#7fbc41\"],[0.9,\"#4d9221\"],[1,\"#276419\"]],\"sequential\":[[0.0,\"#0d0887\"],[0.1111111111111111,\"#46039f\"],[0.2222222222222222,\"#7201a8\"],[0.3333333333333333,\"#9c179e\"],[0.4444444444444444,\"#bd3786\"],[0.5555555555555556,\"#d8576b\"],[0.6666666666666666,\"#ed7953\"],[0.7777777777777778,\"#fb9f3a\"],[0.8888888888888888,\"#fdca26\"],[1.0,\"#f0f921\"]],\"sequentialminus\":[[0.0,\"#0d0887\"],[0.1111111111111111,\"#46039f\"],[0.2222222222222222,\"#7201a8\"],[0.3333333333333333,\"#9c179e\"],[0.4444444444444444,\"#bd3786\"],[0.5555555555555556,\"#d8576b\"],[0.6666666666666666,\"#ed7953\"],[0.7777777777777778,\"#fb9f3a\"],[0.8888888888888888,\"#fdca26\"],[1.0,\"#f0f921\"]]},\"colorway\":[\"#636efa\",\"#EF553B\",\"#00cc96\",\"#ab63fa\",\"#FFA15A\",\"#19d3f3\",\"#FF6692\",\"#B6E880\",\"#FF97FF\",\"#FECB52\"],\"font\":{\"color\":\"#2a3f5f\"},\"geo\":{\"bgcolor\":\"white\",\"lakecolor\":\"white\",\"landcolor\":\"#E5ECF6\",\"showlakes\":true,\"showland\":true,\"subunitcolor\":\"white\"},\"hoverlabel\":{\"align\":\"left\"},\"hovermode\":\"closest\",\"mapbox\":{\"style\":\"light\"},\"paper_bgcolor\":\"white\",\"plot_bgcolor\":\"#E5ECF6\",\"polar\":{\"angularaxis\":{\"gridcolor\":\"white\",\"linecolor\":\"white\",\"ticks\":\"\"},\"bgcolor\":\"#E5ECF6\",\"radialaxis\":{\"gridcolor\":\"white\",\"linecolor\":\"white\",\"ticks\":\"\"}},\"scene\":{\"xaxis\":{\"backgroundcolor\":\"#E5ECF6\",\"gridcolor\":\"white\",\"gridwidth\":2,\"linecolor\":\"white\",\"showbackground\":true,\"ticks\":\"\",\"zerolinecolor\":\"white\"},\"yaxis\":{\"backgroundcolor\":\"#E5ECF6\",\"gridcolor\":\"white\",\"gridwidth\":2,\"linecolor\":\"white\",\"showbackground\":true,\"ticks\":\"\",\"zerolinecolor\":\"white\"},\"zaxis\":{\"backgroundcolor\":\"#E5ECF6\",\"gridcolor\":\"white\",\"gridwidth\":2,\"linecolor\":\"white\",\"showbackground\":true,\"ticks\":\"\",\"zerolinecolor\":\"white\"}},\"shapedefaults\":{\"line\":{\"color\":\"#2a3f5f\"}},\"ternary\":{\"aaxis\":{\"gridcolor\":\"white\",\"linecolor\":\"white\",\"ticks\":\"\"},\"baxis\":{\"gridcolor\":\"white\",\"linecolor\":\"white\",\"ticks\":\"\"},\"bgcolor\":\"#E5ECF6\",\"caxis\":{\"gridcolor\":\"white\",\"linecolor\":\"white\",\"ticks\":\"\"}},\"title\":{\"x\":0.05},\"xaxis\":{\"automargin\":true,\"gridcolor\":\"white\",\"linecolor\":\"white\",\"ticks\":\"\",\"title\":{\"standoff\":15},\"zerolinecolor\":\"white\",\"zerolinewidth\":2},\"yaxis\":{\"automargin\":true,\"gridcolor\":\"white\",\"linecolor\":\"white\",\"ticks\":\"\",\"title\":{\"standoff\":15},\"zerolinecolor\":\"white\",\"zerolinewidth\":2}}},\"xaxis\":{\"anchor\":\"y\",\"domain\":[0.0,1.0],\"title\":{\"text\":\"Age\"}},\"yaxis\":{\"anchor\":\"x\",\"domain\":[0.0,1.0],\"title\":{\"text\":\"MaxHR\"}},\"legend\":{\"title\":{\"text\":\"Sex\"},\"tracegroupgap\":0},\"title\":{\"text\":\"Age vs Maximum Heart Rate\"},\"boxmode\":\"group\"},                        {\"responsive\": true}                    ).then(function(){\n",
       "                            \n",
       "var gd = document.getElementById('8008b5b0-9c80-49cf-b33b-7ea6d4e8a2a6');\n",
       "var x = new MutationObserver(function (mutations, observer) {{\n",
       "        var display = window.getComputedStyle(gd).display;\n",
       "        if (!display || display === 'none') {{\n",
       "            console.log([gd, 'removed!']);\n",
       "            Plotly.purge(gd);\n",
       "            observer.disconnect();\n",
       "        }}\n",
       "}});\n",
       "\n",
       "// Listen for the removal of the full notebook cells\n",
       "var notebookContainer = gd.closest('#notebook-container');\n",
       "if (notebookContainer) {{\n",
       "    x.observe(notebookContainer, {childList: true});\n",
       "}}\n",
       "\n",
       "// Listen for the clearing of the current output cell\n",
       "var outputEl = gd.closest('.output');\n",
       "if (outputEl) {{\n",
       "    x.observe(outputEl, {childList: true});\n",
       "}}\n",
       "\n",
       "                        })                };                });            </script>        </div>"
      ]
     },
     "metadata": {},
     "output_type": "display_data"
    }
   ],
   "source": [
    "fig = px.box(data_frame= df, x = 'Age', y = 'MaxHR', color = 'Sex', title = \"Age vs Maximum Heart Rate\")\n",
    "fig.show()"
   ]
  },
  {
   "cell_type": "code",
   "execution_count": 30,
   "id": "77695af3",
   "metadata": {
    "execution": {
     "iopub.execute_input": "2022-01-07T03:36:16.783606Z",
     "iopub.status.busy": "2022-01-07T03:36:16.782452Z",
     "iopub.status.idle": "2022-01-07T03:36:16.876793Z",
     "shell.execute_reply": "2022-01-07T03:36:16.876077Z",
     "shell.execute_reply.started": "2022-01-03T09:24:20.618804Z"
    },
    "papermill": {
     "duration": 0.154607,
     "end_time": "2022-01-07T03:36:16.876959",
     "exception": false,
     "start_time": "2022-01-07T03:36:16.722352",
     "status": "completed"
    },
    "tags": []
   },
   "outputs": [
    {
     "data": {
      "text/html": [
       "<div>                            <div id=\"349c036d-0e3d-475d-8591-762ab7ea8c4f\" class=\"plotly-graph-div\" style=\"height:525px; width:100%;\"></div>            <script type=\"text/javascript\">                require([\"plotly\"], function(Plotly) {                    window.PLOTLYENV=window.PLOTLYENV || {};                                    if (document.getElementById(\"349c036d-0e3d-475d-8591-762ab7ea8c4f\")) {                    Plotly.newPlot(                        \"349c036d-0e3d-475d-8591-762ab7ea8c4f\",                        [{\"hovertemplate\":\"Sex=M<br>ChestPainType=%{x}<br>Age=%{y}<extra></extra>\",\"legendgroup\":\"M\",\"marker\":{\"color\":\"#636efa\",\"symbol\":\"circle\"},\"mode\":\"markers\",\"name\":\"M\",\"orientation\":\"v\",\"showlegend\":true,\"x\":[\"ATA\",\"ATA\",\"NAP\",\"NAP\",\"ATA\",\"ASY\",\"ATA\",\"ATA\",\"ASY\",\"ASY\",\"ASY\",\"ATA\",\"ATA\",\"ATA\",\"NAP\",\"NAP\",\"ASY\",\"ATA\",\"ATA\",\"NAP\",\"NAP\",\"ASY\",\"ASY\",\"ATA\",\"ASY\",\"ATA\",\"NAP\",\"ASY\",\"NAP\",\"ASY\",\"ATA\",\"NAP\",\"ASY\",\"ASY\",\"ATA\",\"ASY\",\"NAP\",\"ASY\",\"ASY\",\"ATA\",\"ASY\",\"ASY\",\"ATA\",\"ASY\",\"ASY\",\"ATA\",\"ATA\",\"ASY\",\"ASY\",\"NAP\",\"ASY\",\"ATA\",\"ASY\",\"NAP\",\"ATA\",\"ASY\",\"ATA\",\"ASY\",\"ASY\",\"ASY\",\"TA\",\"ASY\",\"ASY\",\"ASY\",\"ASY\",\"ATA\",\"NAP\",\"ASY\",\"ATA\",\"ASY\",\"ASY\",\"ASY\",\"ASY\",\"ATA\",\"ATA\",\"ASY\",\"ATA\",\"ASY\",\"ASY\",\"ATA\",\"ASY\",\"TA\",\"ASY\",\"ATA\",\"ATA\",\"NAP\",\"NAP\",\"ASY\",\"ASY\",\"ASY\",\"NAP\",\"ATA\",\"ASY\",\"ASY\",\"ASY\",\"ASY\",\"ASY\",\"ASY\",\"ASY\",\"ATA\",\"ATA\",\"ASY\",\"ATA\",\"ATA\",\"ATA\",\"ASY\",\"ATA\",\"ASY\",\"ASY\",\"ASY\",\"ASY\",\"ATA\",\"ASY\",\"ASY\",\"ATA\",\"ATA\",\"TA\",\"ASY\",\"ATA\",\"ASY\",\"NAP\",\"ATA\",\"NAP\",\"ATA\",\"NAP\",\"ASY\",\"ASY\",\"ASY\",\"ATA\",\"NAP\",\"ASY\",\"ATA\",\"ASY\",\"ASY\",\"NAP\",\"ATA\",\"ASY\",\"ASY\",\"ASY\",\"ATA\",\"ATA\",\"NAP\",\"ASY\",\"ATA\",\"ASY\",\"TA\",\"NAP\",\"NAP\",\"ATA\",\"ASY\",\"ATA\",\"ATA\",\"ATA\",\"ASY\",\"ASY\",\"NAP\",\"ASY\",\"ASY\",\"NAP\",\"ATA\",\"ATA\",\"ASY\",\"NAP\",\"ATA\",\"ASY\",\"NAP\",\"ASY\",\"ATA\",\"ASY\",\"NAP\",\"ASY\",\"ATA\",\"ASY\",\"TA\",\"ASY\",\"ASY\",\"ATA\",\"ASY\",\"ATA\",\"ASY\",\"TA\",\"NAP\",\"ASY\",\"ASY\",\"ASY\",\"ASY\",\"ASY\",\"ASY\",\"ATA\",\"ASY\",\"NAP\",\"ATA\",\"ASY\",\"ASY\",\"NAP\",\"ATA\",\"ASY\",\"ATA\",\"ASY\",\"ASY\",\"ASY\",\"NAP\",\"NAP\",\"NAP\",\"ASY\",\"NAP\",\"ASY\",\"ASY\",\"ASY\",\"ATA\",\"ATA\",\"NAP\",\"ASY\",\"ASY\",\"TA\",\"ASY\",\"ASY\",\"ASY\",\"ASY\",\"ASY\",\"ASY\",\"ATA\",\"ASY\",\"ASY\",\"ASY\",\"ATA\",\"ASY\",\"ASY\",\"ASY\",\"ASY\",\"ASY\",\"ASY\",\"ASY\",\"ATA\",\"NAP\",\"ASY\",\"ASY\",\"ASY\",\"NAP\",\"ASY\",\"ASY\",\"ASY\",\"ASY\",\"NAP\",\"ASY\",\"ASY\",\"ASY\",\"NAP\",\"ASY\",\"NAP\",\"ASY\",\"ASY\",\"TA\",\"NAP\",\"ASY\",\"ASY\",\"ASY\",\"ASY\",\"ASY\",\"ASY\",\"ASY\",\"ASY\",\"ASY\",\"ASY\",\"ASY\",\"ASY\",\"ASY\",\"ASY\",\"ASY\",\"ASY\",\"ASY\",\"TA\",\"ASY\",\"ATA\",\"NAP\",\"NAP\",\"NAP\",\"ASY\",\"NAP\",\"ASY\",\"NAP\",\"ASY\",\"ASY\",\"ASY\",\"ASY\",\"ASY\",\"ASY\",\"ASY\",\"ASY\",\"ASY\",\"NAP\",\"ASY\",\"ASY\",\"ASY\",\"ASY\",\"ASY\",\"ASY\",\"ASY\",\"ASY\",\"ASY\",\"ASY\",\"ASY\",\"ASY\",\"ASY\",\"ASY\",\"ASY\",\"ASY\",\"ASY\",\"ASY\",\"ASY\",\"ASY\",\"NAP\",\"ASY\",\"ASY\",\"ASY\",\"NAP\",\"ASY\",\"ASY\",\"ASY\",\"ASY\",\"NAP\",\"ASY\",\"ASY\",\"ASY\",\"NAP\",\"ASY\",\"ASY\",\"ASY\",\"ASY\",\"ASY\",\"NAP\",\"NAP\",\"ASY\",\"NAP\",\"NAP\",\"ATA\",\"ATA\",\"ASY\",\"ASY\",\"NAP\",\"ASY\",\"ASY\",\"ASY\",\"ASY\",\"ASY\",\"ASY\",\"ASY\",\"ASY\",\"NAP\",\"NAP\",\"NAP\",\"ASY\",\"ASY\",\"ASY\",\"ASY\",\"NAP\",\"ASY\",\"ASY\",\"ASY\",\"NAP\",\"NAP\",\"ASY\",\"ASY\",\"ASY\",\"ASY\",\"ASY\",\"NAP\",\"ASY\",\"ASY\",\"ASY\",\"ASY\",\"ASY\",\"ASY\",\"ASY\",\"NAP\",\"NAP\",\"NAP\",\"ASY\",\"ATA\",\"ASY\",\"ASY\",\"ASY\",\"NAP\",\"ATA\",\"ASY\",\"ASY\",\"ASY\",\"ASY\",\"NAP\",\"ATA\",\"NAP\",\"TA\",\"ASY\",\"ASY\",\"ATA\",\"ATA\",\"ASY\",\"TA\",\"ASY\",\"NAP\",\"ASY\",\"TA\",\"NAP\",\"ASY\",\"ASY\",\"ASY\",\"ASY\",\"ASY\",\"ASY\",\"ASY\",\"ASY\",\"ASY\",\"ASY\",\"NAP\",\"ASY\",\"NAP\",\"ASY\",\"ASY\",\"ASY\",\"ASY\",\"NAP\",\"TA\",\"ASY\",\"NAP\",\"NAP\",\"ASY\",\"NAP\",\"ASY\",\"ASY\",\"ASY\",\"ASY\",\"ASY\",\"ASY\",\"NAP\",\"ASY\",\"ATA\",\"NAP\",\"ASY\",\"ASY\",\"ASY\",\"ASY\",\"ASY\",\"ASY\",\"ASY\",\"NAP\",\"ASY\",\"ASY\",\"ASY\",\"NAP\",\"NAP\",\"ASY\",\"ASY\",\"NAP\",\"TA\",\"ASY\",\"TA\",\"ASY\",\"NAP\",\"NAP\",\"TA\",\"NAP\",\"NAP\",\"ASY\",\"NAP\",\"NAP\",\"ASY\",\"NAP\",\"ATA\",\"ASY\",\"ASY\",\"ASY\",\"ASY\",\"ASY\",\"ASY\",\"ASY\",\"ASY\",\"ASY\",\"ASY\",\"ASY\",\"ASY\",\"ASY\",\"ASY\",\"ASY\",\"ASY\",\"ASY\",\"ASY\",\"ASY\",\"ASY\",\"ASY\",\"NAP\",\"ASY\",\"ATA\",\"ASY\",\"NAP\",\"ASY\",\"NAP\",\"ATA\",\"ASY\",\"ASY\",\"ASY\",\"ASY\",\"ASY\",\"ASY\",\"NAP\",\"ASY\",\"ASY\",\"ASY\",\"NAP\",\"NAP\",\"ASY\",\"NAP\",\"ASY\",\"ASY\",\"ASY\",\"ASY\",\"TA\",\"ASY\",\"ASY\",\"ATA\",\"ASY\",\"ATA\",\"ASY\",\"ASY\",\"NAP\",\"ASY\",\"ASY\",\"ASY\",\"ASY\",\"NAP\",\"TA\",\"ASY\",\"ASY\",\"TA\",\"TA\",\"ASY\",\"ATA\",\"ASY\",\"ASY\",\"NAP\",\"NAP\",\"ASY\",\"ASY\",\"ASY\",\"ASY\",\"ASY\",\"TA\",\"NAP\",\"ASY\",\"ASY\",\"NAP\",\"ATA\",\"NAP\",\"NAP\",\"NAP\",\"ASY\",\"ATA\",\"ASY\",\"ATA\",\"ASY\",\"ATA\",\"NAP\",\"NAP\",\"TA\",\"ASY\",\"ASY\",\"NAP\",\"ASY\",\"ATA\",\"ASY\",\"ASY\",\"ATA\",\"ASY\",\"ASY\",\"ASY\",\"NAP\",\"ASY\",\"TA\",\"ATA\",\"TA\",\"ASY\",\"ATA\",\"ASY\",\"ASY\",\"ASY\",\"ASY\",\"ASY\",\"ASY\",\"ASY\",\"ASY\",\"ASY\",\"ASY\",\"NAP\",\"ASY\",\"ATA\",\"ATA\",\"ASY\",\"ASY\",\"NAP\",\"ASY\",\"ASY\",\"NAP\",\"ASY\",\"ATA\",\"ASY\",\"ASY\",\"ASY\",\"ASY\",\"NAP\",\"ASY\",\"ASY\",\"ASY\",\"ASY\",\"NAP\",\"TA\",\"ATA\",\"ASY\",\"ASY\",\"ASY\",\"NAP\",\"NAP\",\"ASY\",\"ATA\",\"TA\",\"TA\",\"ATA\",\"ASY\",\"ASY\",\"NAP\",\"TA\",\"TA\",\"NAP\",\"ASY\",\"TA\",\"ASY\",\"NAP\",\"ASY\",\"NAP\",\"NAP\",\"ASY\",\"NAP\",\"NAP\",\"ASY\",\"ASY\",\"NAP\",\"ASY\",\"ASY\",\"ATA\",\"ASY\",\"NAP\",\"ASY\",\"NAP\",\"ASY\",\"ASY\",\"ASY\",\"ASY\",\"TA\",\"NAP\",\"NAP\",\"NAP\",\"TA\",\"NAP\",\"ASY\",\"ATA\",\"NAP\",\"NAP\",\"ATA\",\"ASY\",\"ASY\",\"NAP\",\"ASY\",\"ATA\",\"TA\",\"ASY\",\"ASY\",\"ASY\",\"NAP\",\"ASY\",\"NAP\",\"ATA\",\"NAP\",\"NAP\",\"ASY\",\"ASY\",\"NAP\",\"ASY\",\"ASY\",\"ATA\",\"ASY\",\"NAP\",\"NAP\",\"NAP\",\"ASY\",\"NAP\",\"ASY\",\"ASY\",\"ATA\",\"ATA\",\"ATA\",\"NAP\",\"ATA\",\"ASY\",\"ASY\",\"NAP\",\"ASY\",\"ASY\",\"TA\",\"TA\",\"ATA\",\"ASY\",\"NAP\",\"ATA\",\"ASY\",\"ASY\",\"ATA\",\"ATA\",\"ATA\",\"NAP\",\"ASY\",\"ASY\",\"ATA\",\"ASY\",\"TA\",\"ASY\",\"ASY\",\"NAP\"],\"xaxis\":\"x\",\"y\":[40,37,54,39,54,37,58,39,49,38,60,36,44,44,40,36,53,52,51,53,56,54,41,32,65,35,52,43,59,37,50,36,41,50,45,31,58,54,52,49,45,46,32,52,44,57,44,52,55,46,32,52,49,55,54,63,52,56,66,65,43,55,39,48,58,43,39,56,41,65,51,40,46,57,34,50,39,57,47,38,38,34,46,58,54,42,38,46,56,56,49,39,54,43,52,50,47,53,39,42,50,54,39,48,40,55,41,56,38,49,44,54,59,49,47,42,46,50,48,58,58,29,40,53,49,52,43,54,59,37,52,51,52,46,58,58,41,53,46,50,48,45,49,42,53,47,46,42,56,50,35,35,28,54,48,56,47,39,54,55,29,46,33,55,50,53,38,41,37,40,41,39,41,55,48,48,55,54,55,48,54,54,48,45,49,44,48,61,62,55,36,46,46,59,47,54,52,34,54,45,55,55,59,51,52,60,49,42,59,53,36,48,53,65,32,61,50,57,51,47,60,55,53,51,55,53,58,57,65,60,41,34,53,74,57,56,61,68,59,63,62,46,42,45,59,52,60,60,56,38,40,51,62,72,63,63,43,64,61,52,51,69,59,48,69,36,53,43,56,58,55,67,46,53,38,53,62,47,56,56,56,61,68,57,63,60,66,63,59,61,47,65,70,50,60,50,43,54,61,42,53,55,61,51,70,61,38,57,38,58,52,61,51,65,52,47,35,57,62,59,53,62,54,56,56,54,63,44,60,55,66,66,65,60,60,60,56,59,62,63,57,62,63,46,63,60,58,64,63,74,52,69,51,60,56,55,54,77,63,55,52,64,60,60,58,59,61,40,61,41,57,63,59,51,59,42,55,62,56,53,68,53,60,62,59,51,61,57,56,58,69,67,58,65,63,55,57,65,54,72,75,49,51,60,58,61,67,62,65,63,69,51,62,55,75,40,67,58,60,63,35,62,43,63,68,65,48,63,64,61,50,59,55,45,65,61,49,72,50,64,55,63,59,56,62,74,54,57,62,76,70,48,48,61,66,68,55,62,71,74,53,58,75,56,58,64,54,54,59,55,57,61,41,71,38,55,56,69,64,72,69,56,62,67,57,69,51,48,69,69,64,57,53,37,67,74,63,58,61,64,58,60,57,55,55,56,57,61,61,74,68,62,53,62,46,62,55,58,62,70,57,64,65,56,59,60,59,53,44,61,46,53,64,40,67,48,43,47,58,57,66,59,50,48,61,59,42,48,40,44,46,59,58,49,44,66,42,52,61,62,57,44,63,57,51,47,61,70,45,45,56,58,35,58,41,57,42,62,59,50,59,54,54,52,47,66,58,67,57,63,48,51,59,41,42,46,56,49,54,57,54,62,52,60,66,42,64,54,56,57,64,59,50,51,54,53,52,40,58,41,55,45,56,38,55,58,43,53,65,69,69,67,34,51,46,67,50,42,41,53,43,56,52,70,54,70,54,35,48,77,68,58,60,51,55,52,58,64,37,59,51,58,29,51,54,44,54,65,57,63,41,52,39,45,52,62,43,47,52,68,39,60,65,60,60,54,44,44,51,59,61,55,64,43,60,58,49,48,52,44,57,67,52,43,52,59,64,57,57,47,35,61,58,58,56,56,67,44,63,41,59,45,68,57,38],\"yaxis\":\"y\",\"type\":\"scatter\"},{\"hovertemplate\":\"Sex=F<br>ChestPainType=%{x}<br>Age=%{y}<extra></extra>\",\"legendgroup\":\"F\",\"marker\":{\"color\":\"#EF553B\",\"symbol\":\"circle\"},\"mode\":\"markers\",\"name\":\"F\",\"orientation\":\"v\",\"showlegend\":true,\"x\":[\"NAP\",\"ASY\",\"ATA\",\"ATA\",\"NAP\",\"NAP\",\"ATA\",\"ATA\",\"TA\",\"ATA\",\"ATA\",\"ATA\",\"ATA\",\"ATA\",\"ASY\",\"ATA\",\"NAP\",\"ASY\",\"ATA\",\"ASY\",\"ATA\",\"NAP\",\"ATA\",\"ATA\",\"ASY\",\"ASY\",\"ASY\",\"ATA\",\"ATA\",\"ATA\",\"NAP\",\"ASY\",\"ASY\",\"ATA\",\"NAP\",\"ASY\",\"ASY\",\"TA\",\"NAP\",\"NAP\",\"ATA\",\"ATA\",\"ASY\",\"ATA\",\"ASY\",\"ATA\",\"ATA\",\"ATA\",\"ATA\",\"ASY\",\"ATA\",\"ASY\",\"ATA\",\"TA\",\"TA\",\"ATA\",\"NAP\",\"NAP\",\"TA\",\"ASY\",\"NAP\",\"ASY\",\"ATA\",\"ATA\",\"ATA\",\"NAP\",\"ATA\",\"NAP\",\"ATA\",\"ATA\",\"NAP\",\"ATA\",\"ATA\",\"ASY\",\"ATA\",\"NAP\",\"ATA\",\"NAP\",\"ATA\",\"ATA\",\"ASY\",\"ASY\",\"ASY\",\"ASY\",\"ASY\",\"NAP\",\"ASY\",\"TA\",\"ASY\",\"ASY\",\"ATA\",\"ASY\",\"ASY\",\"ATA\",\"ASY\",\"ASY\",\"NAP\",\"ATA\",\"ASY\",\"ASY\",\"ASY\",\"ATA\",\"NAP\",\"ASY\",\"NAP\",\"NAP\",\"NAP\",\"ASY\",\"ASY\",\"NAP\",\"ATA\",\"ATA\",\"ATA\",\"NAP\",\"ASY\",\"ASY\",\"TA\",\"ATA\",\"NAP\",\"ASY\",\"NAP\",\"ASY\",\"NAP\",\"NAP\",\"ATA\",\"ASY\",\"NAP\",\"ATA\",\"NAP\",\"ASY\",\"ASY\",\"ATA\",\"ASY\",\"ASY\",\"NAP\",\"ATA\",\"ASY\",\"TA\",\"NAP\",\"NAP\",\"NAP\",\"ASY\",\"NAP\",\"NAP\",\"ATA\",\"NAP\",\"NAP\",\"NAP\",\"ASY\",\"NAP\",\"ATA\",\"ASY\",\"ASY\",\"ASY\",\"ASY\",\"ASY\",\"NAP\",\"ASY\",\"ASY\",\"ASY\",\"ASY\",\"ATA\",\"ASY\",\"NAP\",\"TA\",\"NAP\",\"NAP\",\"ATA\",\"NAP\",\"ASY\",\"NAP\",\"ASY\",\"TA\",\"ASY\",\"ASY\",\"ASY\",\"ASY\",\"ASY\",\"NAP\",\"NAP\",\"ATA\",\"NAP\",\"ATA\",\"NAP\",\"NAP\",\"NAP\",\"ASY\",\"ASY\",\"ASY\",\"ATA\",\"ASY\",\"ASY\",\"ATA\"],\"xaxis\":\"x\",\"y\":[49,48,45,48,37,42,54,43,43,49,53,43,41,48,48,54,54,47,41,52,51,43,50,37,45,44,35,53,49,52,39,40,48,59,49,33,59,35,47,52,58,34,48,54,61,43,56,43,52,46,54,50,41,62,57,31,50,56,30,51,48,37,38,54,43,53,55,51,55,54,47,32,45,57,54,51,55,51,48,47,62,51,38,64,64,73,38,62,50,66,63,64,54,61,51,54,67,74,63,57,71,54,48,46,51,71,37,62,65,65,63,45,41,60,59,51,60,58,44,57,76,67,39,42,41,61,64,50,44,49,60,45,55,60,54,49,56,66,65,54,52,63,46,67,34,41,50,54,64,51,46,66,62,64,50,45,68,62,56,42,62,55,58,54,69,60,43,41,63,35,62,43,58,61,62,53,53,62,51,65,71,58,56,53,66,39,58,55,58,55,63,57,57],\"yaxis\":\"y\",\"type\":\"scatter\"}],                        {\"template\":{\"data\":{\"bar\":[{\"error_x\":{\"color\":\"#2a3f5f\"},\"error_y\":{\"color\":\"#2a3f5f\"},\"marker\":{\"line\":{\"color\":\"#E5ECF6\",\"width\":0.5},\"pattern\":{\"fillmode\":\"overlay\",\"size\":10,\"solidity\":0.2}},\"type\":\"bar\"}],\"barpolar\":[{\"marker\":{\"line\":{\"color\":\"#E5ECF6\",\"width\":0.5},\"pattern\":{\"fillmode\":\"overlay\",\"size\":10,\"solidity\":0.2}},\"type\":\"barpolar\"}],\"carpet\":[{\"aaxis\":{\"endlinecolor\":\"#2a3f5f\",\"gridcolor\":\"white\",\"linecolor\":\"white\",\"minorgridcolor\":\"white\",\"startlinecolor\":\"#2a3f5f\"},\"baxis\":{\"endlinecolor\":\"#2a3f5f\",\"gridcolor\":\"white\",\"linecolor\":\"white\",\"minorgridcolor\":\"white\",\"startlinecolor\":\"#2a3f5f\"},\"type\":\"carpet\"}],\"choropleth\":[{\"colorbar\":{\"outlinewidth\":0,\"ticks\":\"\"},\"type\":\"choropleth\"}],\"contour\":[{\"colorbar\":{\"outlinewidth\":0,\"ticks\":\"\"},\"colorscale\":[[0.0,\"#0d0887\"],[0.1111111111111111,\"#46039f\"],[0.2222222222222222,\"#7201a8\"],[0.3333333333333333,\"#9c179e\"],[0.4444444444444444,\"#bd3786\"],[0.5555555555555556,\"#d8576b\"],[0.6666666666666666,\"#ed7953\"],[0.7777777777777778,\"#fb9f3a\"],[0.8888888888888888,\"#fdca26\"],[1.0,\"#f0f921\"]],\"type\":\"contour\"}],\"contourcarpet\":[{\"colorbar\":{\"outlinewidth\":0,\"ticks\":\"\"},\"type\":\"contourcarpet\"}],\"heatmap\":[{\"colorbar\":{\"outlinewidth\":0,\"ticks\":\"\"},\"colorscale\":[[0.0,\"#0d0887\"],[0.1111111111111111,\"#46039f\"],[0.2222222222222222,\"#7201a8\"],[0.3333333333333333,\"#9c179e\"],[0.4444444444444444,\"#bd3786\"],[0.5555555555555556,\"#d8576b\"],[0.6666666666666666,\"#ed7953\"],[0.7777777777777778,\"#fb9f3a\"],[0.8888888888888888,\"#fdca26\"],[1.0,\"#f0f921\"]],\"type\":\"heatmap\"}],\"heatmapgl\":[{\"colorbar\":{\"outlinewidth\":0,\"ticks\":\"\"},\"colorscale\":[[0.0,\"#0d0887\"],[0.1111111111111111,\"#46039f\"],[0.2222222222222222,\"#7201a8\"],[0.3333333333333333,\"#9c179e\"],[0.4444444444444444,\"#bd3786\"],[0.5555555555555556,\"#d8576b\"],[0.6666666666666666,\"#ed7953\"],[0.7777777777777778,\"#fb9f3a\"],[0.8888888888888888,\"#fdca26\"],[1.0,\"#f0f921\"]],\"type\":\"heatmapgl\"}],\"histogram\":[{\"marker\":{\"pattern\":{\"fillmode\":\"overlay\",\"size\":10,\"solidity\":0.2}},\"type\":\"histogram\"}],\"histogram2d\":[{\"colorbar\":{\"outlinewidth\":0,\"ticks\":\"\"},\"colorscale\":[[0.0,\"#0d0887\"],[0.1111111111111111,\"#46039f\"],[0.2222222222222222,\"#7201a8\"],[0.3333333333333333,\"#9c179e\"],[0.4444444444444444,\"#bd3786\"],[0.5555555555555556,\"#d8576b\"],[0.6666666666666666,\"#ed7953\"],[0.7777777777777778,\"#fb9f3a\"],[0.8888888888888888,\"#fdca26\"],[1.0,\"#f0f921\"]],\"type\":\"histogram2d\"}],\"histogram2dcontour\":[{\"colorbar\":{\"outlinewidth\":0,\"ticks\":\"\"},\"colorscale\":[[0.0,\"#0d0887\"],[0.1111111111111111,\"#46039f\"],[0.2222222222222222,\"#7201a8\"],[0.3333333333333333,\"#9c179e\"],[0.4444444444444444,\"#bd3786\"],[0.5555555555555556,\"#d8576b\"],[0.6666666666666666,\"#ed7953\"],[0.7777777777777778,\"#fb9f3a\"],[0.8888888888888888,\"#fdca26\"],[1.0,\"#f0f921\"]],\"type\":\"histogram2dcontour\"}],\"mesh3d\":[{\"colorbar\":{\"outlinewidth\":0,\"ticks\":\"\"},\"type\":\"mesh3d\"}],\"parcoords\":[{\"line\":{\"colorbar\":{\"outlinewidth\":0,\"ticks\":\"\"}},\"type\":\"parcoords\"}],\"pie\":[{\"automargin\":true,\"type\":\"pie\"}],\"scatter\":[{\"marker\":{\"colorbar\":{\"outlinewidth\":0,\"ticks\":\"\"}},\"type\":\"scatter\"}],\"scatter3d\":[{\"line\":{\"colorbar\":{\"outlinewidth\":0,\"ticks\":\"\"}},\"marker\":{\"colorbar\":{\"outlinewidth\":0,\"ticks\":\"\"}},\"type\":\"scatter3d\"}],\"scattercarpet\":[{\"marker\":{\"colorbar\":{\"outlinewidth\":0,\"ticks\":\"\"}},\"type\":\"scattercarpet\"}],\"scattergeo\":[{\"marker\":{\"colorbar\":{\"outlinewidth\":0,\"ticks\":\"\"}},\"type\":\"scattergeo\"}],\"scattergl\":[{\"marker\":{\"colorbar\":{\"outlinewidth\":0,\"ticks\":\"\"}},\"type\":\"scattergl\"}],\"scattermapbox\":[{\"marker\":{\"colorbar\":{\"outlinewidth\":0,\"ticks\":\"\"}},\"type\":\"scattermapbox\"}],\"scatterpolar\":[{\"marker\":{\"colorbar\":{\"outlinewidth\":0,\"ticks\":\"\"}},\"type\":\"scatterpolar\"}],\"scatterpolargl\":[{\"marker\":{\"colorbar\":{\"outlinewidth\":0,\"ticks\":\"\"}},\"type\":\"scatterpolargl\"}],\"scatterternary\":[{\"marker\":{\"colorbar\":{\"outlinewidth\":0,\"ticks\":\"\"}},\"type\":\"scatterternary\"}],\"surface\":[{\"colorbar\":{\"outlinewidth\":0,\"ticks\":\"\"},\"colorscale\":[[0.0,\"#0d0887\"],[0.1111111111111111,\"#46039f\"],[0.2222222222222222,\"#7201a8\"],[0.3333333333333333,\"#9c179e\"],[0.4444444444444444,\"#bd3786\"],[0.5555555555555556,\"#d8576b\"],[0.6666666666666666,\"#ed7953\"],[0.7777777777777778,\"#fb9f3a\"],[0.8888888888888888,\"#fdca26\"],[1.0,\"#f0f921\"]],\"type\":\"surface\"}],\"table\":[{\"cells\":{\"fill\":{\"color\":\"#EBF0F8\"},\"line\":{\"color\":\"white\"}},\"header\":{\"fill\":{\"color\":\"#C8D4E3\"},\"line\":{\"color\":\"white\"}},\"type\":\"table\"}]},\"layout\":{\"annotationdefaults\":{\"arrowcolor\":\"#2a3f5f\",\"arrowhead\":0,\"arrowwidth\":1},\"autotypenumbers\":\"strict\",\"coloraxis\":{\"colorbar\":{\"outlinewidth\":0,\"ticks\":\"\"}},\"colorscale\":{\"diverging\":[[0,\"#8e0152\"],[0.1,\"#c51b7d\"],[0.2,\"#de77ae\"],[0.3,\"#f1b6da\"],[0.4,\"#fde0ef\"],[0.5,\"#f7f7f7\"],[0.6,\"#e6f5d0\"],[0.7,\"#b8e186\"],[0.8,\"#7fbc41\"],[0.9,\"#4d9221\"],[1,\"#276419\"]],\"sequential\":[[0.0,\"#0d0887\"],[0.1111111111111111,\"#46039f\"],[0.2222222222222222,\"#7201a8\"],[0.3333333333333333,\"#9c179e\"],[0.4444444444444444,\"#bd3786\"],[0.5555555555555556,\"#d8576b\"],[0.6666666666666666,\"#ed7953\"],[0.7777777777777778,\"#fb9f3a\"],[0.8888888888888888,\"#fdca26\"],[1.0,\"#f0f921\"]],\"sequentialminus\":[[0.0,\"#0d0887\"],[0.1111111111111111,\"#46039f\"],[0.2222222222222222,\"#7201a8\"],[0.3333333333333333,\"#9c179e\"],[0.4444444444444444,\"#bd3786\"],[0.5555555555555556,\"#d8576b\"],[0.6666666666666666,\"#ed7953\"],[0.7777777777777778,\"#fb9f3a\"],[0.8888888888888888,\"#fdca26\"],[1.0,\"#f0f921\"]]},\"colorway\":[\"#636efa\",\"#EF553B\",\"#00cc96\",\"#ab63fa\",\"#FFA15A\",\"#19d3f3\",\"#FF6692\",\"#B6E880\",\"#FF97FF\",\"#FECB52\"],\"font\":{\"color\":\"#2a3f5f\"},\"geo\":{\"bgcolor\":\"white\",\"lakecolor\":\"white\",\"landcolor\":\"#E5ECF6\",\"showlakes\":true,\"showland\":true,\"subunitcolor\":\"white\"},\"hoverlabel\":{\"align\":\"left\"},\"hovermode\":\"closest\",\"mapbox\":{\"style\":\"light\"},\"paper_bgcolor\":\"white\",\"plot_bgcolor\":\"#E5ECF6\",\"polar\":{\"angularaxis\":{\"gridcolor\":\"white\",\"linecolor\":\"white\",\"ticks\":\"\"},\"bgcolor\":\"#E5ECF6\",\"radialaxis\":{\"gridcolor\":\"white\",\"linecolor\":\"white\",\"ticks\":\"\"}},\"scene\":{\"xaxis\":{\"backgroundcolor\":\"#E5ECF6\",\"gridcolor\":\"white\",\"gridwidth\":2,\"linecolor\":\"white\",\"showbackground\":true,\"ticks\":\"\",\"zerolinecolor\":\"white\"},\"yaxis\":{\"backgroundcolor\":\"#E5ECF6\",\"gridcolor\":\"white\",\"gridwidth\":2,\"linecolor\":\"white\",\"showbackground\":true,\"ticks\":\"\",\"zerolinecolor\":\"white\"},\"zaxis\":{\"backgroundcolor\":\"#E5ECF6\",\"gridcolor\":\"white\",\"gridwidth\":2,\"linecolor\":\"white\",\"showbackground\":true,\"ticks\":\"\",\"zerolinecolor\":\"white\"}},\"shapedefaults\":{\"line\":{\"color\":\"#2a3f5f\"}},\"ternary\":{\"aaxis\":{\"gridcolor\":\"white\",\"linecolor\":\"white\",\"ticks\":\"\"},\"baxis\":{\"gridcolor\":\"white\",\"linecolor\":\"white\",\"ticks\":\"\"},\"bgcolor\":\"#E5ECF6\",\"caxis\":{\"gridcolor\":\"white\",\"linecolor\":\"white\",\"ticks\":\"\"}},\"title\":{\"x\":0.05},\"xaxis\":{\"automargin\":true,\"gridcolor\":\"white\",\"linecolor\":\"white\",\"ticks\":\"\",\"title\":{\"standoff\":15},\"zerolinecolor\":\"white\",\"zerolinewidth\":2},\"yaxis\":{\"automargin\":true,\"gridcolor\":\"white\",\"linecolor\":\"white\",\"ticks\":\"\",\"title\":{\"standoff\":15},\"zerolinecolor\":\"white\",\"zerolinewidth\":2}}},\"xaxis\":{\"anchor\":\"y\",\"domain\":[0.0,1.0],\"title\":{\"text\":\"ChestPainType\"}},\"yaxis\":{\"anchor\":\"x\",\"domain\":[0.0,1.0],\"title\":{\"text\":\"Age\"}},\"legend\":{\"title\":{\"text\":\"Sex\"},\"tracegroupgap\":0},\"margin\":{\"t\":60}},                        {\"responsive\": true}                    ).then(function(){\n",
       "                            \n",
       "var gd = document.getElementById('349c036d-0e3d-475d-8591-762ab7ea8c4f');\n",
       "var x = new MutationObserver(function (mutations, observer) {{\n",
       "        var display = window.getComputedStyle(gd).display;\n",
       "        if (!display || display === 'none') {{\n",
       "            console.log([gd, 'removed!']);\n",
       "            Plotly.purge(gd);\n",
       "            observer.disconnect();\n",
       "        }}\n",
       "}});\n",
       "\n",
       "// Listen for the removal of the full notebook cells\n",
       "var notebookContainer = gd.closest('#notebook-container');\n",
       "if (notebookContainer) {{\n",
       "    x.observe(notebookContainer, {childList: true});\n",
       "}}\n",
       "\n",
       "// Listen for the clearing of the current output cell\n",
       "var outputEl = gd.closest('.output');\n",
       "if (outputEl) {{\n",
       "    x.observe(outputEl, {childList: true});\n",
       "}}\n",
       "\n",
       "                        })                };                });            </script>        </div>"
      ]
     },
     "metadata": {},
     "output_type": "display_data"
    }
   ],
   "source": [
    "px.scatter(data_frame=df, y = 'Age', x = \"ChestPainType\", color = 'Sex')"
   ]
  },
  {
   "cell_type": "code",
   "execution_count": 31,
   "id": "c7ccbbc0",
   "metadata": {
    "execution": {
     "iopub.execute_input": "2022-01-07T03:36:16.988769Z",
     "iopub.status.busy": "2022-01-07T03:36:16.988030Z",
     "iopub.status.idle": "2022-01-07T03:36:17.052828Z",
     "shell.execute_reply": "2022-01-07T03:36:17.052264Z",
     "shell.execute_reply.started": "2022-01-03T09:24:20.71439Z"
    },
    "papermill": {
     "duration": 0.126093,
     "end_time": "2022-01-07T03:36:17.053000",
     "exception": false,
     "start_time": "2022-01-07T03:36:16.926907",
     "status": "completed"
    },
    "tags": []
   },
   "outputs": [
    {
     "data": {
      "text/html": [
       "<div>                            <div id=\"8f43b796-a98c-4e11-b3f0-14586dc61d11\" class=\"plotly-graph-div\" style=\"height:525px; width:100%;\"></div>            <script type=\"text/javascript\">                require([\"plotly\"], function(Plotly) {                    window.PLOTLYENV=window.PLOTLYENV || {};                                    if (document.getElementById(\"8f43b796-a98c-4e11-b3f0-14586dc61d11\")) {                    Plotly.newPlot(                        \"8f43b796-a98c-4e11-b3f0-14586dc61d11\",                        [{\"hovertemplate\":\"Sex=M<br>ST_Slope=%{x}<br>MaxHR=%{y}<extra></extra>\",\"legendgroup\":\"M\",\"marker\":{\"color\":\"#636efa\",\"symbol\":\"circle\"},\"mode\":\"markers\",\"name\":\"M\",\"orientation\":\"v\",\"showlegend\":true,\"x\":[\"Up\",\"Up\",\"Up\",\"Up\",\"Up\",\"Flat\",\"Flat\",\"Up\",\"Flat\",\"Flat\",\"Flat\",\"Flat\",\"Flat\",\"Flat\",\"Up\",\"Up\",\"Flat\",\"Up\",\"Up\",\"Flat\",\"Up\",\"Flat\",\"Flat\",\"Up\",\"Flat\",\"Up\",\"Up\",\"Flat\",\"Flat\",\"Up\",\"Up\",\"Flat\",\"Flat\",\"Flat\",\"Up\",\"Flat\",\"Flat\",\"Up\",\"Flat\",\"Up\",\"Up\",\"Flat\",\"Up\",\"Flat\",\"Up\",\"Flat\",\"Up\",\"Flat\",\"Flat\",\"Up\",\"Flat\",\"Up\",\"Flat\",\"Up\",\"Up\",\"Flat\",\"Up\",\"Flat\",\"Flat\",\"Flat\",\"Flat\",\"Flat\",\"Up\",\"Flat\",\"Flat\",\"Up\",\"Up\",\"Up\",\"Up\",\"Flat\",\"Up\",\"Flat\",\"Flat\",\"Up\",\"Up\",\"Up\",\"Up\",\"Flat\",\"Up\",\"Up\",\"Flat\",\"Flat\",\"Up\",\"Up\",\"Up\",\"Flat\",\"Up\",\"Flat\",\"Flat\",\"Flat\",\"Flat\",\"Up\",\"Flat\",\"Flat\",\"Flat\",\"Flat\",\"Flat\",\"Up\",\"Up\",\"Up\",\"Up\",\"Flat\",\"Up\",\"Up\",\"Up\",\"Up\",\"Up\",\"Flat\",\"Flat\",\"Up\",\"Flat\",\"Up\",\"Flat\",\"Flat\",\"Up\",\"Up\",\"Flat\",\"Flat\",\"Up\",\"Up\",\"Up\",\"Up\",\"Up\",\"Up\",\"Up\",\"Flat\",\"Flat\",\"Flat\",\"Up\",\"Up\",\"Flat\",\"Up\",\"Flat\",\"Flat\",\"Flat\",\"Up\",\"Flat\",\"Flat\",\"Up\",\"Up\",\"Up\",\"Up\",\"Flat\",\"Up\",\"Flat\",\"Up\",\"Up\",\"Up\",\"Up\",\"Up\",\"Up\",\"Flat\",\"Up\",\"Flat\",\"Flat\",\"Up\",\"Flat\",\"Flat\",\"Up\",\"Up\",\"Up\",\"Flat\",\"Up\",\"Up\",\"Flat\",\"Up\",\"Flat\",\"Up\",\"Up\",\"Up\",\"Up\",\"Flat\",\"Flat\",\"Flat\",\"Flat\",\"Flat\",\"Up\",\"Flat\",\"Flat\",\"Flat\",\"Up\",\"Flat\",\"Down\",\"Flat\",\"Flat\",\"Flat\",\"Flat\",\"Up\",\"Up\",\"Flat\",\"Up\",\"Up\",\"Flat\",\"Flat\",\"Flat\",\"Up\",\"Flat\",\"Up\",\"Flat\",\"Up\",\"Flat\",\"Up\",\"Up\",\"Flat\",\"Flat\",\"Up\",\"Flat\",\"Up\",\"Up\",\"Up\",\"Up\",\"Up\",\"Up\",\"Flat\",\"Up\",\"Up\",\"Flat\",\"Up\",\"Flat\",\"Up\",\"Flat\",\"Up\",\"Up\",\"Flat\",\"Flat\",\"Down\",\"Up\",\"Down\",\"Up\",\"Up\",\"Up\",\"Up\",\"Down\",\"Up\",\"Flat\",\"Up\",\"Flat\",\"Up\",\"Flat\",\"Flat\",\"Down\",\"Flat\",\"Down\",\"Up\",\"Up\",\"Flat\",\"Down\",\"Up\",\"Up\",\"Up\",\"Up\",\"Up\",\"Flat\",\"Flat\",\"Up\",\"Up\",\"Down\",\"Down\",\"Flat\",\"Flat\",\"Flat\",\"Flat\",\"Flat\",\"Flat\",\"Flat\",\"Flat\",\"Flat\",\"Up\",\"Down\",\"Flat\",\"Up\",\"Flat\",\"Flat\",\"Flat\",\"Flat\",\"Flat\",\"Flat\",\"Flat\",\"Flat\",\"Flat\",\"Flat\",\"Flat\",\"Up\",\"Flat\",\"Flat\",\"Up\",\"Flat\",\"Up\",\"Flat\",\"Down\",\"Flat\",\"Flat\",\"Flat\",\"Up\",\"Flat\",\"Flat\",\"Flat\",\"Flat\",\"Flat\",\"Flat\",\"Flat\",\"Flat\",\"Flat\",\"Flat\",\"Flat\",\"Flat\",\"Flat\",\"Flat\",\"Flat\",\"Flat\",\"Up\",\"Flat\",\"Flat\",\"Flat\",\"Flat\",\"Flat\",\"Flat\",\"Flat\",\"Flat\",\"Flat\",\"Flat\",\"Flat\",\"Flat\",\"Flat\",\"Flat\",\"Flat\",\"Flat\",\"Up\",\"Down\",\"Up\",\"Flat\",\"Up\",\"Flat\",\"Flat\",\"Up\",\"Flat\",\"Up\",\"Flat\",\"Flat\",\"Flat\",\"Flat\",\"Up\",\"Down\",\"Flat\",\"Down\",\"Up\",\"Up\",\"Flat\",\"Flat\",\"Up\",\"Up\",\"Flat\",\"Flat\",\"Flat\",\"Flat\",\"Flat\",\"Flat\",\"Up\",\"Flat\",\"Flat\",\"Down\",\"Flat\",\"Flat\",\"Up\",\"Flat\",\"Up\",\"Flat\",\"Flat\",\"Flat\",\"Up\",\"Flat\",\"Flat\",\"Down\",\"Up\",\"Down\",\"Up\",\"Flat\",\"Up\",\"Flat\",\"Flat\",\"Flat\",\"Flat\",\"Flat\",\"Up\",\"Flat\",\"Up\",\"Down\",\"Flat\",\"Flat\",\"Flat\",\"Down\",\"Up\",\"Down\",\"Flat\",\"Flat\",\"Up\",\"Flat\",\"Up\",\"Flat\",\"Flat\",\"Flat\",\"Flat\",\"Flat\",\"Flat\",\"Down\",\"Down\",\"Flat\",\"Flat\",\"Down\",\"Flat\",\"Flat\",\"Up\",\"Down\",\"Flat\",\"Flat\",\"Up\",\"Down\",\"Flat\",\"Up\",\"Flat\",\"Up\",\"Flat\",\"Up\",\"Flat\",\"Flat\",\"Flat\",\"Down\",\"Up\",\"Flat\",\"Down\",\"Up\",\"Flat\",\"Up\",\"Up\",\"Flat\",\"Up\",\"Flat\",\"Flat\",\"Flat\",\"Flat\",\"Flat\",\"Flat\",\"Down\",\"Flat\",\"Flat\",\"Down\",\"Flat\",\"Up\",\"Flat\",\"Down\",\"Down\",\"Up\",\"Flat\",\"Down\",\"Up\",\"Up\",\"Flat\",\"Up\",\"Flat\",\"Flat\",\"Up\",\"Flat\",\"Down\",\"Flat\",\"Flat\",\"Down\",\"Up\",\"Up\",\"Flat\",\"Flat\",\"Flat\",\"Flat\",\"Flat\",\"Flat\",\"Down\",\"Flat\",\"Down\",\"Flat\",\"Flat\",\"Flat\",\"Flat\",\"Flat\",\"Flat\",\"Flat\",\"Down\",\"Flat\",\"Flat\",\"Up\",\"Flat\",\"Up\",\"Flat\",\"Flat\",\"Flat\",\"Flat\",\"Flat\",\"Flat\",\"Up\",\"Up\",\"Down\",\"Flat\",\"Up\",\"Flat\",\"Flat\",\"Up\",\"Down\",\"Flat\",\"Flat\",\"Flat\",\"Flat\",\"Down\",\"Up\",\"Flat\",\"Flat\",\"Flat\",\"Flat\",\"Up\",\"Flat\",\"Up\",\"Flat\",\"Flat\",\"Up\",\"Flat\",\"Up\",\"Flat\",\"Flat\",\"Flat\",\"Flat\",\"Up\",\"Up\",\"Flat\",\"Flat\",\"Down\",\"Flat\",\"Up\",\"Flat\",\"Flat\",\"Flat\",\"Up\",\"Flat\",\"Flat\",\"Up\",\"Down\",\"Flat\",\"Up\",\"Up\",\"Up\",\"Up\",\"Up\",\"Up\",\"Up\",\"Up\",\"Flat\",\"Up\",\"Up\",\"Up\",\"Flat\",\"Flat\",\"Up\",\"Flat\",\"Flat\",\"Up\",\"Up\",\"Down\",\"Flat\",\"Up\",\"Up\",\"Flat\",\"Up\",\"Flat\",\"Flat\",\"Up\",\"Flat\",\"Flat\",\"Up\",\"Flat\",\"Flat\",\"Up\",\"Up\",\"Down\",\"Flat\",\"Up\",\"Flat\",\"Flat\",\"Up\",\"Flat\",\"Flat\",\"Up\",\"Flat\",\"Flat\",\"Flat\",\"Flat\",\"Flat\",\"Up\",\"Up\",\"Up\",\"Up\",\"Down\",\"Flat\",\"Flat\",\"Flat\",\"Down\",\"Flat\",\"Up\",\"Up\",\"Up\",\"Up\",\"Down\",\"Up\",\"Flat\",\"Up\",\"Flat\",\"Up\",\"Flat\",\"Up\",\"Up\",\"Flat\",\"Up\",\"Flat\",\"Up\",\"Up\",\"Down\",\"Up\",\"Flat\",\"Flat\",\"Up\",\"Flat\",\"Up\",\"Down\",\"Flat\",\"Flat\",\"Flat\",\"Flat\",\"Up\",\"Flat\",\"Flat\",\"Flat\",\"Up\",\"Down\",\"Up\",\"Up\",\"Up\",\"Flat\",\"Up\",\"Flat\",\"Up\",\"Down\",\"Up\",\"Up\",\"Up\",\"Up\",\"Up\",\"Up\",\"Flat\",\"Up\",\"Flat\",\"Flat\",\"Flat\",\"Flat\",\"Down\",\"Flat\",\"Flat\",\"Flat\",\"Up\",\"Up\",\"Flat\",\"Up\",\"Flat\",\"Flat\",\"Up\",\"Up\",\"Flat\",\"Flat\",\"Flat\",\"Up\",\"Up\",\"Flat\",\"Flat\",\"Up\",\"Up\",\"Flat\",\"Up\",\"Up\",\"Up\",\"Flat\",\"Flat\",\"Flat\",\"Up\",\"Up\",\"Up\",\"Up\",\"Flat\",\"Flat\",\"Up\",\"Up\",\"Flat\",\"Flat\",\"Up\",\"Down\",\"Up\",\"Up\",\"Flat\",\"Flat\",\"Up\",\"Flat\",\"Flat\",\"Up\",\"Flat\",\"Up\",\"Flat\",\"Up\",\"Up\",\"Up\",\"Down\",\"Flat\",\"Up\",\"Down\",\"Flat\",\"Down\",\"Up\",\"Up\",\"Flat\",\"Flat\",\"Flat\",\"Flat\",\"Up\"],\"xaxis\":\"x\",\"y\":[172,98,122,170,142,130,99,145,140,166,125,160,142,150,138,178,112,118,145,130,114,122,130,155,87,168,170,120,120,168,170,184,170,121,122,153,140,134,96,174,144,125,184,82,170,145,135,150,128,116,130,138,170,160,154,115,165,125,94,112,155,110,140,92,140,138,160,140,144,115,100,152,124,140,168,135,106,92,125,150,170,180,140,150,110,152,130,150,122,124,175,146,118,130,94,125,158,155,132,155,160,125,120,100,150,140,160,150,150,130,100,130,119,96,174,150,175,140,118,100,160,160,188,162,172,134,135,105,150,150,120,150,124,140,92,110,138,120,120,116,160,110,132,136,116,150,150,146,100,140,180,140,185,140,110,128,98,150,137,150,170,112,185,137,150,140,134,170,158,167,142,160,118,136,99,102,155,142,143,103,137,150,150,130,120,135,115,115,152,96,172,165,115,125,145,175,110,150,91,140,130,134,100,150,126,135,122,170,140,132,180,138,148,93,127,110,139,131,92,149,149,150,120,126,155,120,138,182,154,110,176,154,141,123,148,121,77,136,175,109,128,133,128,138,119,82,130,143,82,179,144,170,134,114,154,149,122,114,113,120,104,130,115,128,104,125,120,140,100,100,92,125,113,95,128,115,72,124,99,148,97,117,120,120,86,63,108,98,115,105,118,122,157,156,99,120,145,155,105,99,135,83,145,60,92,115,120,98,150,105,122,70,163,67,128,120,130,100,72,94,122,78,150,103,98,110,112,127,140,149,99,120,105,140,141,157,140,117,120,120,148,86,84,125,120,118,124,106,111,116,180,129,125,140,120,124,117,110,105,155,110,122,118,133,123,131,80,165,86,111,118,84,117,107,128,160,125,97,161,106,130,140,122,130,120,139,108,148,123,110,118,125,106,112,128,180,144,135,140,102,108,145,127,110,69,148,130,130,140,138,140,138,112,131,112,80,150,110,126,88,153,150,120,160,132,120,110,121,128,135,120,117,150,144,113,135,127,109,128,115,102,140,135,122,119,130,112,100,122,120,129,139,162,100,140,135,73,86,108,116,160,118,112,122,124,102,137,141,154,126,160,115,128,115,105,110,119,109,135,130,112,126,120,110,119,110,130,159,84,126,116,120,122,165,122,94,133,110,150,130,113,140,100,136,127,98,96,123,98,112,151,108,128,138,126,137,100,135,93,109,141,105,140,142,142,170,161,111,180,145,120,155,144,178,129,180,181,143,165,150,138,140,126,150,138,125,150,186,181,179,156,134,165,126,177,120,125,184,125,103,173,169,150,112,186,152,140,143,147,148,178,105,130,111,168,126,178,140,145,128,164,109,108,168,118,151,156,71,124,147,166,143,162,153,162,144,103,139,116,88,152,99,158,160,132,178,96,165,144,168,132,182,163,125,195,95,160,114,173,179,111,170,162,182,155,130,161,152,174,131,146,125,174,122,147,163,163,194,158,173,162,105,147,112,160,125,156,156,175,162,151,171,141,173,145,178,154,131,187,159,166,131,202,154,147,170,126,127,174,132,132,190,140,185,161,146,120,156,172,150,182,144,158,155,142,113,188,153,123,157,137,132,158,171,132,160,171,168,162,173,148,108,169,143,156,162,155,164,143,179,174,161,140,144,163,169,150,144,144,182,90,132,141,115,173],\"yaxis\":\"y\",\"type\":\"scatter\"},{\"hovertemplate\":\"Sex=F<br>ST_Slope=%{x}<br>MaxHR=%{y}<extra></extra>\",\"legendgroup\":\"F\",\"marker\":{\"color\":\"#EF553B\",\"symbol\":\"circle\"},\"mode\":\"markers\",\"name\":\"F\",\"orientation\":\"v\",\"showlegend\":true,\"x\":[\"Flat\",\"Flat\",\"Up\",\"Up\",\"Up\",\"Up\",\"Flat\",\"Up\",\"Up\",\"Up\",\"Up\",\"Up\",\"Up\",\"Up\",\"Flat\",\"Up\",\"Flat\",\"Flat\",\"Up\",\"Flat\",\"Up\",\"Up\",\"Up\",\"Up\",\"Up\",\"Up\",\"Up\",\"Flat\",\"Up\",\"Up\",\"Up\",\"Flat\",\"Up\",\"Flat\",\"Up\",\"Flat\",\"Flat\",\"Up\",\"Flat\",\"Up\",\"Flat\",\"Up\",\"Up\",\"Up\",\"Flat\",\"Up\",\"Flat\",\"Up\",\"Up\",\"Up\",\"Up\",\"Flat\",\"Up\",\"Up\",\"Flat\",\"Up\",\"Flat\",\"Up\",\"Up\",\"Flat\",\"Up\",\"Up\",\"Up\",\"Up\",\"Up\",\"Up\",\"Up\",\"Up\",\"Up\",\"Up\",\"Flat\",\"Up\",\"Up\",\"Flat\",\"Up\",\"Up\",\"Up\",\"Up\",\"Up\",\"Up\",\"Down\",\"Up\",\"Up\",\"Down\",\"Flat\",\"Up\",\"Flat\",\"Flat\",\"Flat\",\"Flat\",\"Up\",\"Flat\",\"Flat\",\"Up\",\"Up\",\"Flat\",\"Flat\",\"Up\",\"Flat\",\"Up\",\"Flat\",\"Up\",\"Up\",\"Flat\",\"Up\",\"Up\",\"Up\",\"Up\",\"Flat\",\"Up\",\"Up\",\"Flat\",\"Up\",\"Up\",\"Flat\",\"Flat\",\"Up\",\"Up\",\"Flat\",\"Up\",\"Flat\",\"Up\",\"Up\",\"Flat\",\"Up\",\"Up\",\"Up\",\"Up\",\"Flat\",\"Up\",\"Flat\",\"Flat\",\"Flat\",\"Up\",\"Up\",\"Flat\",\"Down\",\"Down\",\"Up\",\"Up\",\"Flat\",\"Flat\",\"Down\",\"Up\",\"Up\",\"Up\",\"Flat\",\"Up\",\"Flat\",\"Up\",\"Up\",\"Flat\",\"Flat\",\"Up\",\"Up\",\"Flat\",\"Flat\",\"Flat\",\"Flat\",\"Flat\",\"Flat\",\"Flat\",\"Flat\",\"Flat\",\"Up\",\"Up\",\"Flat\",\"Up\",\"Up\",\"Up\",\"Flat\",\"Flat\",\"Up\",\"Flat\",\"Down\",\"Up\",\"Flat\",\"Down\",\"Up\",\"Up\",\"Up\",\"Up\",\"Flat\",\"Up\",\"Flat\",\"Flat\",\"Flat\",\"Flat\",\"Flat\",\"Up\",\"Flat\",\"Flat\",\"Flat\"],\"xaxis\":\"x\",\"y\":[156,108,170,120,142,137,150,165,142,164,127,154,142,148,130,130,100,98,150,140,170,175,145,130,144,115,150,142,160,148,180,130,110,124,135,150,130,185,170,139,110,190,175,140,120,175,150,176,140,90,130,110,180,116,98,150,140,164,170,150,125,184,129,140,118,130,150,120,155,138,145,165,180,126,155,160,160,120,156,135,123,127,166,145,140,121,156,143,110,90,130,140,105,120,96,154,160,121,154,159,125,159,139,152,157,130,170,163,114,157,179,175,168,96,143,142,171,152,149,163,116,142,179,173,163,169,133,162,175,163,157,138,117,161,170,162,133,114,151,163,169,169,160,172,192,172,158,167,122,149,172,165,154,154,159,152,115,106,150,122,157,161,122,158,151,160,165,172,172,182,97,136,162,146,145,160,143,160,142,148,162,172,153,115,152,152,131,130,146,166,136,123,174],\"yaxis\":\"y\",\"type\":\"scatter\"}],                        {\"template\":{\"data\":{\"bar\":[{\"error_x\":{\"color\":\"#2a3f5f\"},\"error_y\":{\"color\":\"#2a3f5f\"},\"marker\":{\"line\":{\"color\":\"#E5ECF6\",\"width\":0.5},\"pattern\":{\"fillmode\":\"overlay\",\"size\":10,\"solidity\":0.2}},\"type\":\"bar\"}],\"barpolar\":[{\"marker\":{\"line\":{\"color\":\"#E5ECF6\",\"width\":0.5},\"pattern\":{\"fillmode\":\"overlay\",\"size\":10,\"solidity\":0.2}},\"type\":\"barpolar\"}],\"carpet\":[{\"aaxis\":{\"endlinecolor\":\"#2a3f5f\",\"gridcolor\":\"white\",\"linecolor\":\"white\",\"minorgridcolor\":\"white\",\"startlinecolor\":\"#2a3f5f\"},\"baxis\":{\"endlinecolor\":\"#2a3f5f\",\"gridcolor\":\"white\",\"linecolor\":\"white\",\"minorgridcolor\":\"white\",\"startlinecolor\":\"#2a3f5f\"},\"type\":\"carpet\"}],\"choropleth\":[{\"colorbar\":{\"outlinewidth\":0,\"ticks\":\"\"},\"type\":\"choropleth\"}],\"contour\":[{\"colorbar\":{\"outlinewidth\":0,\"ticks\":\"\"},\"colorscale\":[[0.0,\"#0d0887\"],[0.1111111111111111,\"#46039f\"],[0.2222222222222222,\"#7201a8\"],[0.3333333333333333,\"#9c179e\"],[0.4444444444444444,\"#bd3786\"],[0.5555555555555556,\"#d8576b\"],[0.6666666666666666,\"#ed7953\"],[0.7777777777777778,\"#fb9f3a\"],[0.8888888888888888,\"#fdca26\"],[1.0,\"#f0f921\"]],\"type\":\"contour\"}],\"contourcarpet\":[{\"colorbar\":{\"outlinewidth\":0,\"ticks\":\"\"},\"type\":\"contourcarpet\"}],\"heatmap\":[{\"colorbar\":{\"outlinewidth\":0,\"ticks\":\"\"},\"colorscale\":[[0.0,\"#0d0887\"],[0.1111111111111111,\"#46039f\"],[0.2222222222222222,\"#7201a8\"],[0.3333333333333333,\"#9c179e\"],[0.4444444444444444,\"#bd3786\"],[0.5555555555555556,\"#d8576b\"],[0.6666666666666666,\"#ed7953\"],[0.7777777777777778,\"#fb9f3a\"],[0.8888888888888888,\"#fdca26\"],[1.0,\"#f0f921\"]],\"type\":\"heatmap\"}],\"heatmapgl\":[{\"colorbar\":{\"outlinewidth\":0,\"ticks\":\"\"},\"colorscale\":[[0.0,\"#0d0887\"],[0.1111111111111111,\"#46039f\"],[0.2222222222222222,\"#7201a8\"],[0.3333333333333333,\"#9c179e\"],[0.4444444444444444,\"#bd3786\"],[0.5555555555555556,\"#d8576b\"],[0.6666666666666666,\"#ed7953\"],[0.7777777777777778,\"#fb9f3a\"],[0.8888888888888888,\"#fdca26\"],[1.0,\"#f0f921\"]],\"type\":\"heatmapgl\"}],\"histogram\":[{\"marker\":{\"pattern\":{\"fillmode\":\"overlay\",\"size\":10,\"solidity\":0.2}},\"type\":\"histogram\"}],\"histogram2d\":[{\"colorbar\":{\"outlinewidth\":0,\"ticks\":\"\"},\"colorscale\":[[0.0,\"#0d0887\"],[0.1111111111111111,\"#46039f\"],[0.2222222222222222,\"#7201a8\"],[0.3333333333333333,\"#9c179e\"],[0.4444444444444444,\"#bd3786\"],[0.5555555555555556,\"#d8576b\"],[0.6666666666666666,\"#ed7953\"],[0.7777777777777778,\"#fb9f3a\"],[0.8888888888888888,\"#fdca26\"],[1.0,\"#f0f921\"]],\"type\":\"histogram2d\"}],\"histogram2dcontour\":[{\"colorbar\":{\"outlinewidth\":0,\"ticks\":\"\"},\"colorscale\":[[0.0,\"#0d0887\"],[0.1111111111111111,\"#46039f\"],[0.2222222222222222,\"#7201a8\"],[0.3333333333333333,\"#9c179e\"],[0.4444444444444444,\"#bd3786\"],[0.5555555555555556,\"#d8576b\"],[0.6666666666666666,\"#ed7953\"],[0.7777777777777778,\"#fb9f3a\"],[0.8888888888888888,\"#fdca26\"],[1.0,\"#f0f921\"]],\"type\":\"histogram2dcontour\"}],\"mesh3d\":[{\"colorbar\":{\"outlinewidth\":0,\"ticks\":\"\"},\"type\":\"mesh3d\"}],\"parcoords\":[{\"line\":{\"colorbar\":{\"outlinewidth\":0,\"ticks\":\"\"}},\"type\":\"parcoords\"}],\"pie\":[{\"automargin\":true,\"type\":\"pie\"}],\"scatter\":[{\"marker\":{\"colorbar\":{\"outlinewidth\":0,\"ticks\":\"\"}},\"type\":\"scatter\"}],\"scatter3d\":[{\"line\":{\"colorbar\":{\"outlinewidth\":0,\"ticks\":\"\"}},\"marker\":{\"colorbar\":{\"outlinewidth\":0,\"ticks\":\"\"}},\"type\":\"scatter3d\"}],\"scattercarpet\":[{\"marker\":{\"colorbar\":{\"outlinewidth\":0,\"ticks\":\"\"}},\"type\":\"scattercarpet\"}],\"scattergeo\":[{\"marker\":{\"colorbar\":{\"outlinewidth\":0,\"ticks\":\"\"}},\"type\":\"scattergeo\"}],\"scattergl\":[{\"marker\":{\"colorbar\":{\"outlinewidth\":0,\"ticks\":\"\"}},\"type\":\"scattergl\"}],\"scattermapbox\":[{\"marker\":{\"colorbar\":{\"outlinewidth\":0,\"ticks\":\"\"}},\"type\":\"scattermapbox\"}],\"scatterpolar\":[{\"marker\":{\"colorbar\":{\"outlinewidth\":0,\"ticks\":\"\"}},\"type\":\"scatterpolar\"}],\"scatterpolargl\":[{\"marker\":{\"colorbar\":{\"outlinewidth\":0,\"ticks\":\"\"}},\"type\":\"scatterpolargl\"}],\"scatterternary\":[{\"marker\":{\"colorbar\":{\"outlinewidth\":0,\"ticks\":\"\"}},\"type\":\"scatterternary\"}],\"surface\":[{\"colorbar\":{\"outlinewidth\":0,\"ticks\":\"\"},\"colorscale\":[[0.0,\"#0d0887\"],[0.1111111111111111,\"#46039f\"],[0.2222222222222222,\"#7201a8\"],[0.3333333333333333,\"#9c179e\"],[0.4444444444444444,\"#bd3786\"],[0.5555555555555556,\"#d8576b\"],[0.6666666666666666,\"#ed7953\"],[0.7777777777777778,\"#fb9f3a\"],[0.8888888888888888,\"#fdca26\"],[1.0,\"#f0f921\"]],\"type\":\"surface\"}],\"table\":[{\"cells\":{\"fill\":{\"color\":\"#EBF0F8\"},\"line\":{\"color\":\"white\"}},\"header\":{\"fill\":{\"color\":\"#C8D4E3\"},\"line\":{\"color\":\"white\"}},\"type\":\"table\"}]},\"layout\":{\"annotationdefaults\":{\"arrowcolor\":\"#2a3f5f\",\"arrowhead\":0,\"arrowwidth\":1},\"autotypenumbers\":\"strict\",\"coloraxis\":{\"colorbar\":{\"outlinewidth\":0,\"ticks\":\"\"}},\"colorscale\":{\"diverging\":[[0,\"#8e0152\"],[0.1,\"#c51b7d\"],[0.2,\"#de77ae\"],[0.3,\"#f1b6da\"],[0.4,\"#fde0ef\"],[0.5,\"#f7f7f7\"],[0.6,\"#e6f5d0\"],[0.7,\"#b8e186\"],[0.8,\"#7fbc41\"],[0.9,\"#4d9221\"],[1,\"#276419\"]],\"sequential\":[[0.0,\"#0d0887\"],[0.1111111111111111,\"#46039f\"],[0.2222222222222222,\"#7201a8\"],[0.3333333333333333,\"#9c179e\"],[0.4444444444444444,\"#bd3786\"],[0.5555555555555556,\"#d8576b\"],[0.6666666666666666,\"#ed7953\"],[0.7777777777777778,\"#fb9f3a\"],[0.8888888888888888,\"#fdca26\"],[1.0,\"#f0f921\"]],\"sequentialminus\":[[0.0,\"#0d0887\"],[0.1111111111111111,\"#46039f\"],[0.2222222222222222,\"#7201a8\"],[0.3333333333333333,\"#9c179e\"],[0.4444444444444444,\"#bd3786\"],[0.5555555555555556,\"#d8576b\"],[0.6666666666666666,\"#ed7953\"],[0.7777777777777778,\"#fb9f3a\"],[0.8888888888888888,\"#fdca26\"],[1.0,\"#f0f921\"]]},\"colorway\":[\"#636efa\",\"#EF553B\",\"#00cc96\",\"#ab63fa\",\"#FFA15A\",\"#19d3f3\",\"#FF6692\",\"#B6E880\",\"#FF97FF\",\"#FECB52\"],\"font\":{\"color\":\"#2a3f5f\"},\"geo\":{\"bgcolor\":\"white\",\"lakecolor\":\"white\",\"landcolor\":\"#E5ECF6\",\"showlakes\":true,\"showland\":true,\"subunitcolor\":\"white\"},\"hoverlabel\":{\"align\":\"left\"},\"hovermode\":\"closest\",\"mapbox\":{\"style\":\"light\"},\"paper_bgcolor\":\"white\",\"plot_bgcolor\":\"#E5ECF6\",\"polar\":{\"angularaxis\":{\"gridcolor\":\"white\",\"linecolor\":\"white\",\"ticks\":\"\"},\"bgcolor\":\"#E5ECF6\",\"radialaxis\":{\"gridcolor\":\"white\",\"linecolor\":\"white\",\"ticks\":\"\"}},\"scene\":{\"xaxis\":{\"backgroundcolor\":\"#E5ECF6\",\"gridcolor\":\"white\",\"gridwidth\":2,\"linecolor\":\"white\",\"showbackground\":true,\"ticks\":\"\",\"zerolinecolor\":\"white\"},\"yaxis\":{\"backgroundcolor\":\"#E5ECF6\",\"gridcolor\":\"white\",\"gridwidth\":2,\"linecolor\":\"white\",\"showbackground\":true,\"ticks\":\"\",\"zerolinecolor\":\"white\"},\"zaxis\":{\"backgroundcolor\":\"#E5ECF6\",\"gridcolor\":\"white\",\"gridwidth\":2,\"linecolor\":\"white\",\"showbackground\":true,\"ticks\":\"\",\"zerolinecolor\":\"white\"}},\"shapedefaults\":{\"line\":{\"color\":\"#2a3f5f\"}},\"ternary\":{\"aaxis\":{\"gridcolor\":\"white\",\"linecolor\":\"white\",\"ticks\":\"\"},\"baxis\":{\"gridcolor\":\"white\",\"linecolor\":\"white\",\"ticks\":\"\"},\"bgcolor\":\"#E5ECF6\",\"caxis\":{\"gridcolor\":\"white\",\"linecolor\":\"white\",\"ticks\":\"\"}},\"title\":{\"x\":0.05},\"xaxis\":{\"automargin\":true,\"gridcolor\":\"white\",\"linecolor\":\"white\",\"ticks\":\"\",\"title\":{\"standoff\":15},\"zerolinecolor\":\"white\",\"zerolinewidth\":2},\"yaxis\":{\"automargin\":true,\"gridcolor\":\"white\",\"linecolor\":\"white\",\"ticks\":\"\",\"title\":{\"standoff\":15},\"zerolinecolor\":\"white\",\"zerolinewidth\":2}}},\"xaxis\":{\"anchor\":\"y\",\"domain\":[0.0,1.0],\"title\":{\"text\":\"ST_Slope\"}},\"yaxis\":{\"anchor\":\"x\",\"domain\":[0.0,1.0],\"title\":{\"text\":\"MaxHR\"}},\"legend\":{\"title\":{\"text\":\"Sex\"},\"tracegroupgap\":0},\"margin\":{\"t\":60}},                        {\"responsive\": true}                    ).then(function(){\n",
       "                            \n",
       "var gd = document.getElementById('8f43b796-a98c-4e11-b3f0-14586dc61d11');\n",
       "var x = new MutationObserver(function (mutations, observer) {{\n",
       "        var display = window.getComputedStyle(gd).display;\n",
       "        if (!display || display === 'none') {{\n",
       "            console.log([gd, 'removed!']);\n",
       "            Plotly.purge(gd);\n",
       "            observer.disconnect();\n",
       "        }}\n",
       "}});\n",
       "\n",
       "// Listen for the removal of the full notebook cells\n",
       "var notebookContainer = gd.closest('#notebook-container');\n",
       "if (notebookContainer) {{\n",
       "    x.observe(notebookContainer, {childList: true});\n",
       "}}\n",
       "\n",
       "// Listen for the clearing of the current output cell\n",
       "var outputEl = gd.closest('.output');\n",
       "if (outputEl) {{\n",
       "    x.observe(outputEl, {childList: true});\n",
       "}}\n",
       "\n",
       "                        })                };                });            </script>        </div>"
      ]
     },
     "metadata": {},
     "output_type": "display_data"
    }
   ],
   "source": [
    "px.scatter(data_frame=df, y = \"MaxHR\", x=\"ST_Slope\", color = 'Sex')"
   ]
  },
  {
   "cell_type": "code",
   "execution_count": 32,
   "id": "32bd6329",
   "metadata": {
    "execution": {
     "iopub.execute_input": "2022-01-07T03:36:17.174473Z",
     "iopub.status.busy": "2022-01-07T03:36:17.165464Z",
     "iopub.status.idle": "2022-01-07T03:36:17.233946Z",
     "shell.execute_reply": "2022-01-07T03:36:17.234482Z",
     "shell.execute_reply.started": "2022-01-03T09:24:20.79539Z"
    },
    "papermill": {
     "duration": 0.127979,
     "end_time": "2022-01-07T03:36:17.234690",
     "exception": false,
     "start_time": "2022-01-07T03:36:17.106711",
     "status": "completed"
    },
    "tags": []
   },
   "outputs": [
    {
     "data": {
      "text/html": [
       "<div>                            <div id=\"50b3e46c-be50-4459-873b-e8bd13782845\" class=\"plotly-graph-div\" style=\"height:525px; width:100%;\"></div>            <script type=\"text/javascript\">                require([\"plotly\"], function(Plotly) {                    window.PLOTLYENV=window.PLOTLYENV || {};                                    if (document.getElementById(\"50b3e46c-be50-4459-873b-e8bd13782845\")) {                    Plotly.newPlot(                        \"50b3e46c-be50-4459-873b-e8bd13782845\",                        [{\"alignmentgroup\":\"True\",\"hovertemplate\":\"Sex=M<br>RestingECG=%{x}<br>RestingBP=%{y}<extra></extra>\",\"legendgroup\":\"M\",\"marker\":{\"color\":\"#636efa\"},\"name\":\"M\",\"notched\":false,\"offsetgroup\":\"M\",\"orientation\":\"v\",\"showlegend\":true,\"x\":[\"Normal\",\"ST\",\"Normal\",\"Normal\",\"Normal\",\"Normal\",\"ST\",\"Normal\",\"Normal\",\"Normal\",\"Normal\",\"Normal\",\"Normal\",\"Normal\",\"Normal\",\"Normal\",\"ST\",\"Normal\",\"Normal\",\"Normal\",\"Normal\",\"Normal\",\"ST\",\"Normal\",\"Normal\",\"Normal\",\"ST\",\"Normal\",\"Normal\",\"Normal\",\"Normal\",\"Normal\",\"Normal\",\"Normal\",\"Normal\",\"Normal\",\"ST\",\"ST\",\"ST\",\"Normal\",\"Normal\",\"Normal\",\"Normal\",\"ST\",\"Normal\",\"ST\",\"Normal\",\"Normal\",\"Normal\",\"Normal\",\"Normal\",\"Normal\",\"Normal\",\"Normal\",\"Normal\",\"Normal\",\"Normal\",\"Normal\",\"Normal\",\"Normal\",\"ST\",\"Normal\",\"Normal\",\"Normal\",\"Normal\",\"Normal\",\"Normal\",\"Normal\",\"Normal\",\"ST\",\"Normal\",\"Normal\",\"Normal\",\"Normal\",\"ST\",\"Normal\",\"Normal\",\"Normal\",\"Normal\",\"Normal\",\"Normal\",\"Normal\",\"ST\",\"Normal\",\"Normal\",\"Normal\",\"Normal\",\"Normal\",\"ST\",\"ST\",\"Normal\",\"ST\",\"Normal\",\"Normal\",\"Normal\",\"ST\",\"ST\",\"Normal\",\"Normal\",\"Normal\",\"Normal\",\"Normal\",\"Normal\",\"Normal\",\"Normal\",\"Normal\",\"ST\",\"Normal\",\"Normal\",\"Normal\",\"Normal\",\"ST\",\"LVH\",\"Normal\",\"Normal\",\"Normal\",\"Normal\",\"ST\",\"Normal\",\"Normal\",\"Normal\",\"Normal\",\"Normal\",\"Normal\",\"Normal\",\"Normal\",\"Normal\",\"Normal\",\"Normal\",\"Normal\",\"Normal\",\"Normal\",\"Normal\",\"ST\",\"ST\",\"Normal\",\"Normal\",\"ST\",\"ST\",\"ST\",\"Normal\",\"Normal\",\"Normal\",\"Normal\",\"Normal\",\"Normal\",\"Normal\",\"Normal\",\"Normal\",\"Normal\",\"LVH\",\"Normal\",\"LVH\",\"Normal\",\"Normal\",\"Normal\",\"Normal\",\"Normal\",\"Normal\",\"Normal\",\"Normal\",\"Normal\",\"Normal\",\"Normal\",\"Normal\",\"Normal\",\"Normal\",\"Normal\",\"Normal\",\"Normal\",\"Normal\",\"Normal\",\"Normal\",\"Normal\",\"Normal\",\"Normal\",\"Normal\",\"Normal\",\"Normal\",\"Normal\",\"Normal\",\"Normal\",\"ST\",\"ST\",\"Normal\",\"Normal\",\"Normal\",\"ST\",\"Normal\",\"Normal\",\"Normal\",\"Normal\",\"Normal\",\"Normal\",\"Normal\",\"Normal\",\"Normal\",\"Normal\",\"Normal\",\"Normal\",\"Normal\",\"LVH\",\"Normal\",\"Normal\",\"Normal\",\"LVH\",\"Normal\",\"Normal\",\"Normal\",\"Normal\",\"Normal\",\"Normal\",\"Normal\",\"Normal\",\"Normal\",\"Normal\",\"Normal\",\"ST\",\"Normal\",\"ST\",\"Normal\",\"ST\",\"Normal\",\"Normal\",\"Normal\",\"ST\",\"Normal\",\"Normal\",\"Normal\",\"Normal\",\"Normal\",\"Normal\",\"Normal\",\"ST\",\"Normal\",\"Normal\",\"Normal\",\"Normal\",\"Normal\",\"Normal\",\"Normal\",\"ST\",\"Normal\",\"Normal\",\"Normal\",\"Normal\",\"ST\",\"Normal\",\"ST\",\"Normal\",\"ST\",\"Normal\",\"LVH\",\"LVH\",\"ST\",\"LVH\",\"Normal\",\"Normal\",\"Normal\",\"Normal\",\"Normal\",\"Normal\",\"Normal\",\"Normal\",\"ST\",\"Normal\",\"Normal\",\"ST\",\"ST\",\"ST\",\"ST\",\"LVH\",\"Normal\",\"Normal\",\"Normal\",\"Normal\",\"Normal\",\"Normal\",\"ST\",\"ST\",\"Normal\",\"Normal\",\"ST\",\"Normal\",\"Normal\",\"Normal\",\"Normal\",\"Normal\",\"Normal\",\"Normal\",\"Normal\",\"ST\",\"Normal\",\"ST\",\"ST\",\"Normal\",\"Normal\",\"Normal\",\"Normal\",\"Normal\",\"LVH\",\"Normal\",\"ST\",\"Normal\",\"ST\",\"LVH\",\"Normal\",\"Normal\",\"Normal\",\"ST\",\"Normal\",\"ST\",\"ST\",\"ST\",\"Normal\",\"Normal\",\"Normal\",\"Normal\",\"Normal\",\"Normal\",\"LVH\",\"ST\",\"Normal\",\"Normal\",\"Normal\",\"Normal\",\"ST\",\"ST\",\"ST\",\"ST\",\"LVH\",\"ST\",\"ST\",\"ST\",\"Normal\",\"ST\",\"ST\",\"ST\",\"Normal\",\"LVH\",\"ST\",\"ST\",\"Normal\",\"Normal\",\"ST\",\"ST\",\"Normal\",\"ST\",\"ST\",\"Normal\",\"ST\",\"ST\",\"ST\",\"ST\",\"Normal\",\"ST\",\"ST\",\"ST\",\"Normal\",\"Normal\",\"Normal\",\"ST\",\"ST\",\"Normal\",\"Normal\",\"ST\",\"Normal\",\"Normal\",\"ST\",\"ST\",\"ST\",\"Normal\",\"Normal\",\"Normal\",\"Normal\",\"Normal\",\"ST\",\"ST\",\"Normal\",\"Normal\",\"Normal\",\"ST\",\"ST\",\"Normal\",\"LVH\",\"LVH\",\"Normal\",\"ST\",\"LVH\",\"Normal\",\"ST\",\"Normal\",\"LVH\",\"Normal\",\"ST\",\"ST\",\"ST\",\"Normal\",\"Normal\",\"Normal\",\"ST\",\"ST\",\"Normal\",\"Normal\",\"Normal\",\"Normal\",\"ST\",\"Normal\",\"Normal\",\"Normal\",\"ST\",\"ST\",\"Normal\",\"ST\",\"Normal\",\"Normal\",\"Normal\",\"Normal\",\"Normal\",\"ST\",\"ST\",\"ST\",\"Normal\",\"ST\",\"Normal\",\"Normal\",\"ST\",\"ST\",\"ST\",\"ST\",\"LVH\",\"Normal\",\"ST\",\"Normal\",\"LVH\",\"Normal\",\"Normal\",\"Normal\",\"Normal\",\"ST\",\"ST\",\"ST\",\"Normal\",\"LVH\",\"ST\",\"ST\",\"Normal\",\"LVH\",\"ST\",\"LVH\",\"ST\",\"ST\",\"ST\",\"ST\",\"Normal\",\"ST\",\"Normal\",\"LVH\",\"Normal\",\"Normal\",\"ST\",\"ST\",\"Normal\",\"ST\",\"ST\",\"Normal\",\"ST\",\"ST\",\"Normal\",\"ST\",\"ST\",\"ST\",\"Normal\",\"ST\",\"Normal\",\"Normal\",\"ST\",\"Normal\",\"ST\",\"LVH\",\"ST\",\"Normal\",\"ST\",\"Normal\",\"LVH\",\"ST\",\"LVH\",\"Normal\",\"LVH\",\"LVH\",\"ST\",\"ST\",\"Normal\",\"LVH\",\"ST\",\"Normal\",\"ST\",\"ST\",\"LVH\",\"LVH\",\"LVH\",\"LVH\",\"LVH\",\"ST\",\"LVH\",\"Normal\",\"ST\",\"Normal\",\"Normal\",\"Normal\",\"Normal\",\"ST\",\"ST\",\"ST\",\"Normal\",\"ST\",\"ST\",\"LVH\",\"LVH\",\"LVH\",\"Normal\",\"Normal\",\"Normal\",\"LVH\",\"LVH\",\"LVH\",\"Normal\",\"LVH\",\"LVH\",\"Normal\",\"Normal\",\"LVH\",\"LVH\",\"Normal\",\"LVH\",\"LVH\",\"Normal\",\"Normal\",\"LVH\",\"LVH\",\"LVH\",\"LVH\",\"LVH\",\"LVH\",\"LVH\",\"LVH\",\"Normal\",\"LVH\",\"Normal\",\"Normal\",\"Normal\",\"Normal\",\"LVH\",\"LVH\",\"LVH\",\"Normal\",\"Normal\",\"Normal\",\"LVH\",\"LVH\",\"Normal\",\"Normal\",\"LVH\",\"LVH\",\"LVH\",\"Normal\",\"Normal\",\"LVH\",\"LVH\",\"LVH\",\"Normal\",\"Normal\",\"Normal\",\"LVH\",\"LVH\",\"Normal\",\"LVH\",\"LVH\",\"LVH\",\"LVH\",\"Normal\",\"LVH\",\"LVH\",\"Normal\",\"LVH\",\"LVH\",\"Normal\",\"Normal\",\"LVH\",\"LVH\",\"LVH\",\"Normal\",\"Normal\",\"Normal\",\"Normal\",\"LVH\",\"LVH\",\"Normal\",\"LVH\",\"Normal\",\"LVH\",\"Normal\",\"Normal\",\"Normal\",\"LVH\",\"Normal\",\"LVH\",\"LVH\",\"LVH\",\"Normal\",\"LVH\",\"LVH\",\"Normal\",\"LVH\",\"LVH\",\"Normal\",\"Normal\",\"LVH\",\"LVH\",\"Normal\",\"Normal\",\"LVH\",\"LVH\",\"Normal\",\"Normal\",\"LVH\",\"Normal\",\"LVH\",\"LVH\",\"LVH\",\"LVH\",\"LVH\",\"LVH\",\"Normal\",\"Normal\",\"Normal\",\"Normal\",\"Normal\",\"LVH\",\"LVH\",\"Normal\",\"LVH\",\"Normal\",\"Normal\",\"Normal\",\"Normal\",\"Normal\",\"LVH\",\"Normal\",\"LVH\",\"Normal\",\"LVH\",\"LVH\",\"Normal\",\"LVH\",\"Normal\",\"LVH\",\"Normal\",\"Normal\",\"LVH\",\"LVH\",\"LVH\",\"LVH\",\"Normal\",\"LVH\",\"Normal\",\"Normal\",\"LVH\",\"Normal\",\"LVH\",\"Normal\",\"LVH\",\"Normal\",\"LVH\",\"Normal\",\"Normal\",\"LVH\",\"LVH\",\"Normal\",\"LVH\",\"LVH\",\"Normal\",\"LVH\",\"LVH\",\"LVH\",\"Normal\",\"LVH\",\"LVH\",\"Normal\",\"Normal\",\"Normal\",\"Normal\",\"Normal\",\"Normal\",\"LVH\",\"LVH\",\"Normal\",\"Normal\",\"Normal\",\"Normal\",\"Normal\",\"LVH\",\"Normal\",\"LVH\",\"Normal\",\"Normal\",\"LVH\",\"LVH\",\"Normal\",\"Normal\",\"Normal\",\"Normal\",\"ST\",\"Normal\",\"LVH\",\"Normal\",\"LVH\",\"Normal\",\"LVH\",\"Normal\",\"LVH\",\"Normal\",\"Normal\",\"Normal\",\"Normal\"],\"x0\":\" \",\"xaxis\":\"x\",\"y\":[140,130,150,120,110,140,136,120,140,110,100,120,120,150,130,130,124,120,125,145,130,125,130,125,140,150,140,120,130,120,140,112,110,130,140,120,130,150,112,100,140,120,110,160,150,140,130,120,140,150,118,140,130,110,120,150,160,150,140,170,120,140,130,160,130,142,160,120,125,130,130,120,118,140,150,140,190,150,140,140,120,140,110,130,120,120,145,110,170,150,115,120,140,150,160,140,160,140,110,120,120,130,130,100,130,120,120,155,110,140,130,160,140,128,160,120,140,140,140,135,140,120,140,140,140,140,140,140,140,130,130,130,140,110,160,130,120,180,180,170,130,135,120,150,120,110,120,160,130,150,120,110,130,125,106,130,150,110,120,140,140,130,120,120,145,120,92,120,130,130,112,120,120,140,160,160,145,200,160,160,120,120,122,130,130,135,120,125,140,145,150,140,120,130,140,160,130,98,130,120,140,120,180,135,170,120,150,140,140,120,120,110,130,115,95,105,145,110,110,110,160,140,125,95,115,130,115,95,155,125,125,115,80,145,105,140,130,145,125,100,115,100,105,110,125,95,130,115,115,100,95,130,120,160,150,140,100,110,110,130,120,135,120,115,137,110,120,140,120,130,120,145,115,120,115,105,160,160,155,120,120,150,135,140,150,135,150,185,135,125,155,160,140,120,160,115,115,120,150,145,130,140,160,140,115,130,150,160,135,170,165,200,130,145,135,110,120,140,115,110,160,150,180,125,125,130,140,130,132,142,110,120,150,180,120,160,126,140,110,133,128,120,170,110,126,152,116,120,130,138,128,130,128,130,120,136,130,124,160,0,122,144,140,120,136,154,120,125,134,104,139,136,122,128,131,134,120,152,124,126,138,154,141,131,178,132,110,130,170,126,140,142,120,134,139,110,140,140,136,120,170,130,137,142,132,146,160,135,136,130,140,132,158,136,136,106,120,110,136,160,123,112,122,130,150,150,102,96,130,120,144,124,150,130,144,139,131,143,133,143,116,110,125,130,133,150,130,110,138,104,170,132,132,142,112,139,172,120,144,145,155,150,160,137,137,134,133,132,140,135,144,141,150,130,110,158,128,140,150,160,142,137,139,146,156,145,131,140,122,142,141,180,124,118,140,140,136,100,190,130,160,130,122,133,120,130,130,140,120,155,134,160,144,158,134,135,122,140,120,130,124,128,120,130,110,140,135,142,140,134,140,140,110,140,120,130,115,112,112,128,160,170,144,130,140,160,130,122,152,130,101,126,140,118,110,160,136,128,138,120,150,120,145,150,140,108,120,156,142,104,120,146,120,150,130,110,148,128,178,150,140,124,110,125,110,120,100,120,165,130,124,100,140,110,120,120,130,120,122,152,125,120,134,117,112,140,120,150,125,132,145,138,140,125,192,123,112,110,132,112,140,128,120,120,130,128,110,130,138,160,140,100,118,140,150,125,129,120,110,130,130,132,108,160,140,145,108,126,124,125,118,125,125,140,160,152,105,125,130,170,125,128,130,94,120,120,110,135,150,130,135,118,118,115,128,130,120,138,120,180,140,130,110,140,145,120,130,112,110,150,150,132,140,150,130,120,130,110,172,120,140,160,138,132,128,134,170,154,110,130,122,148,114,125,130,120,152,120,140,120,164,110,144,130,138],\"y0\":\" \",\"yaxis\":\"y\",\"type\":\"box\"},{\"alignmentgroup\":\"True\",\"hovertemplate\":\"Sex=F<br>RestingECG=%{x}<br>RestingBP=%{y}<extra></extra>\",\"legendgroup\":\"F\",\"marker\":{\"color\":\"#EF553B\"},\"name\":\"F\",\"notched\":false,\"offsetgroup\":\"F\",\"orientation\":\"v\",\"showlegend\":true,\"x\":[\"Normal\",\"Normal\",\"Normal\",\"Normal\",\"Normal\",\"ST\",\"Normal\",\"Normal\",\"Normal\",\"Normal\",\"Normal\",\"Normal\",\"ST\",\"ST\",\"Normal\",\"Normal\",\"ST\",\"Normal\",\"Normal\",\"Normal\",\"Normal\",\"Normal\",\"Normal\",\"Normal\",\"Normal\",\"ST\",\"Normal\",\"Normal\",\"Normal\",\"Normal\",\"ST\",\"Normal\",\"ST\",\"Normal\",\"ST\",\"Normal\",\"ST\",\"ST\",\"Normal\",\"Normal\",\"Normal\",\"Normal\",\"Normal\",\"Normal\",\"ST\",\"ST\",\"Normal\",\"ST\",\"Normal\",\"Normal\",\"Normal\",\"Normal\",\"Normal\",\"Normal\",\"Normal\",\"ST\",\"Normal\",\"ST\",\"ST\",\"Normal\",\"Normal\",\"ST\",\"Normal\",\"ST\",\"Normal\",\"Normal\",\"LVH\",\"Normal\",\"Normal\",\"Normal\",\"Normal\",\"Normal\",\"Normal\",\"ST\",\"ST\",\"Normal\",\"ST\",\"Normal\",\"ST\",\"Normal\",\"ST\",\"Normal\",\"Normal\",\"Normal\",\"Normal\",\"ST\",\"Normal\",\"Normal\",\"Normal\",\"Normal\",\"Normal\",\"Normal\",\"Normal\",\"Normal\",\"LVH\",\"ST\",\"LVH\",\"LVH\",\"LVH\",\"LVH\",\"Normal\",\"LVH\",\"Normal\",\"LVH\",\"LVH\",\"LVH\",\"Normal\",\"Normal\",\"LVH\",\"LVH\",\"Normal\",\"LVH\",\"Normal\",\"Normal\",\"Normal\",\"Normal\",\"Normal\",\"LVH\",\"Normal\",\"Normal\",\"ST\",\"Normal\",\"Normal\",\"Normal\",\"Normal\",\"LVH\",\"Normal\",\"Normal\",\"Normal\",\"Normal\",\"LVH\",\"Normal\",\"ST\",\"LVH\",\"Normal\",\"Normal\",\"LVH\",\"Normal\",\"LVH\",\"Normal\",\"LVH\",\"Normal\",\"LVH\",\"Normal\",\"Normal\",\"LVH\",\"Normal\",\"LVH\",\"Normal\",\"LVH\",\"Normal\",\"Normal\",\"Normal\",\"Normal\",\"LVH\",\"LVH\",\"LVH\",\"Normal\",\"LVH\",\"LVH\",\"LVH\",\"LVH\",\"LVH\",\"Normal\",\"Normal\",\"Normal\",\"Normal\",\"LVH\",\"LVH\",\"Normal\",\"Normal\",\"LVH\",\"LVH\",\"LVH\",\"LVH\",\"LVH\",\"LVH\",\"LVH\",\"LVH\",\"Normal\",\"Normal\",\"Normal\",\"LVH\",\"LVH\",\"LVH\",\"Normal\",\"Normal\",\"ST\",\"LVH\",\"Normal\",\"Normal\",\"Normal\",\"LVH\"],\"x0\":\" \",\"xaxis\":\"x\",\"y\":[160,138,130,120,130,115,120,120,100,124,113,150,110,120,150,150,130,120,130,130,160,150,110,120,132,120,140,140,110,120,110,150,120,130,130,100,130,120,135,125,180,130,108,120,130,120,120,120,140,130,160,120,125,160,130,100,140,130,170,160,120,130,120,140,120,120,130,150,122,120,130,105,180,180,130,130,110,110,133,140,120,120,105,95,200,160,110,140,160,155,132,142,138,140,114,127,115,120,150,128,112,132,130,138,120,110,120,124,150,140,140,130,105,120,174,130,150,136,118,120,140,106,94,120,126,130,140,120,108,130,150,112,180,158,135,134,200,150,160,160,136,108,142,152,118,112,120,108,130,130,105,178,150,180,110,138,120,138,134,102,140,135,100,110,140,102,122,130,135,138,130,132,150,145,160,138,130,140,140,155,160,120,140,128,146,138,130,128,170,132,124,140,130],\"y0\":\" \",\"yaxis\":\"y\",\"type\":\"box\"}],                        {\"template\":{\"data\":{\"bar\":[{\"error_x\":{\"color\":\"#2a3f5f\"},\"error_y\":{\"color\":\"#2a3f5f\"},\"marker\":{\"line\":{\"color\":\"#E5ECF6\",\"width\":0.5},\"pattern\":{\"fillmode\":\"overlay\",\"size\":10,\"solidity\":0.2}},\"type\":\"bar\"}],\"barpolar\":[{\"marker\":{\"line\":{\"color\":\"#E5ECF6\",\"width\":0.5},\"pattern\":{\"fillmode\":\"overlay\",\"size\":10,\"solidity\":0.2}},\"type\":\"barpolar\"}],\"carpet\":[{\"aaxis\":{\"endlinecolor\":\"#2a3f5f\",\"gridcolor\":\"white\",\"linecolor\":\"white\",\"minorgridcolor\":\"white\",\"startlinecolor\":\"#2a3f5f\"},\"baxis\":{\"endlinecolor\":\"#2a3f5f\",\"gridcolor\":\"white\",\"linecolor\":\"white\",\"minorgridcolor\":\"white\",\"startlinecolor\":\"#2a3f5f\"},\"type\":\"carpet\"}],\"choropleth\":[{\"colorbar\":{\"outlinewidth\":0,\"ticks\":\"\"},\"type\":\"choropleth\"}],\"contour\":[{\"colorbar\":{\"outlinewidth\":0,\"ticks\":\"\"},\"colorscale\":[[0.0,\"#0d0887\"],[0.1111111111111111,\"#46039f\"],[0.2222222222222222,\"#7201a8\"],[0.3333333333333333,\"#9c179e\"],[0.4444444444444444,\"#bd3786\"],[0.5555555555555556,\"#d8576b\"],[0.6666666666666666,\"#ed7953\"],[0.7777777777777778,\"#fb9f3a\"],[0.8888888888888888,\"#fdca26\"],[1.0,\"#f0f921\"]],\"type\":\"contour\"}],\"contourcarpet\":[{\"colorbar\":{\"outlinewidth\":0,\"ticks\":\"\"},\"type\":\"contourcarpet\"}],\"heatmap\":[{\"colorbar\":{\"outlinewidth\":0,\"ticks\":\"\"},\"colorscale\":[[0.0,\"#0d0887\"],[0.1111111111111111,\"#46039f\"],[0.2222222222222222,\"#7201a8\"],[0.3333333333333333,\"#9c179e\"],[0.4444444444444444,\"#bd3786\"],[0.5555555555555556,\"#d8576b\"],[0.6666666666666666,\"#ed7953\"],[0.7777777777777778,\"#fb9f3a\"],[0.8888888888888888,\"#fdca26\"],[1.0,\"#f0f921\"]],\"type\":\"heatmap\"}],\"heatmapgl\":[{\"colorbar\":{\"outlinewidth\":0,\"ticks\":\"\"},\"colorscale\":[[0.0,\"#0d0887\"],[0.1111111111111111,\"#46039f\"],[0.2222222222222222,\"#7201a8\"],[0.3333333333333333,\"#9c179e\"],[0.4444444444444444,\"#bd3786\"],[0.5555555555555556,\"#d8576b\"],[0.6666666666666666,\"#ed7953\"],[0.7777777777777778,\"#fb9f3a\"],[0.8888888888888888,\"#fdca26\"],[1.0,\"#f0f921\"]],\"type\":\"heatmapgl\"}],\"histogram\":[{\"marker\":{\"pattern\":{\"fillmode\":\"overlay\",\"size\":10,\"solidity\":0.2}},\"type\":\"histogram\"}],\"histogram2d\":[{\"colorbar\":{\"outlinewidth\":0,\"ticks\":\"\"},\"colorscale\":[[0.0,\"#0d0887\"],[0.1111111111111111,\"#46039f\"],[0.2222222222222222,\"#7201a8\"],[0.3333333333333333,\"#9c179e\"],[0.4444444444444444,\"#bd3786\"],[0.5555555555555556,\"#d8576b\"],[0.6666666666666666,\"#ed7953\"],[0.7777777777777778,\"#fb9f3a\"],[0.8888888888888888,\"#fdca26\"],[1.0,\"#f0f921\"]],\"type\":\"histogram2d\"}],\"histogram2dcontour\":[{\"colorbar\":{\"outlinewidth\":0,\"ticks\":\"\"},\"colorscale\":[[0.0,\"#0d0887\"],[0.1111111111111111,\"#46039f\"],[0.2222222222222222,\"#7201a8\"],[0.3333333333333333,\"#9c179e\"],[0.4444444444444444,\"#bd3786\"],[0.5555555555555556,\"#d8576b\"],[0.6666666666666666,\"#ed7953\"],[0.7777777777777778,\"#fb9f3a\"],[0.8888888888888888,\"#fdca26\"],[1.0,\"#f0f921\"]],\"type\":\"histogram2dcontour\"}],\"mesh3d\":[{\"colorbar\":{\"outlinewidth\":0,\"ticks\":\"\"},\"type\":\"mesh3d\"}],\"parcoords\":[{\"line\":{\"colorbar\":{\"outlinewidth\":0,\"ticks\":\"\"}},\"type\":\"parcoords\"}],\"pie\":[{\"automargin\":true,\"type\":\"pie\"}],\"scatter\":[{\"marker\":{\"colorbar\":{\"outlinewidth\":0,\"ticks\":\"\"}},\"type\":\"scatter\"}],\"scatter3d\":[{\"line\":{\"colorbar\":{\"outlinewidth\":0,\"ticks\":\"\"}},\"marker\":{\"colorbar\":{\"outlinewidth\":0,\"ticks\":\"\"}},\"type\":\"scatter3d\"}],\"scattercarpet\":[{\"marker\":{\"colorbar\":{\"outlinewidth\":0,\"ticks\":\"\"}},\"type\":\"scattercarpet\"}],\"scattergeo\":[{\"marker\":{\"colorbar\":{\"outlinewidth\":0,\"ticks\":\"\"}},\"type\":\"scattergeo\"}],\"scattergl\":[{\"marker\":{\"colorbar\":{\"outlinewidth\":0,\"ticks\":\"\"}},\"type\":\"scattergl\"}],\"scattermapbox\":[{\"marker\":{\"colorbar\":{\"outlinewidth\":0,\"ticks\":\"\"}},\"type\":\"scattermapbox\"}],\"scatterpolar\":[{\"marker\":{\"colorbar\":{\"outlinewidth\":0,\"ticks\":\"\"}},\"type\":\"scatterpolar\"}],\"scatterpolargl\":[{\"marker\":{\"colorbar\":{\"outlinewidth\":0,\"ticks\":\"\"}},\"type\":\"scatterpolargl\"}],\"scatterternary\":[{\"marker\":{\"colorbar\":{\"outlinewidth\":0,\"ticks\":\"\"}},\"type\":\"scatterternary\"}],\"surface\":[{\"colorbar\":{\"outlinewidth\":0,\"ticks\":\"\"},\"colorscale\":[[0.0,\"#0d0887\"],[0.1111111111111111,\"#46039f\"],[0.2222222222222222,\"#7201a8\"],[0.3333333333333333,\"#9c179e\"],[0.4444444444444444,\"#bd3786\"],[0.5555555555555556,\"#d8576b\"],[0.6666666666666666,\"#ed7953\"],[0.7777777777777778,\"#fb9f3a\"],[0.8888888888888888,\"#fdca26\"],[1.0,\"#f0f921\"]],\"type\":\"surface\"}],\"table\":[{\"cells\":{\"fill\":{\"color\":\"#EBF0F8\"},\"line\":{\"color\":\"white\"}},\"header\":{\"fill\":{\"color\":\"#C8D4E3\"},\"line\":{\"color\":\"white\"}},\"type\":\"table\"}]},\"layout\":{\"annotationdefaults\":{\"arrowcolor\":\"#2a3f5f\",\"arrowhead\":0,\"arrowwidth\":1},\"autotypenumbers\":\"strict\",\"coloraxis\":{\"colorbar\":{\"outlinewidth\":0,\"ticks\":\"\"}},\"colorscale\":{\"diverging\":[[0,\"#8e0152\"],[0.1,\"#c51b7d\"],[0.2,\"#de77ae\"],[0.3,\"#f1b6da\"],[0.4,\"#fde0ef\"],[0.5,\"#f7f7f7\"],[0.6,\"#e6f5d0\"],[0.7,\"#b8e186\"],[0.8,\"#7fbc41\"],[0.9,\"#4d9221\"],[1,\"#276419\"]],\"sequential\":[[0.0,\"#0d0887\"],[0.1111111111111111,\"#46039f\"],[0.2222222222222222,\"#7201a8\"],[0.3333333333333333,\"#9c179e\"],[0.4444444444444444,\"#bd3786\"],[0.5555555555555556,\"#d8576b\"],[0.6666666666666666,\"#ed7953\"],[0.7777777777777778,\"#fb9f3a\"],[0.8888888888888888,\"#fdca26\"],[1.0,\"#f0f921\"]],\"sequentialminus\":[[0.0,\"#0d0887\"],[0.1111111111111111,\"#46039f\"],[0.2222222222222222,\"#7201a8\"],[0.3333333333333333,\"#9c179e\"],[0.4444444444444444,\"#bd3786\"],[0.5555555555555556,\"#d8576b\"],[0.6666666666666666,\"#ed7953\"],[0.7777777777777778,\"#fb9f3a\"],[0.8888888888888888,\"#fdca26\"],[1.0,\"#f0f921\"]]},\"colorway\":[\"#636efa\",\"#EF553B\",\"#00cc96\",\"#ab63fa\",\"#FFA15A\",\"#19d3f3\",\"#FF6692\",\"#B6E880\",\"#FF97FF\",\"#FECB52\"],\"font\":{\"color\":\"#2a3f5f\"},\"geo\":{\"bgcolor\":\"white\",\"lakecolor\":\"white\",\"landcolor\":\"#E5ECF6\",\"showlakes\":true,\"showland\":true,\"subunitcolor\":\"white\"},\"hoverlabel\":{\"align\":\"left\"},\"hovermode\":\"closest\",\"mapbox\":{\"style\":\"light\"},\"paper_bgcolor\":\"white\",\"plot_bgcolor\":\"#E5ECF6\",\"polar\":{\"angularaxis\":{\"gridcolor\":\"white\",\"linecolor\":\"white\",\"ticks\":\"\"},\"bgcolor\":\"#E5ECF6\",\"radialaxis\":{\"gridcolor\":\"white\",\"linecolor\":\"white\",\"ticks\":\"\"}},\"scene\":{\"xaxis\":{\"backgroundcolor\":\"#E5ECF6\",\"gridcolor\":\"white\",\"gridwidth\":2,\"linecolor\":\"white\",\"showbackground\":true,\"ticks\":\"\",\"zerolinecolor\":\"white\"},\"yaxis\":{\"backgroundcolor\":\"#E5ECF6\",\"gridcolor\":\"white\",\"gridwidth\":2,\"linecolor\":\"white\",\"showbackground\":true,\"ticks\":\"\",\"zerolinecolor\":\"white\"},\"zaxis\":{\"backgroundcolor\":\"#E5ECF6\",\"gridcolor\":\"white\",\"gridwidth\":2,\"linecolor\":\"white\",\"showbackground\":true,\"ticks\":\"\",\"zerolinecolor\":\"white\"}},\"shapedefaults\":{\"line\":{\"color\":\"#2a3f5f\"}},\"ternary\":{\"aaxis\":{\"gridcolor\":\"white\",\"linecolor\":\"white\",\"ticks\":\"\"},\"baxis\":{\"gridcolor\":\"white\",\"linecolor\":\"white\",\"ticks\":\"\"},\"bgcolor\":\"#E5ECF6\",\"caxis\":{\"gridcolor\":\"white\",\"linecolor\":\"white\",\"ticks\":\"\"}},\"title\":{\"x\":0.05},\"xaxis\":{\"automargin\":true,\"gridcolor\":\"white\",\"linecolor\":\"white\",\"ticks\":\"\",\"title\":{\"standoff\":15},\"zerolinecolor\":\"white\",\"zerolinewidth\":2},\"yaxis\":{\"automargin\":true,\"gridcolor\":\"white\",\"linecolor\":\"white\",\"ticks\":\"\",\"title\":{\"standoff\":15},\"zerolinecolor\":\"white\",\"zerolinewidth\":2}}},\"xaxis\":{\"anchor\":\"y\",\"domain\":[0.0,1.0],\"title\":{\"text\":\"RestingECG\"}},\"yaxis\":{\"anchor\":\"x\",\"domain\":[0.0,1.0],\"title\":{\"text\":\"RestingBP\"}},\"legend\":{\"title\":{\"text\":\"Sex\"},\"tracegroupgap\":0},\"margin\":{\"t\":60},\"boxmode\":\"group\"},                        {\"responsive\": true}                    ).then(function(){\n",
       "                            \n",
       "var gd = document.getElementById('50b3e46c-be50-4459-873b-e8bd13782845');\n",
       "var x = new MutationObserver(function (mutations, observer) {{\n",
       "        var display = window.getComputedStyle(gd).display;\n",
       "        if (!display || display === 'none') {{\n",
       "            console.log([gd, 'removed!']);\n",
       "            Plotly.purge(gd);\n",
       "            observer.disconnect();\n",
       "        }}\n",
       "}});\n",
       "\n",
       "// Listen for the removal of the full notebook cells\n",
       "var notebookContainer = gd.closest('#notebook-container');\n",
       "if (notebookContainer) {{\n",
       "    x.observe(notebookContainer, {childList: true});\n",
       "}}\n",
       "\n",
       "// Listen for the clearing of the current output cell\n",
       "var outputEl = gd.closest('.output');\n",
       "if (outputEl) {{\n",
       "    x.observe(outputEl, {childList: true});\n",
       "}}\n",
       "\n",
       "                        })                };                });            </script>        </div>"
      ]
     },
     "metadata": {},
     "output_type": "display_data"
    }
   ],
   "source": [
    "px.box(data_frame=df, y = \"RestingBP\", x = \"RestingECG\", color = \"Sex\")"
   ]
  },
  {
   "cell_type": "code",
   "execution_count": null,
   "id": "486853b8",
   "metadata": {
    "papermill": {
     "duration": 0.052185,
     "end_time": "2022-01-07T03:36:17.342288",
     "exception": false,
     "start_time": "2022-01-07T03:36:17.290103",
     "status": "completed"
    },
    "tags": []
   },
   "outputs": [],
   "source": []
  }
 ],
 "metadata": {
  "kernelspec": {
   "display_name": "Python 3",
   "language": "python",
   "name": "python3"
  },
  "language_info": {
   "codemirror_mode": {
    "name": "ipython",
    "version": 3
   },
   "file_extension": ".py",
   "mimetype": "text/x-python",
   "name": "python",
   "nbconvert_exporter": "python",
   "pygments_lexer": "ipython3",
   "version": "3.7.12"
  },
  "papermill": {
   "default_parameters": {},
   "duration": 22.31713,
   "end_time": "2022-01-07T03:36:18.707997",
   "environment_variables": {},
   "exception": null,
   "input_path": "__notebook__.ipynb",
   "output_path": "__notebook__.ipynb",
   "parameters": {},
   "start_time": "2022-01-07T03:35:56.390867",
   "version": "2.3.3"
  }
 },
 "nbformat": 4,
 "nbformat_minor": 5
}
