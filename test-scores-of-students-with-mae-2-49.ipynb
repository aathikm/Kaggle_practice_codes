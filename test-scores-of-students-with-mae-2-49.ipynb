{
 "cells": [
  {
   "cell_type": "code",
   "execution_count": 1,
   "id": "subtle-palace",
   "metadata": {
    "_cell_guid": "b1076dfc-b9ad-4769-8c92-a6c4dae69d19",
    "_uuid": "8f2839f25d086af736a60e9eeb907d3b93b6e0e5",
    "execution": {
     "iopub.execute_input": "2022-01-07T06:05:13.240144Z",
     "iopub.status.busy": "2022-01-07T06:05:13.238991Z",
     "iopub.status.idle": "2022-01-07T06:05:13.262178Z",
     "shell.execute_reply": "2022-01-07T06:05:13.263172Z",
     "shell.execute_reply.started": "2021-06-25T12:27:39.126518Z"
    },
    "papermill": {
     "duration": 0.059641,
     "end_time": "2022-01-07T06:05:13.263634",
     "exception": false,
     "start_time": "2022-01-07T06:05:13.203993",
     "status": "completed"
    },
    "tags": []
   },
   "outputs": [
    {
     "name": "stdout",
     "output_type": "stream",
     "text": [
      "/kaggle/input/predict-test-scores-of-students/test_scores.csv\n"
     ]
    }
   ],
   "source": [
    "# This Python 3 environment comes with many helpful analytics libraries installed\n",
    "# It is defined by the kaggle/python Docker image: https://github.com/kaggle/docker-python\n",
    "# For example, here's several helpful packages to load\n",
    "\n",
    "import numpy as np # linear algebra\n",
    "import pandas as pd # data processing, CSV file I/O (e.g. pd.read_csv)\n",
    "\n",
    "# Input data files are available in the read-only \"../input/\" directory\n",
    "# For example, running this (by clicking run or pressing Shift+Enter) will list all files under the input directory\n",
    "\n",
    "import os\n",
    "for dirname, _, filenames in os.walk('/kaggle/input'):\n",
    "    for filename in filenames:\n",
    "        print(os.path.join(dirname, filename))\n",
    "\n",
    "# You can write up to 20GB to the current directory (/kaggle/working/) that gets preserved as output when you create a version using \"Save & Run All\" \n",
    "# You can also write temporary files to /kaggle/temp/, but they won't be saved outside of the current session"
   ]
  },
  {
   "cell_type": "code",
   "execution_count": 2,
   "id": "verified-imagination",
   "metadata": {
    "execution": {
     "iopub.execute_input": "2022-01-07T06:05:13.331477Z",
     "iopub.status.busy": "2022-01-07T06:05:13.330512Z",
     "iopub.status.idle": "2022-01-07T06:05:14.229940Z",
     "shell.execute_reply": "2022-01-07T06:05:14.229130Z",
     "shell.execute_reply.started": "2021-06-25T12:27:39.14089Z"
    },
    "papermill": {
     "duration": 0.933916,
     "end_time": "2022-01-07T06:05:14.230104",
     "exception": false,
     "start_time": "2022-01-07T06:05:13.296188",
     "status": "completed"
    },
    "tags": []
   },
   "outputs": [],
   "source": [
    "#import the required libraries\n",
    "import matplotlib.pyplot as plt\n",
    "import seaborn as sns\n",
    "%matplotlib inline\n",
    "\n",
    "sns.set_style(\"whitegrid\")"
   ]
  },
  {
   "cell_type": "code",
   "execution_count": 3,
   "id": "balanced-index",
   "metadata": {
    "execution": {
     "iopub.execute_input": "2022-01-07T06:05:14.298830Z",
     "iopub.status.busy": "2022-01-07T06:05:14.297799Z",
     "iopub.status.idle": "2022-01-07T06:05:14.324463Z",
     "shell.execute_reply": "2022-01-07T06:05:14.325059Z",
     "shell.execute_reply.started": "2021-06-25T12:27:39.597048Z"
    },
    "papermill": {
     "duration": 0.063397,
     "end_time": "2022-01-07T06:05:14.325268",
     "exception": false,
     "start_time": "2022-01-07T06:05:14.261871",
     "status": "completed"
    },
    "tags": []
   },
   "outputs": [],
   "source": [
    "df = pd.read_csv(\"/kaggle/input/predict-test-scores-of-students/test_scores.csv\") #load the dataset"
   ]
  },
  {
   "cell_type": "code",
   "execution_count": 4,
   "id": "incident-edwards",
   "metadata": {
    "execution": {
     "iopub.execute_input": "2022-01-07T06:05:14.392009Z",
     "iopub.status.busy": "2022-01-07T06:05:14.391024Z",
     "iopub.status.idle": "2022-01-07T06:05:14.430059Z",
     "shell.execute_reply": "2022-01-07T06:05:14.429544Z",
     "shell.execute_reply.started": "2021-06-25T12:27:39.61906Z"
    },
    "papermill": {
     "duration": 0.073125,
     "end_time": "2022-01-07T06:05:14.430206",
     "exception": false,
     "start_time": "2022-01-07T06:05:14.357081",
     "status": "completed"
    },
    "tags": []
   },
   "outputs": [
    {
     "data": {
      "text/html": [
       "<div>\n",
       "<style scoped>\n",
       "    .dataframe tbody tr th:only-of-type {\n",
       "        vertical-align: middle;\n",
       "    }\n",
       "\n",
       "    .dataframe tbody tr th {\n",
       "        vertical-align: top;\n",
       "    }\n",
       "\n",
       "    .dataframe thead th {\n",
       "        text-align: right;\n",
       "    }\n",
       "</style>\n",
       "<table border=\"1\" class=\"dataframe\">\n",
       "  <thead>\n",
       "    <tr style=\"text-align: right;\">\n",
       "      <th></th>\n",
       "      <th>school</th>\n",
       "      <th>school_setting</th>\n",
       "      <th>school_type</th>\n",
       "      <th>classroom</th>\n",
       "      <th>teaching_method</th>\n",
       "      <th>n_student</th>\n",
       "      <th>student_id</th>\n",
       "      <th>gender</th>\n",
       "      <th>lunch</th>\n",
       "      <th>pretest</th>\n",
       "      <th>posttest</th>\n",
       "    </tr>\n",
       "  </thead>\n",
       "  <tbody>\n",
       "    <tr>\n",
       "      <th>0</th>\n",
       "      <td>ANKYI</td>\n",
       "      <td>Urban</td>\n",
       "      <td>Non-public</td>\n",
       "      <td>6OL</td>\n",
       "      <td>Standard</td>\n",
       "      <td>20.0</td>\n",
       "      <td>2FHT3</td>\n",
       "      <td>Female</td>\n",
       "      <td>Does not qualify</td>\n",
       "      <td>62.0</td>\n",
       "      <td>72.0</td>\n",
       "    </tr>\n",
       "    <tr>\n",
       "      <th>1</th>\n",
       "      <td>ANKYI</td>\n",
       "      <td>Urban</td>\n",
       "      <td>Non-public</td>\n",
       "      <td>6OL</td>\n",
       "      <td>Standard</td>\n",
       "      <td>20.0</td>\n",
       "      <td>3JIVH</td>\n",
       "      <td>Female</td>\n",
       "      <td>Does not qualify</td>\n",
       "      <td>66.0</td>\n",
       "      <td>79.0</td>\n",
       "    </tr>\n",
       "    <tr>\n",
       "      <th>2</th>\n",
       "      <td>ANKYI</td>\n",
       "      <td>Urban</td>\n",
       "      <td>Non-public</td>\n",
       "      <td>6OL</td>\n",
       "      <td>Standard</td>\n",
       "      <td>20.0</td>\n",
       "      <td>3XOWE</td>\n",
       "      <td>Male</td>\n",
       "      <td>Does not qualify</td>\n",
       "      <td>64.0</td>\n",
       "      <td>76.0</td>\n",
       "    </tr>\n",
       "    <tr>\n",
       "      <th>3</th>\n",
       "      <td>ANKYI</td>\n",
       "      <td>Urban</td>\n",
       "      <td>Non-public</td>\n",
       "      <td>6OL</td>\n",
       "      <td>Standard</td>\n",
       "      <td>20.0</td>\n",
       "      <td>556O0</td>\n",
       "      <td>Female</td>\n",
       "      <td>Does not qualify</td>\n",
       "      <td>61.0</td>\n",
       "      <td>77.0</td>\n",
       "    </tr>\n",
       "    <tr>\n",
       "      <th>4</th>\n",
       "      <td>ANKYI</td>\n",
       "      <td>Urban</td>\n",
       "      <td>Non-public</td>\n",
       "      <td>6OL</td>\n",
       "      <td>Standard</td>\n",
       "      <td>20.0</td>\n",
       "      <td>74LOE</td>\n",
       "      <td>Male</td>\n",
       "      <td>Does not qualify</td>\n",
       "      <td>64.0</td>\n",
       "      <td>76.0</td>\n",
       "    </tr>\n",
       "    <tr>\n",
       "      <th>5</th>\n",
       "      <td>ANKYI</td>\n",
       "      <td>Urban</td>\n",
       "      <td>Non-public</td>\n",
       "      <td>6OL</td>\n",
       "      <td>Standard</td>\n",
       "      <td>20.0</td>\n",
       "      <td>7YZO8</td>\n",
       "      <td>Female</td>\n",
       "      <td>Does not qualify</td>\n",
       "      <td>66.0</td>\n",
       "      <td>74.0</td>\n",
       "    </tr>\n",
       "    <tr>\n",
       "      <th>6</th>\n",
       "      <td>ANKYI</td>\n",
       "      <td>Urban</td>\n",
       "      <td>Non-public</td>\n",
       "      <td>6OL</td>\n",
       "      <td>Standard</td>\n",
       "      <td>20.0</td>\n",
       "      <td>9KMZD</td>\n",
       "      <td>Male</td>\n",
       "      <td>Does not qualify</td>\n",
       "      <td>63.0</td>\n",
       "      <td>75.0</td>\n",
       "    </tr>\n",
       "    <tr>\n",
       "      <th>7</th>\n",
       "      <td>ANKYI</td>\n",
       "      <td>Urban</td>\n",
       "      <td>Non-public</td>\n",
       "      <td>6OL</td>\n",
       "      <td>Standard</td>\n",
       "      <td>20.0</td>\n",
       "      <td>9USQK</td>\n",
       "      <td>Female</td>\n",
       "      <td>Does not qualify</td>\n",
       "      <td>63.0</td>\n",
       "      <td>72.0</td>\n",
       "    </tr>\n",
       "    <tr>\n",
       "      <th>8</th>\n",
       "      <td>ANKYI</td>\n",
       "      <td>Urban</td>\n",
       "      <td>Non-public</td>\n",
       "      <td>6OL</td>\n",
       "      <td>Standard</td>\n",
       "      <td>20.0</td>\n",
       "      <td>CS5QP</td>\n",
       "      <td>Male</td>\n",
       "      <td>Does not qualify</td>\n",
       "      <td>64.0</td>\n",
       "      <td>77.0</td>\n",
       "    </tr>\n",
       "    <tr>\n",
       "      <th>9</th>\n",
       "      <td>ANKYI</td>\n",
       "      <td>Urban</td>\n",
       "      <td>Non-public</td>\n",
       "      <td>6OL</td>\n",
       "      <td>Standard</td>\n",
       "      <td>20.0</td>\n",
       "      <td>D6HT8</td>\n",
       "      <td>Female</td>\n",
       "      <td>Does not qualify</td>\n",
       "      <td>61.0</td>\n",
       "      <td>72.0</td>\n",
       "    </tr>\n",
       "  </tbody>\n",
       "</table>\n",
       "</div>"
      ],
      "text/plain": [
       "  school school_setting school_type classroom teaching_method  n_student  \\\n",
       "0  ANKYI          Urban  Non-public       6OL        Standard       20.0   \n",
       "1  ANKYI          Urban  Non-public       6OL        Standard       20.0   \n",
       "2  ANKYI          Urban  Non-public       6OL        Standard       20.0   \n",
       "3  ANKYI          Urban  Non-public       6OL        Standard       20.0   \n",
       "4  ANKYI          Urban  Non-public       6OL        Standard       20.0   \n",
       "5  ANKYI          Urban  Non-public       6OL        Standard       20.0   \n",
       "6  ANKYI          Urban  Non-public       6OL        Standard       20.0   \n",
       "7  ANKYI          Urban  Non-public       6OL        Standard       20.0   \n",
       "8  ANKYI          Urban  Non-public       6OL        Standard       20.0   \n",
       "9  ANKYI          Urban  Non-public       6OL        Standard       20.0   \n",
       "\n",
       "  student_id  gender             lunch  pretest  posttest  \n",
       "0      2FHT3  Female  Does not qualify     62.0      72.0  \n",
       "1      3JIVH  Female  Does not qualify     66.0      79.0  \n",
       "2      3XOWE    Male  Does not qualify     64.0      76.0  \n",
       "3      556O0  Female  Does not qualify     61.0      77.0  \n",
       "4      74LOE    Male  Does not qualify     64.0      76.0  \n",
       "5      7YZO8  Female  Does not qualify     66.0      74.0  \n",
       "6      9KMZD    Male  Does not qualify     63.0      75.0  \n",
       "7      9USQK  Female  Does not qualify     63.0      72.0  \n",
       "8      CS5QP    Male  Does not qualify     64.0      77.0  \n",
       "9      D6HT8  Female  Does not qualify     61.0      72.0  "
      ]
     },
     "execution_count": 4,
     "metadata": {},
     "output_type": "execute_result"
    }
   ],
   "source": [
    "df.head(10) #show the top 10 values on given dataset"
   ]
  },
  {
   "cell_type": "code",
   "execution_count": 5,
   "id": "maritime-platinum",
   "metadata": {
    "execution": {
     "iopub.execute_input": "2022-01-07T06:05:14.497390Z",
     "iopub.status.busy": "2022-01-07T06:05:14.496426Z",
     "iopub.status.idle": "2022-01-07T06:05:14.519654Z",
     "shell.execute_reply": "2022-01-07T06:05:14.520213Z",
     "shell.execute_reply.started": "2021-06-25T12:27:39.658962Z"
    },
    "papermill": {
     "duration": 0.058678,
     "end_time": "2022-01-07T06:05:14.520406",
     "exception": false,
     "start_time": "2022-01-07T06:05:14.461728",
     "status": "completed"
    },
    "tags": []
   },
   "outputs": [
    {
     "name": "stdout",
     "output_type": "stream",
     "text": [
      "<class 'pandas.core.frame.DataFrame'>\n",
      "RangeIndex: 2133 entries, 0 to 2132\n",
      "Data columns (total 11 columns):\n",
      " #   Column           Non-Null Count  Dtype  \n",
      "---  ------           --------------  -----  \n",
      " 0   school           2133 non-null   object \n",
      " 1   school_setting   2133 non-null   object \n",
      " 2   school_type      2133 non-null   object \n",
      " 3   classroom        2133 non-null   object \n",
      " 4   teaching_method  2133 non-null   object \n",
      " 5   n_student        2133 non-null   float64\n",
      " 6   student_id       2133 non-null   object \n",
      " 7   gender           2133 non-null   object \n",
      " 8   lunch            2133 non-null   object \n",
      " 9   pretest          2133 non-null   float64\n",
      " 10  posttest         2133 non-null   float64\n",
      "dtypes: float64(3), object(8)\n",
      "memory usage: 183.4+ KB\n"
     ]
    }
   ],
   "source": [
    "df.info() #info() used for print a concise data summary of the given dataframe"
   ]
  },
  {
   "cell_type": "code",
   "execution_count": 6,
   "id": "existing-certificate",
   "metadata": {
    "execution": {
     "iopub.execute_input": "2022-01-07T06:05:14.588447Z",
     "iopub.status.busy": "2022-01-07T06:05:14.587450Z",
     "iopub.status.idle": "2022-01-07T06:05:14.597417Z",
     "shell.execute_reply": "2022-01-07T06:05:14.597995Z",
     "shell.execute_reply.started": "2021-06-25T12:27:39.68284Z"
    },
    "papermill": {
     "duration": 0.045745,
     "end_time": "2022-01-07T06:05:14.598177",
     "exception": false,
     "start_time": "2022-01-07T06:05:14.552432",
     "status": "completed"
    },
    "tags": []
   },
   "outputs": [
    {
     "data": {
      "text/plain": [
       "school             0\n",
       "school_setting     0\n",
       "school_type        0\n",
       "classroom          0\n",
       "teaching_method    0\n",
       "n_student          0\n",
       "student_id         0\n",
       "gender             0\n",
       "lunch              0\n",
       "pretest            0\n",
       "posttest           0\n",
       "dtype: int64"
      ]
     },
     "execution_count": 6,
     "metadata": {},
     "output_type": "execute_result"
    }
   ],
   "source": [
    "df.isnull().sum()  #it's used for checking the missing values"
   ]
  },
  {
   "cell_type": "code",
   "execution_count": 7,
   "id": "breeding-conviction",
   "metadata": {
    "execution": {
     "iopub.execute_input": "2022-01-07T06:05:14.666887Z",
     "iopub.status.busy": "2022-01-07T06:05:14.665926Z",
     "iopub.status.idle": "2022-01-07T06:05:14.689256Z",
     "shell.execute_reply": "2022-01-07T06:05:14.689807Z",
     "shell.execute_reply.started": "2021-06-25T12:27:39.695668Z"
    },
    "papermill": {
     "duration": 0.059356,
     "end_time": "2022-01-07T06:05:14.689990",
     "exception": false,
     "start_time": "2022-01-07T06:05:14.630634",
     "status": "completed"
    },
    "tags": []
   },
   "outputs": [
    {
     "data": {
      "text/html": [
       "<div>\n",
       "<style scoped>\n",
       "    .dataframe tbody tr th:only-of-type {\n",
       "        vertical-align: middle;\n",
       "    }\n",
       "\n",
       "    .dataframe tbody tr th {\n",
       "        vertical-align: top;\n",
       "    }\n",
       "\n",
       "    .dataframe thead th {\n",
       "        text-align: right;\n",
       "    }\n",
       "</style>\n",
       "<table border=\"1\" class=\"dataframe\">\n",
       "  <thead>\n",
       "    <tr style=\"text-align: right;\">\n",
       "      <th></th>\n",
       "      <th>n_student</th>\n",
       "      <th>pretest</th>\n",
       "      <th>posttest</th>\n",
       "    </tr>\n",
       "  </thead>\n",
       "  <tbody>\n",
       "    <tr>\n",
       "      <th>count</th>\n",
       "      <td>2133.000000</td>\n",
       "      <td>2133.000000</td>\n",
       "      <td>2133.000000</td>\n",
       "    </tr>\n",
       "    <tr>\n",
       "      <th>mean</th>\n",
       "      <td>22.796531</td>\n",
       "      <td>54.955931</td>\n",
       "      <td>67.102203</td>\n",
       "    </tr>\n",
       "    <tr>\n",
       "      <th>std</th>\n",
       "      <td>4.228893</td>\n",
       "      <td>13.563101</td>\n",
       "      <td>13.986789</td>\n",
       "    </tr>\n",
       "    <tr>\n",
       "      <th>min</th>\n",
       "      <td>14.000000</td>\n",
       "      <td>22.000000</td>\n",
       "      <td>32.000000</td>\n",
       "    </tr>\n",
       "    <tr>\n",
       "      <th>25%</th>\n",
       "      <td>20.000000</td>\n",
       "      <td>44.000000</td>\n",
       "      <td>56.000000</td>\n",
       "    </tr>\n",
       "    <tr>\n",
       "      <th>50%</th>\n",
       "      <td>22.000000</td>\n",
       "      <td>56.000000</td>\n",
       "      <td>68.000000</td>\n",
       "    </tr>\n",
       "    <tr>\n",
       "      <th>75%</th>\n",
       "      <td>27.000000</td>\n",
       "      <td>65.000000</td>\n",
       "      <td>77.000000</td>\n",
       "    </tr>\n",
       "    <tr>\n",
       "      <th>max</th>\n",
       "      <td>31.000000</td>\n",
       "      <td>93.000000</td>\n",
       "      <td>100.000000</td>\n",
       "    </tr>\n",
       "  </tbody>\n",
       "</table>\n",
       "</div>"
      ],
      "text/plain": [
       "         n_student      pretest     posttest\n",
       "count  2133.000000  2133.000000  2133.000000\n",
       "mean     22.796531    54.955931    67.102203\n",
       "std       4.228893    13.563101    13.986789\n",
       "min      14.000000    22.000000    32.000000\n",
       "25%      20.000000    44.000000    56.000000\n",
       "50%      22.000000    56.000000    68.000000\n",
       "75%      27.000000    65.000000    77.000000\n",
       "max      31.000000    93.000000   100.000000"
      ]
     },
     "execution_count": 7,
     "metadata": {},
     "output_type": "execute_result"
    }
   ],
   "source": [
    "df.describe() "
   ]
  },
  {
   "cell_type": "code",
   "execution_count": 8,
   "id": "stupid-destination",
   "metadata": {
    "execution": {
     "iopub.execute_input": "2022-01-07T06:05:14.761021Z",
     "iopub.status.busy": "2022-01-07T06:05:14.760035Z",
     "iopub.status.idle": "2022-01-07T06:05:14.767713Z",
     "shell.execute_reply": "2022-01-07T06:05:14.768205Z",
     "shell.execute_reply.started": "2021-06-25T12:27:39.7248Z"
    },
    "papermill": {
     "duration": 0.044372,
     "end_time": "2022-01-07T06:05:14.768394",
     "exception": false,
     "start_time": "2022-01-07T06:05:14.724022",
     "status": "completed"
    },
    "tags": []
   },
   "outputs": [
    {
     "data": {
      "text/plain": [
       "Public        1582\n",
       "Non-public     551\n",
       "Name: school_type, dtype: int64"
      ]
     },
     "execution_count": 8,
     "metadata": {},
     "output_type": "execute_result"
    }
   ],
   "source": [
    "df['school_type'].value_counts() #count the school types in given dataset"
   ]
  },
  {
   "cell_type": "code",
   "execution_count": 9,
   "id": "coupled-borough",
   "metadata": {
    "execution": {
     "iopub.execute_input": "2022-01-07T06:05:14.838894Z",
     "iopub.status.busy": "2022-01-07T06:05:14.837927Z",
     "iopub.status.idle": "2022-01-07T06:05:14.845967Z",
     "shell.execute_reply": "2022-01-07T06:05:14.846437Z",
     "shell.execute_reply.started": "2021-06-25T12:27:39.734732Z"
    },
    "papermill": {
     "duration": 0.044455,
     "end_time": "2022-01-07T06:05:14.846617",
     "exception": false,
     "start_time": "2022-01-07T06:05:14.802162",
     "status": "completed"
    },
    "tags": []
   },
   "outputs": [
    {
     "data": {
      "text/plain": [
       "Urban       906\n",
       "Suburban    717\n",
       "Rural       510\n",
       "Name: school_setting, dtype: int64"
      ]
     },
     "execution_count": 9,
     "metadata": {},
     "output_type": "execute_result"
    }
   ],
   "source": [
    "df['school_setting'].value_counts() "
   ]
  },
  {
   "cell_type": "code",
   "execution_count": 10,
   "id": "valuable-parts",
   "metadata": {
    "execution": {
     "iopub.execute_input": "2022-01-07T06:05:14.917118Z",
     "iopub.status.busy": "2022-01-07T06:05:14.916130Z",
     "iopub.status.idle": "2022-01-07T06:05:14.922637Z",
     "shell.execute_reply": "2022-01-07T06:05:14.923118Z",
     "shell.execute_reply.started": "2021-06-25T12:27:39.751623Z"
    },
    "papermill": {
     "duration": 0.043447,
     "end_time": "2022-01-07T06:05:14.923313",
     "exception": false,
     "start_time": "2022-01-07T06:05:14.879866",
     "status": "completed"
    },
    "tags": []
   },
   "outputs": [
    {
     "name": "stdout",
     "output_type": "stream",
     "text": [
      "96.0\n"
     ]
    }
   ],
   "source": [
    "#checking the outliers\n",
    "\n",
    "uv = np.percentile(df['posttest'], [99])[0]\n",
    "print(uv)"
   ]
  },
  {
   "cell_type": "code",
   "execution_count": 11,
   "id": "regulated-machine",
   "metadata": {
    "execution": {
     "iopub.execute_input": "2022-01-07T06:05:14.994209Z",
     "iopub.status.busy": "2022-01-07T06:05:14.993577Z",
     "iopub.status.idle": "2022-01-07T06:05:15.017899Z",
     "shell.execute_reply": "2022-01-07T06:05:15.018991Z",
     "shell.execute_reply.started": "2021-06-25T12:27:39.763995Z"
    },
    "papermill": {
     "duration": 0.062102,
     "end_time": "2022-01-07T06:05:15.019185",
     "exception": false,
     "start_time": "2022-01-07T06:05:14.957083",
     "status": "completed"
    },
    "tags": []
   },
   "outputs": [
    {
     "data": {
      "text/plain": [
       "864      97.0\n",
       "870      99.0\n",
       "899      98.0\n",
       "901      99.0\n",
       "902     100.0\n",
       "903     100.0\n",
       "904      98.0\n",
       "905     100.0\n",
       "907     100.0\n",
       "908     100.0\n",
       "909     100.0\n",
       "910      98.0\n",
       "911     100.0\n",
       "914      98.0\n",
       "915     100.0\n",
       "1476     98.0\n",
       "1483     99.0\n",
       "1487     98.0\n",
       "1492     97.0\n",
       "1500     97.0\n",
       "Name: posttest, dtype: float64"
      ]
     },
     "execution_count": 11,
     "metadata": {},
     "output_type": "execute_result"
    }
   ],
   "source": [
    "df.posttest[(df.posttest > uv)] "
   ]
  },
  {
   "cell_type": "code",
   "execution_count": 12,
   "id": "competitive-sugar",
   "metadata": {
    "execution": {
     "iopub.execute_input": "2022-01-07T06:05:15.092173Z",
     "iopub.status.busy": "2022-01-07T06:05:15.091561Z",
     "iopub.status.idle": "2022-01-07T06:05:15.097732Z",
     "shell.execute_reply": "2022-01-07T06:05:15.098339Z",
     "shell.execute_reply.started": "2021-06-25T12:27:39.786656Z"
    },
    "papermill": {
     "duration": 0.043698,
     "end_time": "2022-01-07T06:05:15.098512",
     "exception": false,
     "start_time": "2022-01-07T06:05:15.054814",
     "status": "completed"
    },
    "tags": []
   },
   "outputs": [
    {
     "data": {
      "text/plain": [
       "Index(['school', 'school_setting', 'school_type', 'classroom',\n",
       "       'teaching_method', 'n_student', 'student_id', 'gender', 'lunch',\n",
       "       'pretest', 'posttest'],\n",
       "      dtype='object')"
      ]
     },
     "execution_count": 12,
     "metadata": {},
     "output_type": "execute_result"
    }
   ],
   "source": [
    "df.columns #print the columns in a given DataFrame"
   ]
  },
  {
   "cell_type": "code",
   "execution_count": 13,
   "id": "aerial-vehicle",
   "metadata": {
    "execution": {
     "iopub.execute_input": "2022-01-07T06:05:15.171157Z",
     "iopub.status.busy": "2022-01-07T06:05:15.170177Z",
     "iopub.status.idle": "2022-01-07T06:05:15.177012Z",
     "shell.execute_reply": "2022-01-07T06:05:15.177563Z",
     "shell.execute_reply.started": "2021-06-25T12:27:39.798595Z"
    },
    "papermill": {
     "duration": 0.044686,
     "end_time": "2022-01-07T06:05:15.177736",
     "exception": false,
     "start_time": "2022-01-07T06:05:15.133050",
     "status": "completed"
    },
    "tags": []
   },
   "outputs": [],
   "source": [
    "#remove the unwanted columns\n",
    "df = df.drop(\"classroom\", axis = 1)\n",
    "df = df.drop(\"gender\", axis = 1)"
   ]
  },
  {
   "cell_type": "code",
   "execution_count": 14,
   "id": "chemical-commissioner",
   "metadata": {
    "execution": {
     "iopub.execute_input": "2022-01-07T06:05:15.250085Z",
     "iopub.status.busy": "2022-01-07T06:05:15.249139Z",
     "iopub.status.idle": "2022-01-07T06:05:15.265742Z",
     "shell.execute_reply": "2022-01-07T06:05:15.266305Z",
     "shell.execute_reply.started": "2021-06-25T12:27:39.813543Z"
    },
    "papermill": {
     "duration": 0.054468,
     "end_time": "2022-01-07T06:05:15.266480",
     "exception": false,
     "start_time": "2022-01-07T06:05:15.212012",
     "status": "completed"
    },
    "tags": []
   },
   "outputs": [
    {
     "data": {
      "text/html": [
       "<div>\n",
       "<style scoped>\n",
       "    .dataframe tbody tr th:only-of-type {\n",
       "        vertical-align: middle;\n",
       "    }\n",
       "\n",
       "    .dataframe tbody tr th {\n",
       "        vertical-align: top;\n",
       "    }\n",
       "\n",
       "    .dataframe thead th {\n",
       "        text-align: right;\n",
       "    }\n",
       "</style>\n",
       "<table border=\"1\" class=\"dataframe\">\n",
       "  <thead>\n",
       "    <tr style=\"text-align: right;\">\n",
       "      <th></th>\n",
       "      <th>school</th>\n",
       "      <th>school_setting</th>\n",
       "      <th>school_type</th>\n",
       "      <th>teaching_method</th>\n",
       "      <th>n_student</th>\n",
       "      <th>student_id</th>\n",
       "      <th>lunch</th>\n",
       "      <th>pretest</th>\n",
       "      <th>posttest</th>\n",
       "    </tr>\n",
       "  </thead>\n",
       "  <tbody>\n",
       "    <tr>\n",
       "      <th>0</th>\n",
       "      <td>ANKYI</td>\n",
       "      <td>Urban</td>\n",
       "      <td>Non-public</td>\n",
       "      <td>Standard</td>\n",
       "      <td>20.0</td>\n",
       "      <td>2FHT3</td>\n",
       "      <td>Does not qualify</td>\n",
       "      <td>62.0</td>\n",
       "      <td>72.0</td>\n",
       "    </tr>\n",
       "    <tr>\n",
       "      <th>1</th>\n",
       "      <td>ANKYI</td>\n",
       "      <td>Urban</td>\n",
       "      <td>Non-public</td>\n",
       "      <td>Standard</td>\n",
       "      <td>20.0</td>\n",
       "      <td>3JIVH</td>\n",
       "      <td>Does not qualify</td>\n",
       "      <td>66.0</td>\n",
       "      <td>79.0</td>\n",
       "    </tr>\n",
       "    <tr>\n",
       "      <th>2</th>\n",
       "      <td>ANKYI</td>\n",
       "      <td>Urban</td>\n",
       "      <td>Non-public</td>\n",
       "      <td>Standard</td>\n",
       "      <td>20.0</td>\n",
       "      <td>3XOWE</td>\n",
       "      <td>Does not qualify</td>\n",
       "      <td>64.0</td>\n",
       "      <td>76.0</td>\n",
       "    </tr>\n",
       "    <tr>\n",
       "      <th>3</th>\n",
       "      <td>ANKYI</td>\n",
       "      <td>Urban</td>\n",
       "      <td>Non-public</td>\n",
       "      <td>Standard</td>\n",
       "      <td>20.0</td>\n",
       "      <td>556O0</td>\n",
       "      <td>Does not qualify</td>\n",
       "      <td>61.0</td>\n",
       "      <td>77.0</td>\n",
       "    </tr>\n",
       "    <tr>\n",
       "      <th>4</th>\n",
       "      <td>ANKYI</td>\n",
       "      <td>Urban</td>\n",
       "      <td>Non-public</td>\n",
       "      <td>Standard</td>\n",
       "      <td>20.0</td>\n",
       "      <td>74LOE</td>\n",
       "      <td>Does not qualify</td>\n",
       "      <td>64.0</td>\n",
       "      <td>76.0</td>\n",
       "    </tr>\n",
       "  </tbody>\n",
       "</table>\n",
       "</div>"
      ],
      "text/plain": [
       "  school school_setting school_type teaching_method  n_student student_id  \\\n",
       "0  ANKYI          Urban  Non-public        Standard       20.0      2FHT3   \n",
       "1  ANKYI          Urban  Non-public        Standard       20.0      3JIVH   \n",
       "2  ANKYI          Urban  Non-public        Standard       20.0      3XOWE   \n",
       "3  ANKYI          Urban  Non-public        Standard       20.0      556O0   \n",
       "4  ANKYI          Urban  Non-public        Standard       20.0      74LOE   \n",
       "\n",
       "              lunch  pretest  posttest  \n",
       "0  Does not qualify     62.0      72.0  \n",
       "1  Does not qualify     66.0      79.0  \n",
       "2  Does not qualify     64.0      76.0  \n",
       "3  Does not qualify     61.0      77.0  \n",
       "4  Does not qualify     64.0      76.0  "
      ]
     },
     "execution_count": 14,
     "metadata": {},
     "output_type": "execute_result"
    }
   ],
   "source": [
    "df.head()"
   ]
  },
  {
   "cell_type": "markdown",
   "id": "sophisticated-catholic",
   "metadata": {
    "papermill": {
     "duration": 0.036604,
     "end_time": "2022-01-07T06:05:15.337871",
     "exception": false,
     "start_time": "2022-01-07T06:05:15.301267",
     "status": "completed"
    },
    "tags": []
   },
   "source": [
    "DATA VISUALIZATION"
   ]
  },
  {
   "cell_type": "code",
   "execution_count": 15,
   "id": "instant-marsh",
   "metadata": {
    "execution": {
     "iopub.execute_input": "2022-01-07T06:05:15.411589Z",
     "iopub.status.busy": "2022-01-07T06:05:15.410605Z",
     "iopub.status.idle": "2022-01-07T06:05:15.652401Z",
     "shell.execute_reply": "2022-01-07T06:05:15.653032Z",
     "shell.execute_reply.started": "2021-06-25T12:27:39.83966Z"
    },
    "papermill": {
     "duration": 0.280474,
     "end_time": "2022-01-07T06:05:15.653211",
     "exception": false,
     "start_time": "2022-01-07T06:05:15.372737",
     "status": "completed"
    },
    "tags": []
   },
   "outputs": [
    {
     "data": {
      "text/plain": [
       "<AxesSubplot:xlabel='school_setting', ylabel='count'>"
      ]
     },
     "execution_count": 15,
     "metadata": {},
     "output_type": "execute_result"
    },
    {
     "data": {
      "image/png": "[encoded data removed]",
      "text/plain": [
       "<Figure size 720x432 with 1 Axes>"
      ]
     },
     "metadata": {},
     "output_type": "display_data"
    }
   ],
   "source": [
    "plt.figure(figsize=(10, 6))\n",
    "sns.countplot(x = df['school_setting'], hue = df['school_type'], palette=\"magma\")"
   ]
  },
  {
   "cell_type": "code",
   "execution_count": 16,
   "id": "cooperative-upset",
   "metadata": {
    "execution": {
     "iopub.execute_input": "2022-01-07T06:05:15.730453Z",
     "iopub.status.busy": "2022-01-07T06:05:15.729489Z",
     "iopub.status.idle": "2022-01-07T06:05:15.900622Z",
     "shell.execute_reply": "2022-01-07T06:05:15.901136Z",
     "shell.execute_reply.started": "2021-06-25T12:27:40.067694Z"
    },
    "papermill": {
     "duration": 0.211367,
     "end_time": "2022-01-07T06:05:15.901342",
     "exception": false,
     "start_time": "2022-01-07T06:05:15.689975",
     "status": "completed"
    },
    "tags": []
   },
   "outputs": [
    {
     "data": {
      "text/plain": [
       "<AxesSubplot:xlabel='teaching_method', ylabel='count'>"
      ]
     },
     "execution_count": 16,
     "metadata": {},
     "output_type": "execute_result"
    },
    {
     "data": {
      "image/png": "[encoded data removed]",
      "text/plain": [
       "<Figure size 720x432 with 1 Axes>"
      ]
     },
     "metadata": {},
     "output_type": "display_data"
    }
   ],
   "source": [
    "plt.figure(figsize=(10, 6))\n",
    "sns.countplot(x = df[\"teaching_method\"], hue = df[\"school_type\"], palette=\"magma\")"
   ]
  },
  {
   "cell_type": "code",
   "execution_count": 17,
   "id": "above-brunei",
   "metadata": {
    "execution": {
     "iopub.execute_input": "2022-01-07T06:05:15.980085Z",
     "iopub.status.busy": "2022-01-07T06:05:15.979104Z",
     "iopub.status.idle": "2022-01-07T06:05:16.843368Z",
     "shell.execute_reply": "2022-01-07T06:05:16.843885Z",
     "shell.execute_reply.started": "2021-06-25T12:27:40.261674Z"
    },
    "papermill": {
     "duration": 0.90536,
     "end_time": "2022-01-07T06:05:16.844057",
     "exception": false,
     "start_time": "2022-01-07T06:05:15.938697",
     "status": "completed"
    },
    "tags": []
   },
   "outputs": [
    {
     "data": {
      "text/plain": [
       "<AxesSubplot:xlabel='n_student', ylabel='posttest'>"
      ]
     },
     "execution_count": 17,
     "metadata": {},
     "output_type": "execute_result"
    },
    {
     "data": {
      "image/png": "[encoded data removed]",
      "text/plain": [
       "<Figure size 720x432 with 1 Axes>"
      ]
     },
     "metadata": {},
     "output_type": "display_data"
    }
   ],
   "source": [
    "plt.figure(figsize=(10, 6))\n",
    "sns.boxplot(x = df[\"n_student\"], y = df['posttest'], hue = df[\"school_type\"])"
   ]
  },
  {
   "cell_type": "code",
   "execution_count": 18,
   "id": "comparable-venue",
   "metadata": {
    "execution": {
     "iopub.execute_input": "2022-01-07T06:05:16.928347Z",
     "iopub.status.busy": "2022-01-07T06:05:16.927665Z",
     "iopub.status.idle": "2022-01-07T06:05:17.676453Z",
     "shell.execute_reply": "2022-01-07T06:05:17.675887Z",
     "shell.execute_reply.started": "2021-06-25T12:27:41.100395Z"
    },
    "papermill": {
     "duration": 0.791381,
     "end_time": "2022-01-07T06:05:17.676605",
     "exception": false,
     "start_time": "2022-01-07T06:05:16.885224",
     "status": "completed"
    },
    "tags": []
   },
   "outputs": [
    {
     "data": {
      "text/plain": [
       "<AxesSubplot:xlabel='n_student', ylabel='pretest'>"
      ]
     },
     "execution_count": 18,
     "metadata": {},
     "output_type": "execute_result"
    },
    {
     "data": {
      "image/png": "[encoded data removed]",
      "text/plain": [
       "<Figure size 720x432 with 1 Axes>"
      ]
     },
     "metadata": {},
     "output_type": "display_data"
    }
   ],
   "source": [
    "plt.figure(figsize=(10, 6))\n",
    "sns.boxplot(x = df['n_student'], y = df['pretest'], hue = df['school_type'])"
   ]
  },
  {
   "cell_type": "code",
   "execution_count": 19,
   "id": "fossil-consistency",
   "metadata": {
    "execution": {
     "iopub.execute_input": "2022-01-07T06:05:17.760726Z",
     "iopub.status.busy": "2022-01-07T06:05:17.759760Z",
     "iopub.status.idle": "2022-01-07T06:05:18.207405Z",
     "shell.execute_reply": "2022-01-07T06:05:18.207897Z",
     "shell.execute_reply.started": "2021-06-25T12:27:41.970259Z"
    },
    "papermill": {
     "duration": 0.491208,
     "end_time": "2022-01-07T06:05:18.208078",
     "exception": false,
     "start_time": "2022-01-07T06:05:17.716870",
     "status": "completed"
    },
    "tags": []
   },
   "outputs": [
    {
     "name": "stderr",
     "output_type": "stream",
     "text": [
      "/opt/conda/lib/python3.7/site-packages/seaborn/_decorators.py:43: FutureWarning: Pass the following variables as keyword args: x, y. From version 0.12, the only valid positional argument will be `data`, and passing other arguments without an explicit keyword will result in an error or misinterpretation.\n",
      "  FutureWarning\n"
     ]
    },
    {
     "data": {
      "text/plain": [
       "<matplotlib.legend.Legend at 0x7f4380d2c090>"
      ]
     },
     "execution_count": 19,
     "metadata": {},
     "output_type": "execute_result"
    },
    {
     "data": {
      "image/png": "[encoded data removed]",
      "text/plain": [
       "<Figure size 1152x576 with 1 Axes>"
      ]
     },
     "metadata": {},
     "output_type": "display_data"
    }
   ],
   "source": [
    "plt.figure(figsize=(16, 8))\n",
    "sns.scatterplot(df['pretest'], df['posttest'], hue=df['school_setting'])\n",
    "plt.legend()"
   ]
  },
  {
   "cell_type": "code",
   "execution_count": 20,
   "id": "emotional-heather",
   "metadata": {
    "execution": {
     "iopub.execute_input": "2022-01-07T06:05:18.303905Z",
     "iopub.status.busy": "2022-01-07T06:05:18.303073Z",
     "iopub.status.idle": "2022-01-07T06:05:18.317965Z",
     "shell.execute_reply": "2022-01-07T06:05:18.317449Z",
     "shell.execute_reply.started": "2021-06-25T12:27:42.453182Z"
    },
    "papermill": {
     "duration": 0.06491,
     "end_time": "2022-01-07T06:05:18.318108",
     "exception": false,
     "start_time": "2022-01-07T06:05:18.253198",
     "status": "completed"
    },
    "tags": []
   },
   "outputs": [
    {
     "name": "stdout",
     "output_type": "stream",
     "text": [
      "12.146272855133617\n"
     ]
    }
   ],
   "source": [
    "pretest_m = df['pretest'].describe()\n",
    "posttest_m = df['posttest'].describe()\n",
    "\n",
    "avg_mean = posttest_m - pretest_m\n",
    "print(avg_mean[\"mean\"])"
   ]
  },
  {
   "cell_type": "code",
   "execution_count": 21,
   "id": "advanced-storm",
   "metadata": {
    "execution": {
     "iopub.execute_input": "2022-01-07T06:05:18.435477Z",
     "iopub.status.busy": "2022-01-07T06:05:18.418633Z",
     "iopub.status.idle": "2022-01-07T06:05:18.765709Z",
     "shell.execute_reply": "2022-01-07T06:05:18.765135Z",
     "shell.execute_reply.started": "2021-06-25T12:27:42.468596Z"
    },
    "papermill": {
     "duration": 0.402755,
     "end_time": "2022-01-07T06:05:18.765850",
     "exception": false,
     "start_time": "2022-01-07T06:05:18.363095",
     "status": "completed"
    },
    "tags": []
   },
   "outputs": [
    {
     "data": {
      "image/png": "[encoded data removed]",
      "text/plain": [
       "<Figure size 1152x432 with 1 Axes>"
      ]
     },
     "metadata": {},
     "output_type": "display_data"
    }
   ],
   "source": [
    "plt.figure(figsize=(16, 6))\n",
    "\n",
    "ax = sns.kdeplot(df[\"pretest\"], shade = True, fill=True, label=\"Pretest\")\n",
    "ax = sns.kdeplot(df[\"posttest\"], shade = True, fill = True, label = \"Posttest\")\n",
    "\n",
    "plt.axvline(posttest_m['mean'], linestyle = \"--\", color = \"orange\", label = \"Posttest_Mean\")\n",
    "plt.axvline(pretest_m[\"mean\"], linestyle=\"--\", color = \"#5D8BBA\", label = \"Pretest_mean\")\n",
    "\n",
    "plt.title(\"Distribution of pretest and posttest\")\n",
    "plt.legend()\n",
    "plt.show()"
   ]
  },
  {
   "cell_type": "code",
   "execution_count": 22,
   "id": "indie-notion",
   "metadata": {
    "execution": {
     "iopub.execute_input": "2022-01-07T06:05:18.866778Z",
     "iopub.status.busy": "2022-01-07T06:05:18.866111Z",
     "iopub.status.idle": "2022-01-07T06:05:18.921010Z",
     "shell.execute_reply": "2022-01-07T06:05:18.920501Z",
     "shell.execute_reply.started": "2021-06-25T12:27:42.956164Z"
    },
    "papermill": {
     "duration": 0.107734,
     "end_time": "2022-01-07T06:05:18.921153",
     "exception": false,
     "start_time": "2022-01-07T06:05:18.813419",
     "status": "completed"
    },
    "tags": []
   },
   "outputs": [
    {
     "data": {
      "text/html": [
       "<div>\n",
       "<style scoped>\n",
       "    .dataframe tbody tr th:only-of-type {\n",
       "        vertical-align: middle;\n",
       "    }\n",
       "\n",
       "    .dataframe tbody tr th {\n",
       "        vertical-align: top;\n",
       "    }\n",
       "\n",
       "    .dataframe thead th {\n",
       "        text-align: right;\n",
       "    }\n",
       "</style>\n",
       "<table border=\"1\" class=\"dataframe\">\n",
       "  <thead>\n",
       "    <tr style=\"text-align: right;\">\n",
       "      <th></th>\n",
       "      <th>n_student</th>\n",
       "      <th>pretest</th>\n",
       "      <th>school_ANKYI</th>\n",
       "      <th>school_CCAAW</th>\n",
       "      <th>school_CIMBB</th>\n",
       "      <th>school_CUQAM</th>\n",
       "      <th>school_DNQDD</th>\n",
       "      <th>school_FBUMG</th>\n",
       "      <th>school_GJJHK</th>\n",
       "      <th>school_GOKXL</th>\n",
       "      <th>...</th>\n",
       "      <th>student_id_ZTROF</th>\n",
       "      <th>student_id_ZU75P</th>\n",
       "      <th>student_id_ZUFG3</th>\n",
       "      <th>student_id_ZVCQ8</th>\n",
       "      <th>student_id_ZVM0Q</th>\n",
       "      <th>student_id_ZX8TB</th>\n",
       "      <th>student_id_ZY9X3</th>\n",
       "      <th>student_id_ZZGRB</th>\n",
       "      <th>lunch_Does not qualify</th>\n",
       "      <th>lunch_Qualifies for reduced/free lunch</th>\n",
       "    </tr>\n",
       "  </thead>\n",
       "  <tbody>\n",
       "    <tr>\n",
       "      <th>0</th>\n",
       "      <td>20.0</td>\n",
       "      <td>62.0</td>\n",
       "      <td>1</td>\n",
       "      <td>0</td>\n",
       "      <td>0</td>\n",
       "      <td>0</td>\n",
       "      <td>0</td>\n",
       "      <td>0</td>\n",
       "      <td>0</td>\n",
       "      <td>0</td>\n",
       "      <td>...</td>\n",
       "      <td>0</td>\n",
       "      <td>0</td>\n",
       "      <td>0</td>\n",
       "      <td>0</td>\n",
       "      <td>0</td>\n",
       "      <td>0</td>\n",
       "      <td>0</td>\n",
       "      <td>0</td>\n",
       "      <td>1</td>\n",
       "      <td>0</td>\n",
       "    </tr>\n",
       "    <tr>\n",
       "      <th>1</th>\n",
       "      <td>20.0</td>\n",
       "      <td>66.0</td>\n",
       "      <td>1</td>\n",
       "      <td>0</td>\n",
       "      <td>0</td>\n",
       "      <td>0</td>\n",
       "      <td>0</td>\n",
       "      <td>0</td>\n",
       "      <td>0</td>\n",
       "      <td>0</td>\n",
       "      <td>...</td>\n",
       "      <td>0</td>\n",
       "      <td>0</td>\n",
       "      <td>0</td>\n",
       "      <td>0</td>\n",
       "      <td>0</td>\n",
       "      <td>0</td>\n",
       "      <td>0</td>\n",
       "      <td>0</td>\n",
       "      <td>1</td>\n",
       "      <td>0</td>\n",
       "    </tr>\n",
       "    <tr>\n",
       "      <th>2</th>\n",
       "      <td>20.0</td>\n",
       "      <td>64.0</td>\n",
       "      <td>1</td>\n",
       "      <td>0</td>\n",
       "      <td>0</td>\n",
       "      <td>0</td>\n",
       "      <td>0</td>\n",
       "      <td>0</td>\n",
       "      <td>0</td>\n",
       "      <td>0</td>\n",
       "      <td>...</td>\n",
       "      <td>0</td>\n",
       "      <td>0</td>\n",
       "      <td>0</td>\n",
       "      <td>0</td>\n",
       "      <td>0</td>\n",
       "      <td>0</td>\n",
       "      <td>0</td>\n",
       "      <td>0</td>\n",
       "      <td>1</td>\n",
       "      <td>0</td>\n",
       "    </tr>\n",
       "    <tr>\n",
       "      <th>3</th>\n",
       "      <td>20.0</td>\n",
       "      <td>61.0</td>\n",
       "      <td>1</td>\n",
       "      <td>0</td>\n",
       "      <td>0</td>\n",
       "      <td>0</td>\n",
       "      <td>0</td>\n",
       "      <td>0</td>\n",
       "      <td>0</td>\n",
       "      <td>0</td>\n",
       "      <td>...</td>\n",
       "      <td>0</td>\n",
       "      <td>0</td>\n",
       "      <td>0</td>\n",
       "      <td>0</td>\n",
       "      <td>0</td>\n",
       "      <td>0</td>\n",
       "      <td>0</td>\n",
       "      <td>0</td>\n",
       "      <td>1</td>\n",
       "      <td>0</td>\n",
       "    </tr>\n",
       "    <tr>\n",
       "      <th>4</th>\n",
       "      <td>20.0</td>\n",
       "      <td>64.0</td>\n",
       "      <td>1</td>\n",
       "      <td>0</td>\n",
       "      <td>0</td>\n",
       "      <td>0</td>\n",
       "      <td>0</td>\n",
       "      <td>0</td>\n",
       "      <td>0</td>\n",
       "      <td>0</td>\n",
       "      <td>...</td>\n",
       "      <td>0</td>\n",
       "      <td>0</td>\n",
       "      <td>0</td>\n",
       "      <td>0</td>\n",
       "      <td>0</td>\n",
       "      <td>0</td>\n",
       "      <td>0</td>\n",
       "      <td>0</td>\n",
       "      <td>1</td>\n",
       "      <td>0</td>\n",
       "    </tr>\n",
       "  </tbody>\n",
       "</table>\n",
       "<p>5 rows × 2167 columns</p>\n",
       "</div>"
      ],
      "text/plain": [
       "   n_student  pretest  school_ANKYI  school_CCAAW  school_CIMBB  school_CUQAM  \\\n",
       "0       20.0     62.0             1             0             0             0   \n",
       "1       20.0     66.0             1             0             0             0   \n",
       "2       20.0     64.0             1             0             0             0   \n",
       "3       20.0     61.0             1             0             0             0   \n",
       "4       20.0     64.0             1             0             0             0   \n",
       "\n",
       "   school_DNQDD  school_FBUMG  school_GJJHK  school_GOKXL  ...  \\\n",
       "0             0             0             0             0  ...   \n",
       "1             0             0             0             0  ...   \n",
       "2             0             0             0             0  ...   \n",
       "3             0             0             0             0  ...   \n",
       "4             0             0             0             0  ...   \n",
       "\n",
       "   student_id_ZTROF  student_id_ZU75P  student_id_ZUFG3  student_id_ZVCQ8  \\\n",
       "0                 0                 0                 0                 0   \n",
       "1                 0                 0                 0                 0   \n",
       "2                 0                 0                 0                 0   \n",
       "3                 0                 0                 0                 0   \n",
       "4                 0                 0                 0                 0   \n",
       "\n",
       "   student_id_ZVM0Q  student_id_ZX8TB  student_id_ZY9X3  student_id_ZZGRB  \\\n",
       "0                 0                 0                 0                 0   \n",
       "1                 0                 0                 0                 0   \n",
       "2                 0                 0                 0                 0   \n",
       "3                 0                 0                 0                 0   \n",
       "4                 0                 0                 0                 0   \n",
       "\n",
       "   lunch_Does not qualify  lunch_Qualifies for reduced/free lunch  \n",
       "0                       1                                       0  \n",
       "1                       1                                       0  \n",
       "2                       1                                       0  \n",
       "3                       1                                       0  \n",
       "4                       1                                       0  \n",
       "\n",
       "[5 rows x 2167 columns]"
      ]
     },
     "execution_count": 22,
     "metadata": {},
     "output_type": "execute_result"
    }
   ],
   "source": [
    "x = df.drop(\"posttest\", axis=1) #seprate the independent values in given dataframe\n",
    "y = df['posttest']  #seprate the dependent values in the given dataframw\n",
    "\n",
    "x = pd.get_dummies(x)  #fill the dummy values in independent features\n",
    "x.head()"
   ]
  },
  {
   "cell_type": "code",
   "execution_count": 23,
   "id": "direct-general",
   "metadata": {
    "execution": {
     "iopub.execute_input": "2022-01-07T06:05:19.023010Z",
     "iopub.status.busy": "2022-01-07T06:05:19.022137Z",
     "iopub.status.idle": "2022-01-07T06:05:19.473810Z",
     "shell.execute_reply": "2022-01-07T06:05:19.473164Z",
     "shell.execute_reply.started": "2021-06-25T12:27:43.018302Z"
    },
    "papermill": {
     "duration": 0.505059,
     "end_time": "2022-01-07T06:05:19.473980",
     "exception": false,
     "start_time": "2022-01-07T06:05:18.968921",
     "status": "completed"
    },
    "tags": []
   },
   "outputs": [],
   "source": [
    "#Import the Required machine-learning libraries\n",
    "from sklearn.model_selection import train_test_split, GridSearchCV\n",
    "from sklearn.tree import DecisionTreeRegressor\n",
    "from sklearn.ensemble import RandomForestRegressor\n",
    "from sklearn.metrics import mean_absolute_error, mean_squared_error, r2_score, classification_report\n",
    "from sklearn.preprocessing import StandardScaler"
   ]
  },
  {
   "cell_type": "code",
   "execution_count": 24,
   "id": "administrative-journey",
   "metadata": {
    "execution": {
     "iopub.execute_input": "2022-01-07T06:05:19.577589Z",
     "iopub.status.busy": "2022-01-07T06:05:19.576900Z",
     "iopub.status.idle": "2022-01-07T06:05:19.620898Z",
     "shell.execute_reply": "2022-01-07T06:05:19.620284Z",
     "shell.execute_reply.started": "2021-06-25T12:27:43.145876Z"
    },
    "papermill": {
     "duration": 0.098965,
     "end_time": "2022-01-07T06:05:19.621054",
     "exception": false,
     "start_time": "2022-01-07T06:05:19.522089",
     "status": "completed"
    },
    "tags": []
   },
   "outputs": [],
   "source": [
    "X_train, X_test, y_train, y_test = train_test_split(x, y, test_size=0.30, random_state=101)"
   ]
  },
  {
   "cell_type": "code",
   "execution_count": 25,
   "id": "plastic-bradford",
   "metadata": {
    "execution": {
     "iopub.execute_input": "2022-01-07T06:05:19.723007Z",
     "iopub.status.busy": "2022-01-07T06:05:19.722363Z",
     "iopub.status.idle": "2022-01-07T06:05:19.726033Z",
     "shell.execute_reply": "2022-01-07T06:05:19.725386Z",
     "shell.execute_reply.started": "2021-06-25T12:27:43.193449Z"
    },
    "papermill": {
     "duration": 0.056309,
     "end_time": "2022-01-07T06:05:19.726179",
     "exception": false,
     "start_time": "2022-01-07T06:05:19.669870",
     "status": "completed"
    },
    "tags": []
   },
   "outputs": [
    {
     "data": {
      "text/plain": [
       "(1493, 2167)"
      ]
     },
     "execution_count": 25,
     "metadata": {},
     "output_type": "execute_result"
    }
   ],
   "source": [
    "X_train.shape"
   ]
  },
  {
   "cell_type": "code",
   "execution_count": 26,
   "id": "competent-bottom",
   "metadata": {
    "execution": {
     "iopub.execute_input": "2022-01-07T06:05:19.827837Z",
     "iopub.status.busy": "2022-01-07T06:05:19.827170Z",
     "iopub.status.idle": "2022-01-07T06:05:19.831578Z",
     "shell.execute_reply": "2022-01-07T06:05:19.831064Z",
     "shell.execute_reply.started": "2021-06-25T12:27:43.202561Z"
    },
    "papermill": {
     "duration": 0.057188,
     "end_time": "2022-01-07T06:05:19.831721",
     "exception": false,
     "start_time": "2022-01-07T06:05:19.774533",
     "status": "completed"
    },
    "tags": []
   },
   "outputs": [
    {
     "data": {
      "text/plain": [
       "(640, 2167)"
      ]
     },
     "execution_count": 26,
     "metadata": {},
     "output_type": "execute_result"
    }
   ],
   "source": [
    "X_test.shape"
   ]
  },
  {
   "cell_type": "code",
   "execution_count": 27,
   "id": "published-ideal",
   "metadata": {
    "execution": {
     "iopub.execute_input": "2022-01-07T06:05:19.933029Z",
     "iopub.status.busy": "2022-01-07T06:05:19.932413Z",
     "iopub.status.idle": "2022-01-07T06:05:19.935800Z",
     "shell.execute_reply": "2022-01-07T06:05:19.936296Z",
     "shell.execute_reply.started": "2021-06-25T12:27:43.218184Z"
    },
    "papermill": {
     "duration": 0.056308,
     "end_time": "2022-01-07T06:05:19.936470",
     "exception": false,
     "start_time": "2022-01-07T06:05:19.880162",
     "status": "completed"
    },
    "tags": []
   },
   "outputs": [
    {
     "data": {
      "text/plain": [
       "(1493,)"
      ]
     },
     "execution_count": 27,
     "metadata": {},
     "output_type": "execute_result"
    }
   ],
   "source": [
    "y_train.shape"
   ]
  },
  {
   "cell_type": "code",
   "execution_count": 28,
   "id": "close-cyprus",
   "metadata": {
    "execution": {
     "iopub.execute_input": "2022-01-07T06:05:20.040049Z",
     "iopub.status.busy": "2022-01-07T06:05:20.039409Z",
     "iopub.status.idle": "2022-01-07T06:05:20.042610Z",
     "shell.execute_reply": "2022-01-07T06:05:20.043189Z",
     "shell.execute_reply.started": "2021-06-25T12:27:43.232321Z"
    },
    "papermill": {
     "duration": 0.057705,
     "end_time": "2022-01-07T06:05:20.043377",
     "exception": false,
     "start_time": "2022-01-07T06:05:19.985672",
     "status": "completed"
    },
    "tags": []
   },
   "outputs": [
    {
     "data": {
      "text/plain": [
       "(640,)"
      ]
     },
     "execution_count": 28,
     "metadata": {},
     "output_type": "execute_result"
    }
   ],
   "source": [
    "y_test.shape"
   ]
  },
  {
   "cell_type": "code",
   "execution_count": 29,
   "id": "marine-paper",
   "metadata": {
    "execution": {
     "iopub.execute_input": "2022-01-07T06:05:20.166127Z",
     "iopub.status.busy": "2022-01-07T06:05:20.165449Z",
     "iopub.status.idle": "2022-01-07T06:05:20.338518Z",
     "shell.execute_reply": "2022-01-07T06:05:20.339011Z",
     "shell.execute_reply.started": "2021-06-25T12:27:43.244331Z"
    },
    "papermill": {
     "duration": 0.247031,
     "end_time": "2022-01-07T06:05:20.339196",
     "exception": false,
     "start_time": "2022-01-07T06:05:20.092165",
     "status": "completed"
    },
    "tags": []
   },
   "outputs": [],
   "source": [
    "ss = StandardScaler()\n",
    "X_train_s = ss.fit_transform(X_train)\n",
    "X_test_s = ss.fit_transform(X_test)"
   ]
  },
  {
   "cell_type": "code",
   "execution_count": 30,
   "id": "southeast-society",
   "metadata": {
    "execution": {
     "iopub.execute_input": "2022-01-07T06:05:20.444013Z",
     "iopub.status.busy": "2022-01-07T06:05:20.443366Z",
     "iopub.status.idle": "2022-01-07T06:05:20.447988Z",
     "shell.execute_reply": "2022-01-07T06:05:20.447365Z",
     "shell.execute_reply.started": "2021-06-25T12:27:43.453414Z"
    },
    "papermill": {
     "duration": 0.059146,
     "end_time": "2022-01-07T06:05:20.448132",
     "exception": false,
     "start_time": "2022-01-07T06:05:20.388986",
     "status": "completed"
    },
    "tags": []
   },
   "outputs": [
    {
     "data": {
      "text/plain": [
       "array([[-0.20668642,  1.26702632, -0.14799597, ...,  0.        ,\n",
       "         0.8840944 , -0.8840944 ],\n",
       "       [-0.44351131,  0.82184014, -0.14799597, ...,  0.        ,\n",
       "         0.8840944 , -0.8840944 ],\n",
       "       [-1.62763576, -0.51371842, -0.14799597, ...,  0.        ,\n",
       "        -1.13110093,  1.13110093],\n",
       "       ...,\n",
       "       [-0.20668642,  0.30245625, -0.14799597, ...,  0.        ,\n",
       "         0.8840944 , -0.8840944 ],\n",
       "       [-1.15398598,  1.56381712, -0.14799597, ...,  0.        ,\n",
       "         0.8840944 , -0.8840944 ],\n",
       "       [-0.44351131,  1.34122402, -0.14799597, ...,  0.        ,\n",
       "         0.8840944 , -0.8840944 ]])"
      ]
     },
     "execution_count": 30,
     "metadata": {},
     "output_type": "execute_result"
    }
   ],
   "source": [
    "X_train_s"
   ]
  },
  {
   "cell_type": "code",
   "execution_count": 31,
   "id": "continued-madrid",
   "metadata": {
    "execution": {
     "iopub.execute_input": "2022-01-07T06:05:20.553223Z",
     "iopub.status.busy": "2022-01-07T06:05:20.552593Z",
     "iopub.status.idle": "2022-01-07T06:05:20.555594Z",
     "shell.execute_reply": "2022-01-07T06:05:20.556167Z",
     "shell.execute_reply.started": "2021-06-25T12:27:43.462403Z"
    },
    "papermill": {
     "duration": 0.05873,
     "end_time": "2022-01-07T06:05:20.556442",
     "exception": false,
     "start_time": "2022-01-07T06:05:20.497712",
     "status": "completed"
    },
    "tags": []
   },
   "outputs": [
    {
     "data": {
      "text/plain": [
       "array([[ 0.09002192,  1.08863918, -0.11942811, ..., -0.03955939,\n",
       "         0.83523214, -0.83523214],\n",
       "       [-0.38222423,  1.30682156, -0.11942811, ..., -0.03955939,\n",
       "         0.83523214, -0.83523214],\n",
       "       [-0.6183473 , -0.29318258, -0.11942811, ..., -0.03955939,\n",
       "         0.83523214, -0.83523214],\n",
       "       ...,\n",
       "       [-1.09059346,  1.52500394, -0.11942811, ..., -0.03955939,\n",
       "         0.83523214, -0.83523214],\n",
       "       [-1.09059346,  1.37954902, -0.11942811, ..., -0.03955939,\n",
       "         0.83523214, -0.83523214],\n",
       "       [ 0.56226807, -1.02045718, -0.11942811, ..., -0.03955939,\n",
       "        -1.19727193,  1.19727193]])"
      ]
     },
     "execution_count": 31,
     "metadata": {},
     "output_type": "execute_result"
    }
   ],
   "source": [
    "X_test_s"
   ]
  },
  {
   "cell_type": "code",
   "execution_count": 32,
   "id": "serial-breeding",
   "metadata": {
    "execution": {
     "iopub.execute_input": "2022-01-07T06:05:20.662538Z",
     "iopub.status.busy": "2022-01-07T06:05:20.660314Z",
     "iopub.status.idle": "2022-01-07T06:05:22.489582Z",
     "shell.execute_reply": "2022-01-07T06:05:22.488996Z",
     "shell.execute_reply.started": "2021-06-25T12:27:43.481325Z"
    },
    "papermill": {
     "duration": 1.883096,
     "end_time": "2022-01-07T06:05:22.489747",
     "exception": false,
     "start_time": "2022-01-07T06:05:20.606651",
     "status": "completed"
    },
    "tags": []
   },
   "outputs": [],
   "source": [
    "rf = RandomForestRegressor(max_depth=6)\n",
    "rf.fit(X_train_s, y_train)\n",
    "rf_pred = rf.predict(X_test_s)"
   ]
  },
  {
   "cell_type": "code",
   "execution_count": 33,
   "id": "statutory-writer",
   "metadata": {
    "execution": {
     "iopub.execute_input": "2022-01-07T06:05:22.597227Z",
     "iopub.status.busy": "2022-01-07T06:05:22.596584Z",
     "iopub.status.idle": "2022-01-07T06:05:22.598962Z",
     "shell.execute_reply": "2022-01-07T06:05:22.599606Z",
     "shell.execute_reply.started": "2021-06-25T12:27:45.330429Z"
    },
    "papermill": {
     "duration": 0.057371,
     "end_time": "2022-01-07T06:05:22.599783",
     "exception": false,
     "start_time": "2022-01-07T06:05:22.542412",
     "status": "completed"
    },
    "tags": []
   },
   "outputs": [],
   "source": [
    "#rf_pred"
   ]
  },
  {
   "cell_type": "code",
   "execution_count": 34,
   "id": "mysterious-kuwait",
   "metadata": {
    "execution": {
     "iopub.execute_input": "2022-01-07T06:05:22.704969Z",
     "iopub.status.busy": "2022-01-07T06:05:22.704205Z",
     "iopub.status.idle": "2022-01-07T06:05:22.748057Z",
     "shell.execute_reply": "2022-01-07T06:05:22.747305Z",
     "shell.execute_reply.started": "2021-06-25T12:27:45.335644Z"
    },
    "papermill": {
     "duration": 0.098424,
     "end_time": "2022-01-07T06:05:22.748205",
     "exception": false,
     "start_time": "2022-01-07T06:05:22.649781",
     "status": "completed"
    },
    "tags": []
   },
   "outputs": [],
   "source": [
    "dt = DecisionTreeRegressor(max_depth=6)\n",
    "dt.fit(X_train_s, y_train)\n",
    "dt_pred = dt.predict(X_test_s)"
   ]
  },
  {
   "cell_type": "code",
   "execution_count": 35,
   "id": "whole-energy",
   "metadata": {
    "execution": {
     "iopub.execute_input": "2022-01-07T06:05:22.853195Z",
     "iopub.status.busy": "2022-01-07T06:05:22.852568Z",
     "iopub.status.idle": "2022-01-07T06:05:22.856173Z",
     "shell.execute_reply": "2022-01-07T06:05:22.855653Z",
     "shell.execute_reply.started": "2021-06-25T12:27:45.390973Z"
    },
    "papermill": {
     "duration": 0.057778,
     "end_time": "2022-01-07T06:05:22.856360",
     "exception": false,
     "start_time": "2022-01-07T06:05:22.798582",
     "status": "completed"
    },
    "tags": []
   },
   "outputs": [],
   "source": [
    "#dt_pred"
   ]
  },
  {
   "cell_type": "code",
   "execution_count": 36,
   "id": "later-japan",
   "metadata": {
    "execution": {
     "iopub.execute_input": "2022-01-07T06:05:22.960507Z",
     "iopub.status.busy": "2022-01-07T06:05:22.959544Z",
     "iopub.status.idle": "2022-01-07T06:05:22.968446Z",
     "shell.execute_reply": "2022-01-07T06:05:22.969230Z",
     "shell.execute_reply.started": "2021-06-25T12:27:45.396066Z"
    },
    "papermill": {
     "duration": 0.062473,
     "end_time": "2022-01-07T06:05:22.969481",
     "exception": false,
     "start_time": "2022-01-07T06:05:22.907008",
     "status": "completed"
    },
    "tags": []
   },
   "outputs": [
    {
     "name": "stdout",
     "output_type": "stream",
     "text": [
      "mean_absolute error of random_forest model 2.5206940597034273\n",
      "mean_squared error of random_forest model:  10.058381686479716\n",
      "r2_score of random_forest model:  0.950570543269352\n"
     ]
    }
   ],
   "source": [
    "print(\"mean_absolute error of random_forest model\", mean_absolute_error(y_test, rf_pred))\n",
    "print(\"mean_squared error of random_forest model: \", mean_squared_error(y_test, rf_pred))\n",
    "print(\"r2_score of random_forest model: \", r2_score(y_test, rf_pred))"
   ]
  },
  {
   "cell_type": "code",
   "execution_count": 37,
   "id": "governmental-father",
   "metadata": {
    "execution": {
     "iopub.execute_input": "2022-01-07T06:05:23.074857Z",
     "iopub.status.busy": "2022-01-07T06:05:23.074107Z",
     "iopub.status.idle": "2022-01-07T06:05:23.082134Z",
     "shell.execute_reply": "2022-01-07T06:05:23.082803Z",
     "shell.execute_reply.started": "2021-06-25T12:27:45.419455Z"
    },
    "papermill": {
     "duration": 0.062348,
     "end_time": "2022-01-07T06:05:23.082982",
     "exception": false,
     "start_time": "2022-01-07T06:05:23.020634",
     "status": "completed"
    },
    "tags": []
   },
   "outputs": [
    {
     "name": "stdout",
     "output_type": "stream",
     "text": [
      "mean_absolute error of DecisionTreeRegressor model:  2.672110614806155\n",
      "mean_squared error of DecisionTreeRegressor model:  11.642095674488614\n",
      "r2_score value of DecisionTreeRegressor model:  0.9427877682182488\n"
     ]
    }
   ],
   "source": [
    "print(\"mean_absolute error of DecisionTreeRegressor model: \", mean_absolute_error(y_test, dt_pred))\n",
    "print(\"mean_squared error of DecisionTreeRegressor model: \", mean_squared_error(y_test, dt_pred))\n",
    "print(\"r2_score value of DecisionTreeRegressor model: \", r2_score(y_test, dt_pred))"
   ]
  },
  {
   "cell_type": "code",
   "execution_count": null,
   "id": "strong-virgin",
   "metadata": {
    "papermill": {
     "duration": 0.050243,
     "end_time": "2022-01-07T06:05:23.184447",
     "exception": false,
     "start_time": "2022-01-07T06:05:23.134204",
     "status": "completed"
    },
    "tags": []
   },
   "outputs": [],
   "source": []
  }
 ],
 "metadata": {
  "kernelspec": {
   "display_name": "Python 3",
   "language": "python",
   "name": "python3"
  },
  "language_info": {
   "codemirror_mode": {
    "name": "ipython",
    "version": 3
   },
   "file_extension": ".py",
   "mimetype": "text/x-python",
   "name": "python",
   "nbconvert_exporter": "python",
   "pygments_lexer": "ipython3",
   "version": "3.7.10"
  },
  "papermill": {
   "default_parameters": {},
   "duration": 19.944875,
   "end_time": "2022-01-07T06:05:24.719706",
   "environment_variables": {},
   "exception": null,
   "input_path": "__notebook__.ipynb",
   "output_path": "__notebook__.ipynb",
   "parameters": {},
   "start_time": "2022-01-07T06:05:04.774831",
   "version": "2.3.3"
  }
 },
 "nbformat": 4,
 "nbformat_minor": 5
}
